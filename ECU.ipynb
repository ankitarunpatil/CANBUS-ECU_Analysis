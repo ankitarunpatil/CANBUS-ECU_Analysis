{
  "nbformat": 4,
  "nbformat_minor": 0,
  "metadata": {
    "colab": {
      "name": "ECU.ipynb",
      "provenance": [],
      "collapsed_sections": []
    },
    "kernelspec": {
      "name": "python3",
      "display_name": "Python 3"
    }
  },
  "cells": [
    {
      "cell_type": "code",
      "metadata": {
        "id": "pJOrESQRbjUe"
      },
      "source": [
        "import pandas as pd \n",
        "import numpy as np"
      ],
      "execution_count": 1,
      "outputs": []
    },
    {
      "cell_type": "code",
      "metadata": {
        "id": "hsMVmbJSu-fX",
        "outputId": "f7921fc5-bd5d-4cdb-c073-89bcc8119f09",
        "colab": {
          "base_uri": "https://localhost:8080/"
        }
      },
      "source": [
        "from google.colab import drive\n",
        "drive.mount('/content/drive')"
      ],
      "execution_count": 2,
      "outputs": [
        {
          "output_type": "stream",
          "text": [
            "Drive already mounted at /content/drive; to attempt to forcibly remount, call drive.mount(\"/content/drive\", force_remount=True).\n"
          ],
          "name": "stdout"
        }
      ]
    },
    {
      "cell_type": "code",
      "metadata": {
        "id": "ktCOFi-mb4dq",
        "outputId": "d048d410-f07c-4e2a-9cf4-008daf7948af",
        "colab": {
          "resources": {
            "http://localhost:8080/nbextensions/google.colab/files.js": {
              "data": "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",
              "ok": true,
              "headers": [
                [
                  "content-type",
                  "application/javascript"
                ]
              ],
              "status": 200,
              "status_text": ""
            }
          },
          "base_uri": "https://localhost:8080/",
          "height": 1000
        }
      },
      "source": [
        "from google.colab import files\n",
        "\n",
        "uploaded = files.upload()\n",
        "\n",
        "for fn in uploaded.keys():\n",
        "  print('User uploaded file \"{name}\" with length {length} bytes'.format(\n",
        "      name=fn, length=len(uploaded[fn])))"
      ],
      "execution_count": null,
      "outputs": [
        {
          "output_type": "display_data",
          "data": {
            "text/html": [
              "\n",
              "     <input type=\"file\" id=\"files-c0e65090-48f3-4833-a2e5-7eef4ee24ad4\" name=\"files[]\" multiple disabled\n",
              "        style=\"border:none\" />\n",
              "     <output id=\"result-c0e65090-48f3-4833-a2e5-7eef4ee24ad4\">\n",
              "      Upload widget is only available when the cell has been executed in the\n",
              "      current browser session. Please rerun this cell to enable.\n",
              "      </output>\n",
              "      <script src=\"/nbextensions/google.colab/files.js\"></script> "
            ],
            "text/plain": [
              "<IPython.core.display.HTML object>"
            ]
          },
          "metadata": {
            "tags": []
          }
        },
        {
          "output_type": "stream",
          "text": [
            "Saving 20180713-home2mimos.csv to 20180713-home2mimos.csv\n",
            "Saving 20180713-mimos2home.csv to 20180713-mimos2home.csv\n",
            "Saving 20180716-home2mimos.csv to 20180716-home2mimos.csv\n",
            "Saving 20180716-mimos2home.csv to 20180716-mimos2home.csv\n",
            "Saving 20180717-home2mimos.csv to 20180717-home2mimos.csv\n",
            "Saving 20180717-mimos2home.csv to 20180717-mimos2home.csv\n",
            "Saving 20180718-home2mimos.csv to 20180718-home2mimos.csv\n",
            "Saving 20180718-mimos2home.csv to 20180718-mimos2home.csv\n",
            "Saving 20180719-home2mimos.csv to 20180719-home2mimos.csv\n",
            "Saving 20180719-mimos2home.csv to 20180719-mimos2home.csv\n",
            "Saving 20180720-home2mimos.csv to 20180720-home2mimos.csv\n",
            "Saving 20180720-mimos2home.csv to 20180720-mimos2home.csv\n",
            "Saving 20180727-home2mimos.csv to 20180727-home2mimos.csv\n",
            "Saving 20180730-home2mimos.csv to 20180730-home2mimos.csv\n",
            "Saving 20180730-mimos2home.csv to 20180730-mimos2home.csv\n",
            "Saving 20180731-home2mimos.csv to 20180731-home2mimos.csv\n",
            "Saving 20180731-mimos2home.csv to 20180731-mimos2home.csv\n",
            "Saving 20180801-mimos2home.csv to 20180801-mimos2home.csv\n",
            "Saving 20180802-home2mimos.csv to 20180802-home2mimos.csv\n",
            "Saving 20180802-mimos2home.csv to 20180802-mimos2home.csv\n",
            "Saving 20180803-home2mimos.csv to 20180803-home2mimos.csv\n",
            "Saving 20180803-mimos2home.csv to 20180803-mimos2home.csv\n",
            "Saving 20180806-home2mimos.csv to 20180806-home2mimos.csv\n",
            "Saving 20180806-mimos2home.csv to 20180806-mimos2home.csv\n",
            "Saving 20180807-home2mimos.csv to 20180807-home2mimos.csv\n",
            "Saving 20180807-mimos2home.csv to 20180807-mimos2home.csv\n",
            "Saving 20180808-home2mimos.csv to 20180808-home2mimos.csv\n",
            "Saving 20180808-mimos2home.csv to 20180808-mimos2home.csv\n",
            "Saving 20180809-home2mimos.csv to 20180809-home2mimos.csv\n",
            "Saving 20180810-home2mimos.csv to 20180810-home2mimos.csv\n",
            "Saving 20180810-mimos2home.csv to 20180810-mimos2home.csv\n",
            "Saving 20180813-home2mimos.csv to 20180813-home2mimos.csv\n",
            "Saving 20180813-mimos2home.csv to 20180813-mimos2home.csv\n",
            "Saving 20180814-home2mimos.csv to 20180814-home2mimos.csv\n",
            "Saving 20180814-mimos2home.csv to 20180814-mimos2home.csv\n",
            "Saving 20180815-home2mimos.csv to 20180815-home2mimos.csv\n",
            "Saving 20180815-mimos2home.csv to 20180815-mimos2home.csv\n",
            "Saving 20180816-home2mimos.csv to 20180816-home2mimos.csv\n",
            "Saving 20180816-mimos2home.csv to 20180816-mimos2home.csv\n",
            "Saving 20180817-home2mimos.csv to 20180817-home2mimos.csv\n",
            "Saving 20180817-mimos2home.csv to 20180817-mimos2home.csv\n",
            "Saving 20180820-home2mimos.csv to 20180820-home2mimos.csv\n",
            "Saving 20180820-mimos2home.csv to 20180820-mimos2home.csv\n",
            "Saving 20180821-home2mimos.csv to 20180821-home2mimos.csv\n",
            "Saving 20180821-mimos2home.csv to 20180821-mimos2home.csv\n",
            "Saving 20180823-home2mimos.csv to 20180823-home2mimos.csv\n",
            "Saving 20180823-mimos2home.csv to 20180823-mimos2home.csv\n",
            "Saving 20180824-home2mimos.csv to 20180824-home2mimos.csv\n",
            "Saving 20180824-mimos2home.csv to 20180824-mimos2home.csv\n",
            "Saving 20180904-home2mimos.csv to 20180904-home2mimos.csv\n",
            "User uploaded file \"20180713-home2mimos.csv\" with length 4258301 bytes\n",
            "User uploaded file \"20180713-mimos2home.csv\" with length 4476034 bytes\n",
            "User uploaded file \"20180716-home2mimos.csv\" with length 2960796 bytes\n",
            "User uploaded file \"20180716-mimos2home.csv\" with length 2298348 bytes\n",
            "User uploaded file \"20180717-home2mimos.csv\" with length 2018236 bytes\n",
            "User uploaded file \"20180717-mimos2home.csv\" with length 2010814 bytes\n",
            "User uploaded file \"20180718-home2mimos.csv\" with length 2374859 bytes\n",
            "User uploaded file \"20180718-mimos2home.csv\" with length 1833148 bytes\n",
            "User uploaded file \"20180719-home2mimos.csv\" with length 1952943 bytes\n",
            "User uploaded file \"20180719-mimos2home.csv\" with length 1998550 bytes\n",
            "User uploaded file \"20180720-home2mimos.csv\" with length 1923668 bytes\n",
            "User uploaded file \"20180720-mimos2home.csv\" with length 2287539 bytes\n",
            "User uploaded file \"20180727-home2mimos.csv\" with length 1877053 bytes\n",
            "User uploaded file \"20180730-home2mimos.csv\" with length 3055376 bytes\n",
            "User uploaded file \"20180730-mimos2home.csv\" with length 2791026 bytes\n",
            "User uploaded file \"20180731-home2mimos.csv\" with length 2923476 bytes\n",
            "User uploaded file \"20180731-mimos2home.csv\" with length 3458229 bytes\n",
            "User uploaded file \"20180801-mimos2home.csv\" with length 2400524 bytes\n",
            "User uploaded file \"20180802-home2mimos.csv\" with length 2659160 bytes\n",
            "User uploaded file \"20180802-mimos2home.csv\" with length 2975542 bytes\n",
            "User uploaded file \"20180803-home2mimos.csv\" with length 1797005 bytes\n",
            "User uploaded file \"20180803-mimos2home.csv\" with length 2379285 bytes\n",
            "User uploaded file \"20180806-home2mimos.csv\" with length 2176884 bytes\n",
            "User uploaded file \"20180806-mimos2home.csv\" with length 1920752 bytes\n",
            "User uploaded file \"20180807-home2mimos.csv\" with length 2189019 bytes\n",
            "User uploaded file \"20180807-mimos2home.csv\" with length 1923831 bytes\n",
            "User uploaded file \"20180808-home2mimos.csv\" with length 1991805 bytes\n",
            "User uploaded file \"20180808-mimos2home.csv\" with length 1861493 bytes\n",
            "User uploaded file \"20180809-home2mimos.csv\" with length 1951539 bytes\n",
            "User uploaded file \"20180810-home2mimos.csv\" with length 2164782 bytes\n",
            "User uploaded file \"20180810-mimos2home.csv\" with length 1972703 bytes\n",
            "User uploaded file \"20180813-home2mimos.csv\" with length 3012951 bytes\n",
            "User uploaded file \"20180813-mimos2home.csv\" with length 1888787 bytes\n",
            "User uploaded file \"20180814-home2mimos.csv\" with length 2030361 bytes\n",
            "User uploaded file \"20180814-mimos2home.csv\" with length 2231121 bytes\n",
            "User uploaded file \"20180815-home2mimos.csv\" with length 2561879 bytes\n",
            "User uploaded file \"20180815-mimos2home.csv\" with length 1940536 bytes\n",
            "User uploaded file \"20180816-home2mimos.csv\" with length 2453730 bytes\n",
            "User uploaded file \"20180816-mimos2home.csv\" with length 1950401 bytes\n",
            "User uploaded file \"20180817-home2mimos.csv\" with length 1910001 bytes\n",
            "User uploaded file \"20180817-mimos2home.csv\" with length 2419355 bytes\n",
            "User uploaded file \"20180820-home2mimos.csv\" with length 1800139 bytes\n",
            "User uploaded file \"20180820-mimos2home.csv\" with length 3164361 bytes\n",
            "User uploaded file \"20180821-home2mimos.csv\" with length 1868512 bytes\n",
            "User uploaded file \"20180821-mimos2home.csv\" with length 1922636 bytes\n",
            "User uploaded file \"20180823-home2mimos.csv\" with length 1706037 bytes\n",
            "User uploaded file \"20180823-mimos2home.csv\" with length 2166855 bytes\n",
            "User uploaded file \"20180824-home2mimos.csv\" with length 1893562 bytes\n",
            "User uploaded file \"20180824-mimos2home.csv\" with length 1992059 bytes\n",
            "User uploaded file \"20180904-home2mimos.csv\" with length 2960134 bytes\n"
          ],
          "name": "stdout"
        }
      ]
    },
    {
      "cell_type": "code",
      "metadata": {
        "id": "uHG-kPEvh1z1"
      },
      "source": [
        "import glob\n",
        "path = r'/content/drive/My Drive/ECU_Files'\n",
        "all_files = glob.glob(path + \"/*.csv\")"
      ],
      "execution_count": 3,
      "outputs": []
    },
    {
      "cell_type": "code",
      "metadata": {
        "id": "APC5VXJUw4y6"
      },
      "source": [
        "import csv\n",
        "\n",
        "line=[]\n",
        "for files in all_files:\n",
        "    with open(files) as f:\n",
        "        reader = csv.reader(f)\n",
        "        for row in reader:\n",
        "            if 'Log' in row[0]:\n",
        "                line.append(reader.line_num)"
      ],
      "execution_count": 4,
      "outputs": []
    },
    {
      "cell_type": "code",
      "metadata": {
        "id": "wpCAjKbcxGpo",
        "outputId": "7ae7fba0-b976-4ade-ca52-974bfbed67f1",
        "colab": {
          "base_uri": "https://localhost:8080/"
        }
      },
      "source": [
        "print(line)"
      ],
      "execution_count": 5,
      "outputs": [
        {
          "output_type": "stream",
          "text": [
            "[1, 2, 84, 1, 2, 84, 1, 2, 84, 1, 2, 84, 1, 2, 84, 1, 2, 84, 1, 2, 84, 1, 2, 84, 1, 2, 63, 1, 2, 63, 1, 2, 84, 1, 2, 84, 1, 2, 84, 1, 2, 84, 1, 2, 84, 1, 2, 84, 1, 2, 84, 1, 2, 84, 1, 2, 90, 1, 2, 90, 1, 2, 90, 1, 2, 90, 1, 2, 90, 1, 2, 90, 1, 2, 90, 1, 2, 90, 1, 2, 90, 1, 2, 90, 1, 2, 90, 1, 2, 90, 1, 2, 90, 1, 2, 90, 1, 2, 90, 1, 2, 90, 1, 2, 90, 1, 2, 90, 1, 2, 90, 1, 2, 90, 1, 2, 90, 1, 2, 90, 1, 2, 90, 1, 2, 90, 1, 2, 90, 1, 2, 90, 1, 2, 90, 1, 2, 90, 1, 2, 90, 1, 2, 90, 1, 2, 90, 1, 2, 90]\n"
          ],
          "name": "stdout"
        }
      ]
    },
    {
      "cell_type": "code",
      "metadata": {
        "id": "opn25YkIxlXY"
      },
      "source": [
        "l2=[]\n",
        "for i in range(0,len(line)):\n",
        "    if line[i] >3:\n",
        "        l2.append(line[i])"
      ],
      "execution_count": 6,
      "outputs": []
    },
    {
      "cell_type": "code",
      "metadata": {
        "id": "h5M48lQAvrr7"
      },
      "source": [
        "import os\n",
        "li = []\n",
        "i=0\n",
        "for filename in all_files:\n",
        "    #print(filename)\n",
        "    #for i in range(0,len(l2)):\n",
        "        #print(l2[i])\n",
        "    df = pd.read_csv(filename, skiprows=l2[i],header=None, index_col=None)\n",
        "    df['filename'] = os.path.basename(filename)\n",
        "    li.append(df)\n",
        "    i=i+1\n",
        "frame = pd.concat(li, axis=0, ignore_index=True)"
      ],
      "execution_count": 7,
      "outputs": []
    },
    {
      "cell_type": "code",
      "metadata": {
        "id": "JWmNJoCPvryJ",
        "outputId": "902c5adf-c00e-4798-bab0-d92f14f8aa4d",
        "colab": {
          "base_uri": "https://localhost:8080/",
          "height": 299
        }
      },
      "source": [
        "frame.head()"
      ],
      "execution_count": 8,
      "outputs": [
        {
          "output_type": "execute_result",
          "data": {
            "text/html": [
              "<div>\n",
              "<style scoped>\n",
              "    .dataframe tbody tr th:only-of-type {\n",
              "        vertical-align: middle;\n",
              "    }\n",
              "\n",
              "    .dataframe tbody tr th {\n",
              "        vertical-align: top;\n",
              "    }\n",
              "\n",
              "    .dataframe thead th {\n",
              "        text-align: right;\n",
              "    }\n",
              "</style>\n",
              "<table border=\"1\" class=\"dataframe\">\n",
              "  <thead>\n",
              "    <tr style=\"text-align: right;\">\n",
              "      <th></th>\n",
              "      <th>0</th>\n",
              "      <th>1</th>\n",
              "      <th>2</th>\n",
              "      <th>3</th>\n",
              "      <th>4</th>\n",
              "      <th>5</th>\n",
              "      <th>6</th>\n",
              "      <th>7</th>\n",
              "      <th>8</th>\n",
              "      <th>9</th>\n",
              "      <th>10</th>\n",
              "      <th>11</th>\n",
              "      <th>12</th>\n",
              "      <th>13</th>\n",
              "      <th>14</th>\n",
              "      <th>15</th>\n",
              "      <th>16</th>\n",
              "      <th>17</th>\n",
              "      <th>18</th>\n",
              "      <th>19</th>\n",
              "      <th>20</th>\n",
              "      <th>21</th>\n",
              "      <th>22</th>\n",
              "      <th>23</th>\n",
              "      <th>24</th>\n",
              "      <th>25</th>\n",
              "      <th>26</th>\n",
              "      <th>filename</th>\n",
              "      <th>27</th>\n",
              "      <th>28</th>\n",
              "    </tr>\n",
              "  </thead>\n",
              "  <tbody>\n",
              "    <tr>\n",
              "      <th>0</th>\n",
              "      <td>07:27:14.000</td>\n",
              "      <td>68.0</td>\n",
              "      <td>13153.0</td>\n",
              "      <td>89.0</td>\n",
              "      <td>251.0</td>\n",
              "      <td>23.0</td>\n",
              "      <td>412.0</td>\n",
              "      <td>412.0</td>\n",
              "      <td>0.0</td>\n",
              "      <td>3031.0</td>\n",
              "      <td>3229.0</td>\n",
              "      <td>412.0</td>\n",
              "      <td>0.0</td>\n",
              "      <td>0.0</td>\n",
              "      <td>335.0</td>\n",
              "      <td>0.0</td>\n",
              "      <td>1000.0</td>\n",
              "      <td>0.0</td>\n",
              "      <td>0.0</td>\n",
              "      <td>0.0</td>\n",
              "      <td>0.0</td>\n",
              "      <td>1022.0</td>\n",
              "      <td>0.0</td>\n",
              "      <td>0.0</td>\n",
              "      <td>0.0</td>\n",
              "      <td>0.0</td>\n",
              "      <td>0.0</td>\n",
              "      <td>20180718-home2mimos.csv</td>\n",
              "      <td>NaN</td>\n",
              "      <td>NaN</td>\n",
              "    </tr>\n",
              "    <tr>\n",
              "      <th>1</th>\n",
              "      <td>07:27:14.078</td>\n",
              "      <td>64.0</td>\n",
              "      <td>13216.0</td>\n",
              "      <td>NaN</td>\n",
              "      <td>NaN</td>\n",
              "      <td>NaN</td>\n",
              "      <td>409.0</td>\n",
              "      <td>409.0</td>\n",
              "      <td>NaN</td>\n",
              "      <td>3030.0</td>\n",
              "      <td>NaN</td>\n",
              "      <td>410.0</td>\n",
              "      <td>NaN</td>\n",
              "      <td>NaN</td>\n",
              "      <td>337.0</td>\n",
              "      <td>NaN</td>\n",
              "      <td>NaN</td>\n",
              "      <td>NaN</td>\n",
              "      <td>NaN</td>\n",
              "      <td>NaN</td>\n",
              "      <td>NaN</td>\n",
              "      <td>1032.0</td>\n",
              "      <td>NaN</td>\n",
              "      <td>NaN</td>\n",
              "      <td>NaN</td>\n",
              "      <td>NaN</td>\n",
              "      <td>NaN</td>\n",
              "      <td>20180718-home2mimos.csv</td>\n",
              "      <td>NaN</td>\n",
              "      <td>NaN</td>\n",
              "    </tr>\n",
              "    <tr>\n",
              "      <th>2</th>\n",
              "      <td>07:27:14.110</td>\n",
              "      <td>NaN</td>\n",
              "      <td>NaN</td>\n",
              "      <td>NaN</td>\n",
              "      <td>NaN</td>\n",
              "      <td>NaN</td>\n",
              "      <td>NaN</td>\n",
              "      <td>NaN</td>\n",
              "      <td>NaN</td>\n",
              "      <td>NaN</td>\n",
              "      <td>NaN</td>\n",
              "      <td>NaN</td>\n",
              "      <td>NaN</td>\n",
              "      <td>NaN</td>\n",
              "      <td>NaN</td>\n",
              "      <td>320.0</td>\n",
              "      <td>NaN</td>\n",
              "      <td>NaN</td>\n",
              "      <td>NaN</td>\n",
              "      <td>181.0</td>\n",
              "      <td>50.0</td>\n",
              "      <td>NaN</td>\n",
              "      <td>301.0</td>\n",
              "      <td>2725.0</td>\n",
              "      <td>398.0</td>\n",
              "      <td>796.0</td>\n",
              "      <td>NaN</td>\n",
              "      <td>20180718-home2mimos.csv</td>\n",
              "      <td>NaN</td>\n",
              "      <td>NaN</td>\n",
              "    </tr>\n",
              "    <tr>\n",
              "      <th>3</th>\n",
              "      <td>07:27:14.125</td>\n",
              "      <td>64.0</td>\n",
              "      <td>13216.0</td>\n",
              "      <td>NaN</td>\n",
              "      <td>NaN</td>\n",
              "      <td>NaN</td>\n",
              "      <td>411.0</td>\n",
              "      <td>411.0</td>\n",
              "      <td>NaN</td>\n",
              "      <td>NaN</td>\n",
              "      <td>3229.0</td>\n",
              "      <td>409.0</td>\n",
              "      <td>936.0</td>\n",
              "      <td>NaN</td>\n",
              "      <td>NaN</td>\n",
              "      <td>NaN</td>\n",
              "      <td>NaN</td>\n",
              "      <td>NaN</td>\n",
              "      <td>NaN</td>\n",
              "      <td>NaN</td>\n",
              "      <td>NaN</td>\n",
              "      <td>1034.0</td>\n",
              "      <td>NaN</td>\n",
              "      <td>NaN</td>\n",
              "      <td>NaN</td>\n",
              "      <td>NaN</td>\n",
              "      <td>NaN</td>\n",
              "      <td>20180718-home2mimos.csv</td>\n",
              "      <td>NaN</td>\n",
              "      <td>NaN</td>\n",
              "    </tr>\n",
              "    <tr>\n",
              "      <th>4</th>\n",
              "      <td>07:27:14.188</td>\n",
              "      <td>NaN</td>\n",
              "      <td>NaN</td>\n",
              "      <td>NaN</td>\n",
              "      <td>NaN</td>\n",
              "      <td>NaN</td>\n",
              "      <td>NaN</td>\n",
              "      <td>NaN</td>\n",
              "      <td>NaN</td>\n",
              "      <td>3030.0</td>\n",
              "      <td>3230.0</td>\n",
              "      <td>NaN</td>\n",
              "      <td>NaN</td>\n",
              "      <td>NaN</td>\n",
              "      <td>337.0</td>\n",
              "      <td>NaN</td>\n",
              "      <td>NaN</td>\n",
              "      <td>NaN</td>\n",
              "      <td>NaN</td>\n",
              "      <td>NaN</td>\n",
              "      <td>NaN</td>\n",
              "      <td>NaN</td>\n",
              "      <td>NaN</td>\n",
              "      <td>2728.0</td>\n",
              "      <td>NaN</td>\n",
              "      <td>796.0</td>\n",
              "      <td>NaN</td>\n",
              "      <td>20180718-home2mimos.csv</td>\n",
              "      <td>NaN</td>\n",
              "      <td>NaN</td>\n",
              "    </tr>\n",
              "  </tbody>\n",
              "</table>\n",
              "</div>"
            ],
            "text/plain": [
              "              0     1        2     3  ...   26                 filename  27  28\n",
              "0  07:27:14.000  68.0  13153.0  89.0  ...  0.0  20180718-home2mimos.csv NaN NaN\n",
              "1  07:27:14.078  64.0  13216.0   NaN  ...  NaN  20180718-home2mimos.csv NaN NaN\n",
              "2  07:27:14.110   NaN      NaN   NaN  ...  NaN  20180718-home2mimos.csv NaN NaN\n",
              "3  07:27:14.125  64.0  13216.0   NaN  ...  NaN  20180718-home2mimos.csv NaN NaN\n",
              "4  07:27:14.188   NaN      NaN   NaN  ...  NaN  20180718-home2mimos.csv NaN NaN\n",
              "\n",
              "[5 rows x 30 columns]"
            ]
          },
          "metadata": {
            "tags": []
          },
          "execution_count": 8
        }
      ]
    },
    {
      "cell_type": "code",
      "metadata": {
        "id": "zBzx7bn9xv8X",
        "outputId": "177048d0-6297-47ca-99b7-f802d449a5bb",
        "colab": {
          "base_uri": "https://localhost:8080/",
          "height": 304
        }
      },
      "source": [
        "frame.describe()"
      ],
      "execution_count": 9,
      "outputs": [
        {
          "output_type": "execute_result",
          "data": {
            "text/html": [
              "<div>\n",
              "<style scoped>\n",
              "    .dataframe tbody tr th:only-of-type {\n",
              "        vertical-align: middle;\n",
              "    }\n",
              "\n",
              "    .dataframe tbody tr th {\n",
              "        vertical-align: top;\n",
              "    }\n",
              "\n",
              "    .dataframe thead th {\n",
              "        text-align: right;\n",
              "    }\n",
              "</style>\n",
              "<table border=\"1\" class=\"dataframe\">\n",
              "  <thead>\n",
              "    <tr style=\"text-align: right;\">\n",
              "      <th></th>\n",
              "      <th>1</th>\n",
              "      <th>2</th>\n",
              "      <th>3</th>\n",
              "      <th>4</th>\n",
              "      <th>5</th>\n",
              "      <th>6</th>\n",
              "      <th>7</th>\n",
              "      <th>8</th>\n",
              "      <th>9</th>\n",
              "      <th>10</th>\n",
              "      <th>11</th>\n",
              "      <th>12</th>\n",
              "      <th>13</th>\n",
              "      <th>14</th>\n",
              "      <th>15</th>\n",
              "      <th>16</th>\n",
              "      <th>17</th>\n",
              "      <th>18</th>\n",
              "      <th>19</th>\n",
              "      <th>20</th>\n",
              "      <th>21</th>\n",
              "      <th>22</th>\n",
              "      <th>23</th>\n",
              "      <th>24</th>\n",
              "      <th>25</th>\n",
              "      <th>26</th>\n",
              "      <th>27</th>\n",
              "      <th>28</th>\n",
              "    </tr>\n",
              "  </thead>\n",
              "  <tbody>\n",
              "    <tr>\n",
              "      <th>count</th>\n",
              "      <td>1.330367e+06</td>\n",
              "      <td>1.260335e+06</td>\n",
              "      <td>216904.000000</td>\n",
              "      <td>843773.000000</td>\n",
              "      <td>803514.000000</td>\n",
              "      <td>1.233952e+06</td>\n",
              "      <td>1.214073e+06</td>\n",
              "      <td>39889.000000</td>\n",
              "      <td>563660.000000</td>\n",
              "      <td>581487.000000</td>\n",
              "      <td>1.279132e+06</td>\n",
              "      <td>1.342095e+06</td>\n",
              "      <td>683572.000000</td>\n",
              "      <td>1.176135e+06</td>\n",
              "      <td>904954.000000</td>\n",
              "      <td>311873.000000</td>\n",
              "      <td>106296.000000</td>\n",
              "      <td>118772.000000</td>\n",
              "      <td>180632.000000</td>\n",
              "      <td>185133.000000</td>\n",
              "      <td>1.246648e+06</td>\n",
              "      <td>285647.000000</td>\n",
              "      <td>1.221296e+06</td>\n",
              "      <td>285592.000000</td>\n",
              "      <td>1.149743e+06</td>\n",
              "      <td>144.0</td>\n",
              "      <td>148.000000</td>\n",
              "      <td>444.000000</td>\n",
              "    </tr>\n",
              "    <tr>\n",
              "      <th>mean</th>\n",
              "      <td>5.051481e+01</td>\n",
              "      <td>1.212322e+04</td>\n",
              "      <td>1222.185465</td>\n",
              "      <td>139.806698</td>\n",
              "      <td>60.629081</td>\n",
              "      <td>4.179623e+02</td>\n",
              "      <td>5.299138e+02</td>\n",
              "      <td>3492.637419</td>\n",
              "      <td>2765.655599</td>\n",
              "      <td>3169.666997</td>\n",
              "      <td>4.357710e+02</td>\n",
              "      <td>1.999178e+03</td>\n",
              "      <td>59.607494</td>\n",
              "      <td>3.931878e+02</td>\n",
              "      <td>316.768264</td>\n",
              "      <td>830.809047</td>\n",
              "      <td>424.786041</td>\n",
              "      <td>23.112501</td>\n",
              "      <td>134.158698</td>\n",
              "      <td>20.953498</td>\n",
              "      <td>1.799087e+03</td>\n",
              "      <td>95.827140</td>\n",
              "      <td>2.027718e+03</td>\n",
              "      <td>808.307425</td>\n",
              "      <td>6.905331e+02</td>\n",
              "      <td>0.0</td>\n",
              "      <td>0.175676</td>\n",
              "      <td>0.409910</td>\n",
              "    </tr>\n",
              "    <tr>\n",
              "      <th>std</th>\n",
              "      <td>1.317642e+02</td>\n",
              "      <td>2.942740e+03</td>\n",
              "      <td>751.825049</td>\n",
              "      <td>47.630430</td>\n",
              "      <td>44.503964</td>\n",
              "      <td>1.652898e+02</td>\n",
              "      <td>5.245194e+02</td>\n",
              "      <td>283.073040</td>\n",
              "      <td>929.077163</td>\n",
              "      <td>704.782624</td>\n",
              "      <td>1.479610e+02</td>\n",
              "      <td>3.310146e+03</td>\n",
              "      <td>163.657225</td>\n",
              "      <td>1.381983e+02</td>\n",
              "      <td>77.821593</td>\n",
              "      <td>382.429348</td>\n",
              "      <td>166.649309</td>\n",
              "      <td>79.634902</td>\n",
              "      <td>41.579693</td>\n",
              "      <td>12.223218</td>\n",
              "      <td>6.837638e+02</td>\n",
              "      <td>73.582391</td>\n",
              "      <td>5.503073e+02</td>\n",
              "      <td>147.258040</td>\n",
              "      <td>8.854306e+01</td>\n",
              "      <td>0.0</td>\n",
              "      <td>0.381836</td>\n",
              "      <td>0.492372</td>\n",
              "    </tr>\n",
              "    <tr>\n",
              "      <th>min</th>\n",
              "      <td>-3.660000e+02</td>\n",
              "      <td>1.300000e+02</td>\n",
              "      <td>0.000000</td>\n",
              "      <td>-62.000000</td>\n",
              "      <td>0.000000</td>\n",
              "      <td>0.000000e+00</td>\n",
              "      <td>1.650000e+02</td>\n",
              "      <td>0.000000</td>\n",
              "      <td>715.000000</td>\n",
              "      <td>660.000000</td>\n",
              "      <td>1.650000e+02</td>\n",
              "      <td>0.000000e+00</td>\n",
              "      <td>0.000000</td>\n",
              "      <td>-9.000000e+01</td>\n",
              "      <td>0.000000</td>\n",
              "      <td>0.000000</td>\n",
              "      <td>0.000000</td>\n",
              "      <td>-328.000000</td>\n",
              "      <td>-66.000000</td>\n",
              "      <td>-19.000000</td>\n",
              "      <td>0.000000e+00</td>\n",
              "      <td>0.000000</td>\n",
              "      <td>0.000000e+00</td>\n",
              "      <td>0.000000</td>\n",
              "      <td>0.000000e+00</td>\n",
              "      <td>0.0</td>\n",
              "      <td>0.000000</td>\n",
              "      <td>0.000000</td>\n",
              "    </tr>\n",
              "    <tr>\n",
              "      <th>25%</th>\n",
              "      <td>-1.400000e+01</td>\n",
              "      <td>1.260600e+04</td>\n",
              "      <td>629.000000</td>\n",
              "      <td>114.000000</td>\n",
              "      <td>26.000000</td>\n",
              "      <td>3.220000e+02</td>\n",
              "      <td>3.280000e+02</td>\n",
              "      <td>3467.000000</td>\n",
              "      <td>3064.000000</td>\n",
              "      <td>3327.000000</td>\n",
              "      <td>3.260000e+02</td>\n",
              "      <td>9.500000e+02</td>\n",
              "      <td>4.000000</td>\n",
              "      <td>3.330000e+02</td>\n",
              "      <td>284.000000</td>\n",
              "      <td>967.000000</td>\n",
              "      <td>309.000000</td>\n",
              "      <td>-13.000000</td>\n",
              "      <td>110.000000</td>\n",
              "      <td>13.000000</td>\n",
              "      <td>1.218000e+03</td>\n",
              "      <td>44.000000</td>\n",
              "      <td>1.566000e+03</td>\n",
              "      <td>744.000000</td>\n",
              "      <td>6.270000e+02</td>\n",
              "      <td>0.0</td>\n",
              "      <td>0.000000</td>\n",
              "      <td>0.000000</td>\n",
              "    </tr>\n",
              "    <tr>\n",
              "      <th>50%</th>\n",
              "      <td>2.200000e+01</td>\n",
              "      <td>1.287100e+04</td>\n",
              "      <td>1115.000000</td>\n",
              "      <td>142.000000</td>\n",
              "      <td>44.000000</td>\n",
              "      <td>3.850000e+02</td>\n",
              "      <td>4.010000e+02</td>\n",
              "      <td>3519.000000</td>\n",
              "      <td>3227.000000</td>\n",
              "      <td>3467.000000</td>\n",
              "      <td>3.930000e+02</td>\n",
              "      <td>9.890000e+02</td>\n",
              "      <td>32.000000</td>\n",
              "      <td>3.600000e+02</td>\n",
              "      <td>310.000000</td>\n",
              "      <td>1000.000000</td>\n",
              "      <td>370.000000</td>\n",
              "      <td>28.000000</td>\n",
              "      <td>122.000000</td>\n",
              "      <td>22.000000</td>\n",
              "      <td>1.630000e+03</td>\n",
              "      <td>79.000000</td>\n",
              "      <td>2.090000e+03</td>\n",
              "      <td>842.000000</td>\n",
              "      <td>7.100000e+02</td>\n",
              "      <td>0.0</td>\n",
              "      <td>0.000000</td>\n",
              "      <td>0.000000</td>\n",
              "    </tr>\n",
              "    <tr>\n",
              "      <th>75%</th>\n",
              "      <td>7.200000e+01</td>\n",
              "      <td>1.305900e+04</td>\n",
              "      <td>1710.000000</td>\n",
              "      <td>170.000000</td>\n",
              "      <td>84.000000</td>\n",
              "      <td>5.240000e+02</td>\n",
              "      <td>5.510000e+02</td>\n",
              "      <td>3572.000000</td>\n",
              "      <td>3293.000000</td>\n",
              "      <td>3548.000000</td>\n",
              "      <td>5.320000e+02</td>\n",
              "      <td>1.045000e+03</td>\n",
              "      <td>72.000000</td>\n",
              "      <td>5.060000e+02</td>\n",
              "      <td>332.000000</td>\n",
              "      <td>1035.000000</td>\n",
              "      <td>515.000000</td>\n",
              "      <td>76.000000</td>\n",
              "      <td>156.000000</td>\n",
              "      <td>28.000000</td>\n",
              "      <td>2.285000e+03</td>\n",
              "      <td>128.000000</td>\n",
              "      <td>2.546000e+03</td>\n",
              "      <td>912.000000</td>\n",
              "      <td>7.690000e+02</td>\n",
              "      <td>0.0</td>\n",
              "      <td>0.000000</td>\n",
              "      <td>1.000000</td>\n",
              "    </tr>\n",
              "    <tr>\n",
              "      <th>max</th>\n",
              "      <td>7.820000e+02</td>\n",
              "      <td>1.352800e+04</td>\n",
              "      <td>4169.000000</td>\n",
              "      <td>333.000000</td>\n",
              "      <td>665.000000</td>\n",
              "      <td>1.189000e+03</td>\n",
              "      <td>3.357000e+03</td>\n",
              "      <td>3619.000000</td>\n",
              "      <td>3455.000000</td>\n",
              "      <td>7584.000000</td>\n",
              "      <td>1.218000e+03</td>\n",
              "      <td>1.330900e+04</td>\n",
              "      <td>2597.000000</td>\n",
              "      <td>8.830000e+02</td>\n",
              "      <td>962.000000</td>\n",
              "      <td>1088.000000</td>\n",
              "      <td>962.000000</td>\n",
              "      <td>285.000000</td>\n",
              "      <td>294.000000</td>\n",
              "      <td>50.000000</td>\n",
              "      <td>7.646000e+03</td>\n",
              "      <td>430.000000</td>\n",
              "      <td>2.750000e+03</td>\n",
              "      <td>1000.000000</td>\n",
              "      <td>8.000000e+02</td>\n",
              "      <td>0.0</td>\n",
              "      <td>1.000000</td>\n",
              "      <td>1.000000</td>\n",
              "    </tr>\n",
              "  </tbody>\n",
              "</table>\n",
              "</div>"
            ],
            "text/plain": [
              "                 1             2              3   ...     26          27          28\n",
              "count  1.330367e+06  1.260335e+06  216904.000000  ...  144.0  148.000000  444.000000\n",
              "mean   5.051481e+01  1.212322e+04    1222.185465  ...    0.0    0.175676    0.409910\n",
              "std    1.317642e+02  2.942740e+03     751.825049  ...    0.0    0.381836    0.492372\n",
              "min   -3.660000e+02  1.300000e+02       0.000000  ...    0.0    0.000000    0.000000\n",
              "25%   -1.400000e+01  1.260600e+04     629.000000  ...    0.0    0.000000    0.000000\n",
              "50%    2.200000e+01  1.287100e+04    1115.000000  ...    0.0    0.000000    0.000000\n",
              "75%    7.200000e+01  1.305900e+04    1710.000000  ...    0.0    0.000000    1.000000\n",
              "max    7.820000e+02  1.352800e+04    4169.000000  ...    0.0    1.000000    1.000000\n",
              "\n",
              "[8 rows x 28 columns]"
            ]
          },
          "metadata": {
            "tags": []
          },
          "execution_count": 9
        }
      ]
    },
    {
      "cell_type": "code",
      "metadata": {
        "id": "YsWzLJsWxwG_"
      },
      "source": [
        "col_names = [\"DownloadDateTime\",\n",
        "             \"BaseFuel\",\n",
        "             \"BaseIgnition\",\n",
        "             \"TargetAFR\",\n",
        "             \"FuelCoolantTempCorrection\",\n",
        "             \"FuelAirTempCorrection\",\n",
        "             \"ThrottlePosition\",\n",
        "             \"AirTemp\",\n",
        "             \"CoolantTemp\",\n",
        "             \"LambdaSensor1\",\n",
        "             \"RPM\",\n",
        "             \"Load\",\n",
        "             \"BatteryVoltage\",\n",
        "             \"EngineRunningTime\",\n",
        "             \"DeltaLoad\",\n",
        "             \"MAPSource\",\n",
        "             \"TransientThrottleLoadSource\",\n",
        "             \"IgnitionLoad\",\n",
        "             \"AFRDifference\",\n",
        "             \"IgnitionTiming\",\n",
        "            \"CurrentDutyCycle\",\n",
        "            \"ShiftLight1\",\n",
        "            \"IgnitionCoolantTempCorrection\",\n",
        "            \"IgnitionAirTempCorrection\",\n",
        "            \"TransientThrottleAccelCoolantCorr\",\n",
        "            \"TransientThrottleEnrichSensitivity\",\n",
        "            \"TransientThrottleEnrichDecayRate\",\n",
        "             \"filename\",\n",
        "            \"TransientThrottlePercentageAsync\",\n",
        "            \"TransientThrottlePercentageEnrich\",\n",
        "             ]"
      ],
      "execution_count": 10,
      "outputs": []
    },
    {
      "cell_type": "code",
      "metadata": {
        "id": "IfWGdY2o09F2"
      },
      "source": [
        "frame.columns=[\"DownloadDateTime\",\n",
        "             \"BaseFuel\",\n",
        "             \"BaseIgnition\",\n",
        "             \"TargetAFR\",\n",
        "             \"FuelCoolantTempCorrection\",\n",
        "             \"FuelAirTempCorrection\",\n",
        "             \"ThrottlePosition\",\n",
        "             \"AirTemp\",\n",
        "             \"CoolantTemp\",\n",
        "             \"LambdaSensor1\",\n",
        "             \"RPM\",\n",
        "             \"Load\",\n",
        "             \"BatteryVoltage\",\n",
        "             \"EngineRunningTime\",\n",
        "             \"DeltaLoad\",\n",
        "             \"MAPSource\",\n",
        "             \"TransientThrottleLoadSource\",\n",
        "             \"IgnitionLoad\",\n",
        "             \"AFRDifference\",\n",
        "             \"IgnitionTiming\",\n",
        "            \"CurrentDutyCycle\",\n",
        "            \"ShiftLight1\",\n",
        "            \"IgnitionCoolantTempCorrection\",\n",
        "            \"IgnitionAirTempCorrection\",\n",
        "            \"TransientThrottleAccelCoolantCorr\",\n",
        "            \"TransientThrottleEnrichSensitivity\",\n",
        "            \"TransientThrottleEnrichDecayRate\",\n",
        "             \"filename\",\n",
        "            \"TransientThrottlePercentageAsync\",\n",
        "            \"TransientThrottlePercentageEnrich\",\n",
        "             ]"
      ],
      "execution_count": 11,
      "outputs": []
    },
    {
      "cell_type": "code",
      "metadata": {
        "id": "U-stKGq409Mv",
        "outputId": "d3aa768d-d0d0-4657-b08e-14476dde3415",
        "colab": {
          "base_uri": "https://localhost:8080/",
          "height": 299
        }
      },
      "source": [
        "frame.head()"
      ],
      "execution_count": 12,
      "outputs": [
        {
          "output_type": "execute_result",
          "data": {
            "text/html": [
              "<div>\n",
              "<style scoped>\n",
              "    .dataframe tbody tr th:only-of-type {\n",
              "        vertical-align: middle;\n",
              "    }\n",
              "\n",
              "    .dataframe tbody tr th {\n",
              "        vertical-align: top;\n",
              "    }\n",
              "\n",
              "    .dataframe thead th {\n",
              "        text-align: right;\n",
              "    }\n",
              "</style>\n",
              "<table border=\"1\" class=\"dataframe\">\n",
              "  <thead>\n",
              "    <tr style=\"text-align: right;\">\n",
              "      <th></th>\n",
              "      <th>DownloadDateTime</th>\n",
              "      <th>BaseFuel</th>\n",
              "      <th>BaseIgnition</th>\n",
              "      <th>TargetAFR</th>\n",
              "      <th>FuelCoolantTempCorrection</th>\n",
              "      <th>FuelAirTempCorrection</th>\n",
              "      <th>ThrottlePosition</th>\n",
              "      <th>AirTemp</th>\n",
              "      <th>CoolantTemp</th>\n",
              "      <th>LambdaSensor1</th>\n",
              "      <th>RPM</th>\n",
              "      <th>Load</th>\n",
              "      <th>BatteryVoltage</th>\n",
              "      <th>EngineRunningTime</th>\n",
              "      <th>DeltaLoad</th>\n",
              "      <th>MAPSource</th>\n",
              "      <th>TransientThrottleLoadSource</th>\n",
              "      <th>IgnitionLoad</th>\n",
              "      <th>AFRDifference</th>\n",
              "      <th>IgnitionTiming</th>\n",
              "      <th>CurrentDutyCycle</th>\n",
              "      <th>ShiftLight1</th>\n",
              "      <th>IgnitionCoolantTempCorrection</th>\n",
              "      <th>IgnitionAirTempCorrection</th>\n",
              "      <th>TransientThrottleAccelCoolantCorr</th>\n",
              "      <th>TransientThrottleEnrichSensitivity</th>\n",
              "      <th>TransientThrottleEnrichDecayRate</th>\n",
              "      <th>filename</th>\n",
              "      <th>TransientThrottlePercentageAsync</th>\n",
              "      <th>TransientThrottlePercentageEnrich</th>\n",
              "    </tr>\n",
              "  </thead>\n",
              "  <tbody>\n",
              "    <tr>\n",
              "      <th>0</th>\n",
              "      <td>07:27:14.000</td>\n",
              "      <td>68.0</td>\n",
              "      <td>13153.0</td>\n",
              "      <td>89.0</td>\n",
              "      <td>251.0</td>\n",
              "      <td>23.0</td>\n",
              "      <td>412.0</td>\n",
              "      <td>412.0</td>\n",
              "      <td>0.0</td>\n",
              "      <td>3031.0</td>\n",
              "      <td>3229.0</td>\n",
              "      <td>412.0</td>\n",
              "      <td>0.0</td>\n",
              "      <td>0.0</td>\n",
              "      <td>335.0</td>\n",
              "      <td>0.0</td>\n",
              "      <td>1000.0</td>\n",
              "      <td>0.0</td>\n",
              "      <td>0.0</td>\n",
              "      <td>0.0</td>\n",
              "      <td>0.0</td>\n",
              "      <td>1022.0</td>\n",
              "      <td>0.0</td>\n",
              "      <td>0.0</td>\n",
              "      <td>0.0</td>\n",
              "      <td>0.0</td>\n",
              "      <td>0.0</td>\n",
              "      <td>20180718-home2mimos.csv</td>\n",
              "      <td>NaN</td>\n",
              "      <td>NaN</td>\n",
              "    </tr>\n",
              "    <tr>\n",
              "      <th>1</th>\n",
              "      <td>07:27:14.078</td>\n",
              "      <td>64.0</td>\n",
              "      <td>13216.0</td>\n",
              "      <td>NaN</td>\n",
              "      <td>NaN</td>\n",
              "      <td>NaN</td>\n",
              "      <td>409.0</td>\n",
              "      <td>409.0</td>\n",
              "      <td>NaN</td>\n",
              "      <td>3030.0</td>\n",
              "      <td>NaN</td>\n",
              "      <td>410.0</td>\n",
              "      <td>NaN</td>\n",
              "      <td>NaN</td>\n",
              "      <td>337.0</td>\n",
              "      <td>NaN</td>\n",
              "      <td>NaN</td>\n",
              "      <td>NaN</td>\n",
              "      <td>NaN</td>\n",
              "      <td>NaN</td>\n",
              "      <td>NaN</td>\n",
              "      <td>1032.0</td>\n",
              "      <td>NaN</td>\n",
              "      <td>NaN</td>\n",
              "      <td>NaN</td>\n",
              "      <td>NaN</td>\n",
              "      <td>NaN</td>\n",
              "      <td>20180718-home2mimos.csv</td>\n",
              "      <td>NaN</td>\n",
              "      <td>NaN</td>\n",
              "    </tr>\n",
              "    <tr>\n",
              "      <th>2</th>\n",
              "      <td>07:27:14.110</td>\n",
              "      <td>NaN</td>\n",
              "      <td>NaN</td>\n",
              "      <td>NaN</td>\n",
              "      <td>NaN</td>\n",
              "      <td>NaN</td>\n",
              "      <td>NaN</td>\n",
              "      <td>NaN</td>\n",
              "      <td>NaN</td>\n",
              "      <td>NaN</td>\n",
              "      <td>NaN</td>\n",
              "      <td>NaN</td>\n",
              "      <td>NaN</td>\n",
              "      <td>NaN</td>\n",
              "      <td>NaN</td>\n",
              "      <td>320.0</td>\n",
              "      <td>NaN</td>\n",
              "      <td>NaN</td>\n",
              "      <td>NaN</td>\n",
              "      <td>181.0</td>\n",
              "      <td>50.0</td>\n",
              "      <td>NaN</td>\n",
              "      <td>301.0</td>\n",
              "      <td>2725.0</td>\n",
              "      <td>398.0</td>\n",
              "      <td>796.0</td>\n",
              "      <td>NaN</td>\n",
              "      <td>20180718-home2mimos.csv</td>\n",
              "      <td>NaN</td>\n",
              "      <td>NaN</td>\n",
              "    </tr>\n",
              "    <tr>\n",
              "      <th>3</th>\n",
              "      <td>07:27:14.125</td>\n",
              "      <td>64.0</td>\n",
              "      <td>13216.0</td>\n",
              "      <td>NaN</td>\n",
              "      <td>NaN</td>\n",
              "      <td>NaN</td>\n",
              "      <td>411.0</td>\n",
              "      <td>411.0</td>\n",
              "      <td>NaN</td>\n",
              "      <td>NaN</td>\n",
              "      <td>3229.0</td>\n",
              "      <td>409.0</td>\n",
              "      <td>936.0</td>\n",
              "      <td>NaN</td>\n",
              "      <td>NaN</td>\n",
              "      <td>NaN</td>\n",
              "      <td>NaN</td>\n",
              "      <td>NaN</td>\n",
              "      <td>NaN</td>\n",
              "      <td>NaN</td>\n",
              "      <td>NaN</td>\n",
              "      <td>1034.0</td>\n",
              "      <td>NaN</td>\n",
              "      <td>NaN</td>\n",
              "      <td>NaN</td>\n",
              "      <td>NaN</td>\n",
              "      <td>NaN</td>\n",
              "      <td>20180718-home2mimos.csv</td>\n",
              "      <td>NaN</td>\n",
              "      <td>NaN</td>\n",
              "    </tr>\n",
              "    <tr>\n",
              "      <th>4</th>\n",
              "      <td>07:27:14.188</td>\n",
              "      <td>NaN</td>\n",
              "      <td>NaN</td>\n",
              "      <td>NaN</td>\n",
              "      <td>NaN</td>\n",
              "      <td>NaN</td>\n",
              "      <td>NaN</td>\n",
              "      <td>NaN</td>\n",
              "      <td>NaN</td>\n",
              "      <td>3030.0</td>\n",
              "      <td>3230.0</td>\n",
              "      <td>NaN</td>\n",
              "      <td>NaN</td>\n",
              "      <td>NaN</td>\n",
              "      <td>337.0</td>\n",
              "      <td>NaN</td>\n",
              "      <td>NaN</td>\n",
              "      <td>NaN</td>\n",
              "      <td>NaN</td>\n",
              "      <td>NaN</td>\n",
              "      <td>NaN</td>\n",
              "      <td>NaN</td>\n",
              "      <td>NaN</td>\n",
              "      <td>2728.0</td>\n",
              "      <td>NaN</td>\n",
              "      <td>796.0</td>\n",
              "      <td>NaN</td>\n",
              "      <td>20180718-home2mimos.csv</td>\n",
              "      <td>NaN</td>\n",
              "      <td>NaN</td>\n",
              "    </tr>\n",
              "  </tbody>\n",
              "</table>\n",
              "</div>"
            ],
            "text/plain": [
              "  DownloadDateTime  ...  TransientThrottlePercentageEnrich\n",
              "0     07:27:14.000  ...                                NaN\n",
              "1     07:27:14.078  ...                                NaN\n",
              "2     07:27:14.110  ...                                NaN\n",
              "3     07:27:14.125  ...                                NaN\n",
              "4     07:27:14.188  ...                                NaN\n",
              "\n",
              "[5 rows x 30 columns]"
            ]
          },
          "metadata": {
            "tags": []
          },
          "execution_count": 12
        }
      ]
    },
    {
      "cell_type": "code",
      "metadata": {
        "id": "WCWz6_sH09S-",
        "outputId": "12cdd499-e18f-4e15-e1ca-829468d280f2",
        "colab": {
          "base_uri": "https://localhost:8080/",
          "height": 304
        }
      },
      "source": [
        "frame.describe()"
      ],
      "execution_count": 13,
      "outputs": [
        {
          "output_type": "execute_result",
          "data": {
            "text/html": [
              "<div>\n",
              "<style scoped>\n",
              "    .dataframe tbody tr th:only-of-type {\n",
              "        vertical-align: middle;\n",
              "    }\n",
              "\n",
              "    .dataframe tbody tr th {\n",
              "        vertical-align: top;\n",
              "    }\n",
              "\n",
              "    .dataframe thead th {\n",
              "        text-align: right;\n",
              "    }\n",
              "</style>\n",
              "<table border=\"1\" class=\"dataframe\">\n",
              "  <thead>\n",
              "    <tr style=\"text-align: right;\">\n",
              "      <th></th>\n",
              "      <th>BaseFuel</th>\n",
              "      <th>BaseIgnition</th>\n",
              "      <th>TargetAFR</th>\n",
              "      <th>FuelCoolantTempCorrection</th>\n",
              "      <th>FuelAirTempCorrection</th>\n",
              "      <th>ThrottlePosition</th>\n",
              "      <th>AirTemp</th>\n",
              "      <th>CoolantTemp</th>\n",
              "      <th>LambdaSensor1</th>\n",
              "      <th>RPM</th>\n",
              "      <th>Load</th>\n",
              "      <th>BatteryVoltage</th>\n",
              "      <th>EngineRunningTime</th>\n",
              "      <th>DeltaLoad</th>\n",
              "      <th>MAPSource</th>\n",
              "      <th>TransientThrottleLoadSource</th>\n",
              "      <th>IgnitionLoad</th>\n",
              "      <th>AFRDifference</th>\n",
              "      <th>IgnitionTiming</th>\n",
              "      <th>CurrentDutyCycle</th>\n",
              "      <th>ShiftLight1</th>\n",
              "      <th>IgnitionCoolantTempCorrection</th>\n",
              "      <th>IgnitionAirTempCorrection</th>\n",
              "      <th>TransientThrottleAccelCoolantCorr</th>\n",
              "      <th>TransientThrottleEnrichSensitivity</th>\n",
              "      <th>TransientThrottleEnrichDecayRate</th>\n",
              "      <th>TransientThrottlePercentageAsync</th>\n",
              "      <th>TransientThrottlePercentageEnrich</th>\n",
              "    </tr>\n",
              "  </thead>\n",
              "  <tbody>\n",
              "    <tr>\n",
              "      <th>count</th>\n",
              "      <td>1.330367e+06</td>\n",
              "      <td>1.260335e+06</td>\n",
              "      <td>216904.000000</td>\n",
              "      <td>843773.000000</td>\n",
              "      <td>803514.000000</td>\n",
              "      <td>1.233952e+06</td>\n",
              "      <td>1.214073e+06</td>\n",
              "      <td>39889.000000</td>\n",
              "      <td>563660.000000</td>\n",
              "      <td>581487.000000</td>\n",
              "      <td>1.279132e+06</td>\n",
              "      <td>1.342095e+06</td>\n",
              "      <td>683572.000000</td>\n",
              "      <td>1.176135e+06</td>\n",
              "      <td>904954.000000</td>\n",
              "      <td>311873.000000</td>\n",
              "      <td>106296.000000</td>\n",
              "      <td>118772.000000</td>\n",
              "      <td>180632.000000</td>\n",
              "      <td>185133.000000</td>\n",
              "      <td>1.246648e+06</td>\n",
              "      <td>285647.000000</td>\n",
              "      <td>1.221296e+06</td>\n",
              "      <td>285592.000000</td>\n",
              "      <td>1.149743e+06</td>\n",
              "      <td>144.0</td>\n",
              "      <td>148.000000</td>\n",
              "      <td>444.000000</td>\n",
              "    </tr>\n",
              "    <tr>\n",
              "      <th>mean</th>\n",
              "      <td>5.051481e+01</td>\n",
              "      <td>1.212322e+04</td>\n",
              "      <td>1222.185465</td>\n",
              "      <td>139.806698</td>\n",
              "      <td>60.629081</td>\n",
              "      <td>4.179623e+02</td>\n",
              "      <td>5.299138e+02</td>\n",
              "      <td>3492.637419</td>\n",
              "      <td>2765.655599</td>\n",
              "      <td>3169.666997</td>\n",
              "      <td>4.357710e+02</td>\n",
              "      <td>1.999178e+03</td>\n",
              "      <td>59.607494</td>\n",
              "      <td>3.931878e+02</td>\n",
              "      <td>316.768264</td>\n",
              "      <td>830.809047</td>\n",
              "      <td>424.786041</td>\n",
              "      <td>23.112501</td>\n",
              "      <td>134.158698</td>\n",
              "      <td>20.953498</td>\n",
              "      <td>1.799087e+03</td>\n",
              "      <td>95.827140</td>\n",
              "      <td>2.027718e+03</td>\n",
              "      <td>808.307425</td>\n",
              "      <td>6.905331e+02</td>\n",
              "      <td>0.0</td>\n",
              "      <td>0.175676</td>\n",
              "      <td>0.409910</td>\n",
              "    </tr>\n",
              "    <tr>\n",
              "      <th>std</th>\n",
              "      <td>1.317642e+02</td>\n",
              "      <td>2.942740e+03</td>\n",
              "      <td>751.825049</td>\n",
              "      <td>47.630430</td>\n",
              "      <td>44.503964</td>\n",
              "      <td>1.652898e+02</td>\n",
              "      <td>5.245194e+02</td>\n",
              "      <td>283.073040</td>\n",
              "      <td>929.077163</td>\n",
              "      <td>704.782624</td>\n",
              "      <td>1.479610e+02</td>\n",
              "      <td>3.310146e+03</td>\n",
              "      <td>163.657225</td>\n",
              "      <td>1.381983e+02</td>\n",
              "      <td>77.821593</td>\n",
              "      <td>382.429348</td>\n",
              "      <td>166.649309</td>\n",
              "      <td>79.634902</td>\n",
              "      <td>41.579693</td>\n",
              "      <td>12.223218</td>\n",
              "      <td>6.837638e+02</td>\n",
              "      <td>73.582391</td>\n",
              "      <td>5.503073e+02</td>\n",
              "      <td>147.258040</td>\n",
              "      <td>8.854306e+01</td>\n",
              "      <td>0.0</td>\n",
              "      <td>0.381836</td>\n",
              "      <td>0.492372</td>\n",
              "    </tr>\n",
              "    <tr>\n",
              "      <th>min</th>\n",
              "      <td>-3.660000e+02</td>\n",
              "      <td>1.300000e+02</td>\n",
              "      <td>0.000000</td>\n",
              "      <td>-62.000000</td>\n",
              "      <td>0.000000</td>\n",
              "      <td>0.000000e+00</td>\n",
              "      <td>1.650000e+02</td>\n",
              "      <td>0.000000</td>\n",
              "      <td>715.000000</td>\n",
              "      <td>660.000000</td>\n",
              "      <td>1.650000e+02</td>\n",
              "      <td>0.000000e+00</td>\n",
              "      <td>0.000000</td>\n",
              "      <td>-9.000000e+01</td>\n",
              "      <td>0.000000</td>\n",
              "      <td>0.000000</td>\n",
              "      <td>0.000000</td>\n",
              "      <td>-328.000000</td>\n",
              "      <td>-66.000000</td>\n",
              "      <td>-19.000000</td>\n",
              "      <td>0.000000e+00</td>\n",
              "      <td>0.000000</td>\n",
              "      <td>0.000000e+00</td>\n",
              "      <td>0.000000</td>\n",
              "      <td>0.000000e+00</td>\n",
              "      <td>0.0</td>\n",
              "      <td>0.000000</td>\n",
              "      <td>0.000000</td>\n",
              "    </tr>\n",
              "    <tr>\n",
              "      <th>25%</th>\n",
              "      <td>-1.400000e+01</td>\n",
              "      <td>1.260600e+04</td>\n",
              "      <td>629.000000</td>\n",
              "      <td>114.000000</td>\n",
              "      <td>26.000000</td>\n",
              "      <td>3.220000e+02</td>\n",
              "      <td>3.280000e+02</td>\n",
              "      <td>3467.000000</td>\n",
              "      <td>3064.000000</td>\n",
              "      <td>3327.000000</td>\n",
              "      <td>3.260000e+02</td>\n",
              "      <td>9.500000e+02</td>\n",
              "      <td>4.000000</td>\n",
              "      <td>3.330000e+02</td>\n",
              "      <td>284.000000</td>\n",
              "      <td>967.000000</td>\n",
              "      <td>309.000000</td>\n",
              "      <td>-13.000000</td>\n",
              "      <td>110.000000</td>\n",
              "      <td>13.000000</td>\n",
              "      <td>1.218000e+03</td>\n",
              "      <td>44.000000</td>\n",
              "      <td>1.566000e+03</td>\n",
              "      <td>744.000000</td>\n",
              "      <td>6.270000e+02</td>\n",
              "      <td>0.0</td>\n",
              "      <td>0.000000</td>\n",
              "      <td>0.000000</td>\n",
              "    </tr>\n",
              "    <tr>\n",
              "      <th>50%</th>\n",
              "      <td>2.200000e+01</td>\n",
              "      <td>1.287100e+04</td>\n",
              "      <td>1115.000000</td>\n",
              "      <td>142.000000</td>\n",
              "      <td>44.000000</td>\n",
              "      <td>3.850000e+02</td>\n",
              "      <td>4.010000e+02</td>\n",
              "      <td>3519.000000</td>\n",
              "      <td>3227.000000</td>\n",
              "      <td>3467.000000</td>\n",
              "      <td>3.930000e+02</td>\n",
              "      <td>9.890000e+02</td>\n",
              "      <td>32.000000</td>\n",
              "      <td>3.600000e+02</td>\n",
              "      <td>310.000000</td>\n",
              "      <td>1000.000000</td>\n",
              "      <td>370.000000</td>\n",
              "      <td>28.000000</td>\n",
              "      <td>122.000000</td>\n",
              "      <td>22.000000</td>\n",
              "      <td>1.630000e+03</td>\n",
              "      <td>79.000000</td>\n",
              "      <td>2.090000e+03</td>\n",
              "      <td>842.000000</td>\n",
              "      <td>7.100000e+02</td>\n",
              "      <td>0.0</td>\n",
              "      <td>0.000000</td>\n",
              "      <td>0.000000</td>\n",
              "    </tr>\n",
              "    <tr>\n",
              "      <th>75%</th>\n",
              "      <td>7.200000e+01</td>\n",
              "      <td>1.305900e+04</td>\n",
              "      <td>1710.000000</td>\n",
              "      <td>170.000000</td>\n",
              "      <td>84.000000</td>\n",
              "      <td>5.240000e+02</td>\n",
              "      <td>5.510000e+02</td>\n",
              "      <td>3572.000000</td>\n",
              "      <td>3293.000000</td>\n",
              "      <td>3548.000000</td>\n",
              "      <td>5.320000e+02</td>\n",
              "      <td>1.045000e+03</td>\n",
              "      <td>72.000000</td>\n",
              "      <td>5.060000e+02</td>\n",
              "      <td>332.000000</td>\n",
              "      <td>1035.000000</td>\n",
              "      <td>515.000000</td>\n",
              "      <td>76.000000</td>\n",
              "      <td>156.000000</td>\n",
              "      <td>28.000000</td>\n",
              "      <td>2.285000e+03</td>\n",
              "      <td>128.000000</td>\n",
              "      <td>2.546000e+03</td>\n",
              "      <td>912.000000</td>\n",
              "      <td>7.690000e+02</td>\n",
              "      <td>0.0</td>\n",
              "      <td>0.000000</td>\n",
              "      <td>1.000000</td>\n",
              "    </tr>\n",
              "    <tr>\n",
              "      <th>max</th>\n",
              "      <td>7.820000e+02</td>\n",
              "      <td>1.352800e+04</td>\n",
              "      <td>4169.000000</td>\n",
              "      <td>333.000000</td>\n",
              "      <td>665.000000</td>\n",
              "      <td>1.189000e+03</td>\n",
              "      <td>3.357000e+03</td>\n",
              "      <td>3619.000000</td>\n",
              "      <td>3455.000000</td>\n",
              "      <td>7584.000000</td>\n",
              "      <td>1.218000e+03</td>\n",
              "      <td>1.330900e+04</td>\n",
              "      <td>2597.000000</td>\n",
              "      <td>8.830000e+02</td>\n",
              "      <td>962.000000</td>\n",
              "      <td>1088.000000</td>\n",
              "      <td>962.000000</td>\n",
              "      <td>285.000000</td>\n",
              "      <td>294.000000</td>\n",
              "      <td>50.000000</td>\n",
              "      <td>7.646000e+03</td>\n",
              "      <td>430.000000</td>\n",
              "      <td>2.750000e+03</td>\n",
              "      <td>1000.000000</td>\n",
              "      <td>8.000000e+02</td>\n",
              "      <td>0.0</td>\n",
              "      <td>1.000000</td>\n",
              "      <td>1.000000</td>\n",
              "    </tr>\n",
              "  </tbody>\n",
              "</table>\n",
              "</div>"
            ],
            "text/plain": [
              "           BaseFuel  ...  TransientThrottlePercentageEnrich\n",
              "count  1.330367e+06  ...                         444.000000\n",
              "mean   5.051481e+01  ...                           0.409910\n",
              "std    1.317642e+02  ...                           0.492372\n",
              "min   -3.660000e+02  ...                           0.000000\n",
              "25%   -1.400000e+01  ...                           0.000000\n",
              "50%    2.200000e+01  ...                           0.000000\n",
              "75%    7.200000e+01  ...                           1.000000\n",
              "max    7.820000e+02  ...                           1.000000\n",
              "\n",
              "[8 rows x 28 columns]"
            ]
          },
          "metadata": {
            "tags": []
          },
          "execution_count": 13
        }
      ]
    },
    {
      "cell_type": "code",
      "metadata": {
        "id": "O0LcpIlMqeBv",
        "outputId": "cf0aaf07-5399-41b5-8fda-88df606d0982",
        "colab": {
          "base_uri": "https://localhost:8080/",
          "height": 615
        }
      },
      "source": [
        "from matplotlib import pyplot as plt\n",
        "fig, ax = plt.subplots(figsize = (25,8)) \n",
        "plt.ylim(-2000,14000)\n",
        "import seaborn as sns\n",
        "sns.boxplot(data=frame)\n",
        "ax.set_xticklabels(labels=frame.columns, rotation=45, ha='right')\n",
        "ax.set(xlabel='date', ylabel='Base Ignition')"
      ],
      "execution_count": 14,
      "outputs": [
        {
          "output_type": "execute_result",
          "data": {
            "text/plain": [
              "[Text(0, 0.5, 'Base Ignition'), Text(0.5, 0, 'date')]"
            ]
          },
          "metadata": {
            "tags": []
          },
          "execution_count": 14
        },
        {
          "output_type": "display_data",
          "data": {
            "image/png": "[encoded data removed]",
            "text/plain": [
              "<Figure size 1800x576 with 1 Axes>"
            ]
          },
          "metadata": {
            "tags": [],
            "needs_background": "light"
          }
        }
      ]
    },
    {
      "cell_type": "code",
      "metadata": {
        "id": "X3eVgbVsfEH4",
        "outputId": "8707f855-5a6d-4b4b-a5d2-62ff38566ade",
        "colab": {
          "base_uri": "https://localhost:8080/",
          "height": 370
        }
      },
      "source": [
        "print(frame.BaseFuel.max())\n",
        "print(frame.BaseFuel.min())\n",
        "sns.boxplot(frame.BaseFuel)\n",
        "np.nanpercentile(frame.BaseFuel,[73])\n",
        "uv = np.nanpercentile(frame.BaseFuel,[73])[0]"
      ],
      "execution_count": 15,
      "outputs": [
        {
          "output_type": "stream",
          "text": [
            "782.0\n",
            "-366.0\n"
          ],
          "name": "stdout"
        },
        {
          "output_type": "stream",
          "text": [
            "/usr/local/lib/python3.6/dist-packages/seaborn/_decorators.py:43: FutureWarning: Pass the following variable as a keyword arg: x. From version 0.12, the only valid positional argument will be `data`, and passing other arguments without an explicit keyword will result in an error or misinterpretation.\n",
            "  FutureWarning\n"
          ],
          "name": "stderr"
        },
        {
          "output_type": "display_data",
          "data": {
            "image/png": "[encoded data removed]",
            "text/plain": [
              "<Figure size 432x288 with 1 Axes>"
            ]
          },
          "metadata": {
            "tags": [],
            "needs_background": "light"
          }
        }
      ]
    },
    {
      "cell_type": "code",
      "metadata": {
        "id": "5n5Wrij6wgIP",
        "outputId": "99def7f6-588a-4a8a-bb10-9672f68fbc83",
        "colab": {
          "base_uri": "https://localhost:8080/",
          "height": 440
        }
      },
      "source": [
        "frame.BaseFuel[(frame.BaseFuel>3*uv)] = 3*uv\n",
        "sns.boxplot(frame.BaseFuel)"
      ],
      "execution_count": 16,
      "outputs": [
        {
          "output_type": "stream",
          "text": [
            "/usr/local/lib/python3.6/dist-packages/ipykernel_launcher.py:1: SettingWithCopyWarning: \n",
            "A value is trying to be set on a copy of a slice from a DataFrame\n",
            "\n",
            "See the caveats in the documentation: https://pandas.pydata.org/pandas-docs/stable/user_guide/indexing.html#returning-a-view-versus-a-copy\n",
            "  \"\"\"Entry point for launching an IPython kernel.\n",
            "/usr/local/lib/python3.6/dist-packages/seaborn/_decorators.py:43: FutureWarning: Pass the following variable as a keyword arg: x. From version 0.12, the only valid positional argument will be `data`, and passing other arguments without an explicit keyword will result in an error or misinterpretation.\n",
            "  FutureWarning\n"
          ],
          "name": "stderr"
        },
        {
          "output_type": "execute_result",
          "data": {
            "text/plain": [
              "<matplotlib.axes._subplots.AxesSubplot at 0x7f292c5bea58>"
            ]
          },
          "metadata": {
            "tags": []
          },
          "execution_count": 16
        },
        {
          "output_type": "display_data",
          "data": {
            "image/png": "[encoded data removed]",
            "text/plain": [
              "<Figure size 432x288 with 1 Axes>"
            ]
          },
          "metadata": {
            "tags": [],
            "needs_background": "light"
          }
        }
      ]
    },
    {
      "cell_type": "code",
      "metadata": {
        "id": "vFgFhhOUk4Oc",
        "outputId": "6127cd9f-a245-4b65-8930-e69585800c17",
        "colab": {
          "base_uri": "https://localhost:8080/"
        }
      },
      "source": [
        "print(frame.BaseFuel.min())\n",
        "print(np.nanpercentile(frame.BaseFuel,[3])[0])\n",
        "lv =np.nanpercentile(frame.BaseFuel,[3])[0]"
      ],
      "execution_count": 17,
      "outputs": [
        {
          "output_type": "stream",
          "text": [
            "-366.0\n",
            "-118.0\n"
          ],
          "name": "stdout"
        }
      ]
    },
    {
      "cell_type": "code",
      "metadata": {
        "id": "4wpb8i5AyF8s",
        "outputId": "ee23a238-75d3-43d5-874a-e966fb3027bb",
        "colab": {
          "base_uri": "https://localhost:8080/",
          "height": 440
        }
      },
      "source": [
        "frame.BaseFuel[(frame.BaseFuel < 0.3*lv)] = 0.3*lv\n",
        "sns.boxplot(frame.BaseFuel)"
      ],
      "execution_count": 18,
      "outputs": [
        {
          "output_type": "stream",
          "text": [
            "/usr/local/lib/python3.6/dist-packages/ipykernel_launcher.py:1: SettingWithCopyWarning: \n",
            "A value is trying to be set on a copy of a slice from a DataFrame\n",
            "\n",
            "See the caveats in the documentation: https://pandas.pydata.org/pandas-docs/stable/user_guide/indexing.html#returning-a-view-versus-a-copy\n",
            "  \"\"\"Entry point for launching an IPython kernel.\n",
            "/usr/local/lib/python3.6/dist-packages/seaborn/_decorators.py:43: FutureWarning: Pass the following variable as a keyword arg: x. From version 0.12, the only valid positional argument will be `data`, and passing other arguments without an explicit keyword will result in an error or misinterpretation.\n",
            "  FutureWarning\n"
          ],
          "name": "stderr"
        },
        {
          "output_type": "execute_result",
          "data": {
            "text/plain": [
              "<matplotlib.axes._subplots.AxesSubplot at 0x7f292b2a4cf8>"
            ]
          },
          "metadata": {
            "tags": []
          },
          "execution_count": 18
        },
        {
          "output_type": "display_data",
          "data": {
            "image/png": "[encoded data removed]",
            "text/plain": [
              "<Figure size 432x288 with 1 Axes>"
            ]
          },
          "metadata": {
            "tags": [],
            "needs_background": "light"
          }
        }
      ]
    },
    {
      "cell_type": "code",
      "metadata": {
        "id": "KeOu6Etwle-Y",
        "outputId": "315a760d-7c32-4919-902a-205e005d5104",
        "colab": {
          "base_uri": "https://localhost:8080/",
          "height": 352
        }
      },
      "source": [
        "sns.boxplot(frame.BaseIgnition)"
      ],
      "execution_count": 19,
      "outputs": [
        {
          "output_type": "stream",
          "text": [
            "/usr/local/lib/python3.6/dist-packages/seaborn/_decorators.py:43: FutureWarning: Pass the following variable as a keyword arg: x. From version 0.12, the only valid positional argument will be `data`, and passing other arguments without an explicit keyword will result in an error or misinterpretation.\n",
            "  FutureWarning\n"
          ],
          "name": "stderr"
        },
        {
          "output_type": "execute_result",
          "data": {
            "text/plain": [
              "<matplotlib.axes._subplots.AxesSubplot at 0x7f292e2cb860>"
            ]
          },
          "metadata": {
            "tags": []
          },
          "execution_count": 19
        },
        {
          "output_type": "display_data",
          "data": {
            "image/png": "[encoded data removed]",
            "text/plain": [
              "<Figure size 432x288 with 1 Axes>"
            ]
          },
          "metadata": {
            "tags": [],
            "needs_background": "light"
          }
        }
      ]
    },
    {
      "cell_type": "code",
      "metadata": {
        "id": "f3SkUSqmlfIM",
        "outputId": "c7904e07-3c6f-445d-a4e9-481e05ae6b14",
        "colab": {
          "base_uri": "https://localhost:8080/",
          "height": 458
        }
      },
      "source": [
        "print(frame.BaseIgnition.min())\n",
        "np.nanpercentile(frame.BaseIgnition,[6.3])[0]\n",
        "lv_bi = np.nanpercentile(frame.BaseIgnition,[6.3])[0]\n",
        "frame.BaseIgnition[(frame.BaseIgnition < 1*lv_bi)] = 1*lv_bi\n",
        "sns.boxplot(frame.BaseIgnition)"
      ],
      "execution_count": 20,
      "outputs": [
        {
          "output_type": "stream",
          "text": [
            "130.0\n"
          ],
          "name": "stdout"
        },
        {
          "output_type": "stream",
          "text": [
            "/usr/local/lib/python3.6/dist-packages/ipykernel_launcher.py:4: SettingWithCopyWarning: \n",
            "A value is trying to be set on a copy of a slice from a DataFrame\n",
            "\n",
            "See the caveats in the documentation: https://pandas.pydata.org/pandas-docs/stable/user_guide/indexing.html#returning-a-view-versus-a-copy\n",
            "  after removing the cwd from sys.path.\n",
            "/usr/local/lib/python3.6/dist-packages/seaborn/_decorators.py:43: FutureWarning: Pass the following variable as a keyword arg: x. From version 0.12, the only valid positional argument will be `data`, and passing other arguments without an explicit keyword will result in an error or misinterpretation.\n",
            "  FutureWarning\n"
          ],
          "name": "stderr"
        },
        {
          "output_type": "execute_result",
          "data": {
            "text/plain": [
              "<matplotlib.axes._subplots.AxesSubplot at 0x7f292c5a24a8>"
            ]
          },
          "metadata": {
            "tags": []
          },
          "execution_count": 20
        },
        {
          "output_type": "display_data",
          "data": {
            "image/png": "[encoded data removed]",
            "text/plain": [
              "<Figure size 432x288 with 1 Axes>"
            ]
          },
          "metadata": {
            "tags": [],
            "needs_background": "light"
          }
        }
      ]
    },
    {
      "cell_type": "code",
      "metadata": {
        "id": "Wy_7jMVwlfBi",
        "outputId": "d7df030f-23c7-4a64-c9fb-1115a6a10a34",
        "colab": {
          "base_uri": "https://localhost:8080/",
          "height": 352
        }
      },
      "source": [
        "sns.boxplot(frame.TargetAFR)"
      ],
      "execution_count": 21,
      "outputs": [
        {
          "output_type": "stream",
          "text": [
            "/usr/local/lib/python3.6/dist-packages/seaborn/_decorators.py:43: FutureWarning: Pass the following variable as a keyword arg: x. From version 0.12, the only valid positional argument will be `data`, and passing other arguments without an explicit keyword will result in an error or misinterpretation.\n",
            "  FutureWarning\n"
          ],
          "name": "stderr"
        },
        {
          "output_type": "execute_result",
          "data": {
            "text/plain": [
              "<matplotlib.axes._subplots.AxesSubplot at 0x7f292e3139b0>"
            ]
          },
          "metadata": {
            "tags": []
          },
          "execution_count": 21
        },
        {
          "output_type": "display_data",
          "data": {
            "image/png": "[encoded data removed]",
            "text/plain": [
              "<Figure size 432x288 with 1 Axes>"
            ]
          },
          "metadata": {
            "tags": [],
            "needs_background": "light"
          }
        }
      ]
    },
    {
      "cell_type": "code",
      "metadata": {
        "id": "kU-04hgPzOgD",
        "outputId": "b07b7b52-0d1d-46b8-b636-3bb9ac3fe0de",
        "colab": {
          "base_uri": "https://localhost:8080/",
          "height": 475
        }
      },
      "source": [
        "print(frame.TargetAFR.max())\n",
        "print(np.nanpercentile(frame.TargetAFR,[48])[0])\n",
        "uv_targetafr = np.nanpercentile(frame.TargetAFR,[48])[0]\n",
        "frame.TargetAFR[(frame.TargetAFR>3*uv_targetafr)] = 3*uv_targetafr\n",
        "sns.boxplot(frame.TargetAFR)"
      ],
      "execution_count": 22,
      "outputs": [
        {
          "output_type": "stream",
          "text": [
            "4169.0\n",
            "1067.0\n"
          ],
          "name": "stdout"
        },
        {
          "output_type": "stream",
          "text": [
            "/usr/local/lib/python3.6/dist-packages/ipykernel_launcher.py:4: SettingWithCopyWarning: \n",
            "A value is trying to be set on a copy of a slice from a DataFrame\n",
            "\n",
            "See the caveats in the documentation: https://pandas.pydata.org/pandas-docs/stable/user_guide/indexing.html#returning-a-view-versus-a-copy\n",
            "  after removing the cwd from sys.path.\n",
            "/usr/local/lib/python3.6/dist-packages/seaborn/_decorators.py:43: FutureWarning: Pass the following variable as a keyword arg: x. From version 0.12, the only valid positional argument will be `data`, and passing other arguments without an explicit keyword will result in an error or misinterpretation.\n",
            "  FutureWarning\n"
          ],
          "name": "stderr"
        },
        {
          "output_type": "execute_result",
          "data": {
            "text/plain": [
              "<matplotlib.axes._subplots.AxesSubplot at 0x7f292b1abac8>"
            ]
          },
          "metadata": {
            "tags": []
          },
          "execution_count": 22
        },
        {
          "output_type": "display_data",
          "data": {
            "image/png": "[encoded data removed]",
            "text/plain": [
              "<Figure size 432x288 with 1 Axes>"
            ]
          },
          "metadata": {
            "tags": [],
            "needs_background": "light"
          }
        }
      ]
    },
    {
      "cell_type": "code",
      "metadata": {
        "id": "OYvPC4CRzOww",
        "outputId": "682eb3c8-8c31-45c7-ad37-5a9e1988f70f",
        "colab": {
          "base_uri": "https://localhost:8080/",
          "height": 352
        }
      },
      "source": [
        "sns.boxplot(frame.FuelCoolantTempCorrection)"
      ],
      "execution_count": 23,
      "outputs": [
        {
          "output_type": "stream",
          "text": [
            "/usr/local/lib/python3.6/dist-packages/seaborn/_decorators.py:43: FutureWarning: Pass the following variable as a keyword arg: x. From version 0.12, the only valid positional argument will be `data`, and passing other arguments without an explicit keyword will result in an error or misinterpretation.\n",
            "  FutureWarning\n"
          ],
          "name": "stderr"
        },
        {
          "output_type": "execute_result",
          "data": {
            "text/plain": [
              "<matplotlib.axes._subplots.AxesSubplot at 0x7f292b1ba0b8>"
            ]
          },
          "metadata": {
            "tags": []
          },
          "execution_count": 23
        },
        {
          "output_type": "display_data",
          "data": {
            "image/png": "[encoded data removed]",
            "text/plain": [
              "<Figure size 432x288 with 1 Axes>"
            ]
          },
          "metadata": {
            "tags": [],
            "needs_background": "light"
          }
        }
      ]
    },
    {
      "cell_type": "code",
      "metadata": {
        "id": "eNbAjsWFzO85",
        "outputId": "adc8943a-4ce3-407f-baff-33e9317e04f9",
        "colab": {
          "base_uri": "https://localhost:8080/",
          "height": 563
        }
      },
      "source": [
        "print(np.nanpercentile(frame.FuelCoolantTempCorrection,[11.7])[0])\n",
        "uv_FuelCoolantTempCorrection = np.nanpercentile(frame.FuelCoolantTempCorrection,[11.7])[0]\n",
        "frame.FuelCoolantTempCorrection[(frame.FuelCoolantTempCorrection>3*uv_FuelCoolantTempCorrection)] = 3*uv_FuelCoolantTempCorrection\n",
        "\n",
        "print(np.nanpercentile(frame.FuelCoolantTempCorrection,[57])[0])\n",
        "lv_FuelCoolantTempCorrection = np.nanpercentile(frame.FuelCoolantTempCorrection,[57])[0]\n",
        "frame.FuelCoolantTempCorrection[(frame.FuelCoolantTempCorrection<0.3*lv_FuelCoolantTempCorrection)] = 0.3*lv_FuelCoolantTempCorrection\n",
        "sns.boxplot(frame.FuelCoolantTempCorrection)"
      ],
      "execution_count": 24,
      "outputs": [
        {
          "output_type": "stream",
          "text": [
            "83.0\n",
            "149.0\n"
          ],
          "name": "stdout"
        },
        {
          "output_type": "stream",
          "text": [
            "/usr/local/lib/python3.6/dist-packages/ipykernel_launcher.py:3: SettingWithCopyWarning: \n",
            "A value is trying to be set on a copy of a slice from a DataFrame\n",
            "\n",
            "See the caveats in the documentation: https://pandas.pydata.org/pandas-docs/stable/user_guide/indexing.html#returning-a-view-versus-a-copy\n",
            "  This is separate from the ipykernel package so we can avoid doing imports until\n",
            "/usr/local/lib/python3.6/dist-packages/ipykernel_launcher.py:7: SettingWithCopyWarning: \n",
            "A value is trying to be set on a copy of a slice from a DataFrame\n",
            "\n",
            "See the caveats in the documentation: https://pandas.pydata.org/pandas-docs/stable/user_guide/indexing.html#returning-a-view-versus-a-copy\n",
            "  import sys\n",
            "/usr/local/lib/python3.6/dist-packages/seaborn/_decorators.py:43: FutureWarning: Pass the following variable as a keyword arg: x. From version 0.12, the only valid positional argument will be `data`, and passing other arguments without an explicit keyword will result in an error or misinterpretation.\n",
            "  FutureWarning\n"
          ],
          "name": "stderr"
        },
        {
          "output_type": "execute_result",
          "data": {
            "text/plain": [
              "<matplotlib.axes._subplots.AxesSubplot at 0x7f292b10ae80>"
            ]
          },
          "metadata": {
            "tags": []
          },
          "execution_count": 24
        },
        {
          "output_type": "display_data",
          "data": {
            "image/png": "[encoded data removed]",
            "text/plain": [
              "<Figure size 432x288 with 1 Axes>"
            ]
          },
          "metadata": {
            "tags": [],
            "needs_background": "light"
          }
        }
      ]
    },
    {
      "cell_type": "code",
      "metadata": {
        "id": "N6q7Kq1KzOt4",
        "outputId": "3bf7425d-c331-47aa-d994-f6f67ec3b702",
        "colab": {
          "base_uri": "https://localhost:8080/",
          "height": 352
        }
      },
      "source": [
        "sns.boxplot(frame.FuelAirTempCorrection)"
      ],
      "execution_count": 25,
      "outputs": [
        {
          "output_type": "stream",
          "text": [
            "/usr/local/lib/python3.6/dist-packages/seaborn/_decorators.py:43: FutureWarning: Pass the following variable as a keyword arg: x. From version 0.12, the only valid positional argument will be `data`, and passing other arguments without an explicit keyword will result in an error or misinterpretation.\n",
            "  FutureWarning\n"
          ],
          "name": "stderr"
        },
        {
          "output_type": "execute_result",
          "data": {
            "text/plain": [
              "<matplotlib.axes._subplots.AxesSubplot at 0x7f292b0fec18>"
            ]
          },
          "metadata": {
            "tags": []
          },
          "execution_count": 25
        },
        {
          "output_type": "display_data",
          "data": {
            "image/png": "[encoded data removed]",
            "text/plain": [
              "<Figure size 432x288 with 1 Axes>"
            ]
          },
          "metadata": {
            "tags": [],
            "needs_background": "light"
          }
        }
      ]
    },
    {
      "cell_type": "code",
      "metadata": {
        "id": "oqRRpJW32nTx",
        "outputId": "385e235c-943b-47f7-89f7-4a12221af563",
        "colab": {
          "base_uri": "https://localhost:8080/",
          "height": 458
        }
      },
      "source": [
        "\n",
        "print(np.nanpercentile(frame.FuelAirTempCorrection,[58])[0])\n",
        "uv_FuelAirTempCorrection = np.nanpercentile(frame.FuelAirTempCorrection,[58])[0]\n",
        "frame.FuelAirTempCorrection[(frame.FuelAirTempCorrection>3*uv_FuelAirTempCorrection)] = 3*uv_FuelAirTempCorrection\n",
        "sns.boxplot(frame.FuelAirTempCorrection)"
      ],
      "execution_count": 26,
      "outputs": [
        {
          "output_type": "stream",
          "text": [
            "56.0\n"
          ],
          "name": "stdout"
        },
        {
          "output_type": "stream",
          "text": [
            "/usr/local/lib/python3.6/dist-packages/ipykernel_launcher.py:4: SettingWithCopyWarning: \n",
            "A value is trying to be set on a copy of a slice from a DataFrame\n",
            "\n",
            "See the caveats in the documentation: https://pandas.pydata.org/pandas-docs/stable/user_guide/indexing.html#returning-a-view-versus-a-copy\n",
            "  after removing the cwd from sys.path.\n",
            "/usr/local/lib/python3.6/dist-packages/seaborn/_decorators.py:43: FutureWarning: Pass the following variable as a keyword arg: x. From version 0.12, the only valid positional argument will be `data`, and passing other arguments without an explicit keyword will result in an error or misinterpretation.\n",
            "  FutureWarning\n"
          ],
          "name": "stderr"
        },
        {
          "output_type": "execute_result",
          "data": {
            "text/plain": [
              "<matplotlib.axes._subplots.AxesSubplot at 0x7f292b059e80>"
            ]
          },
          "metadata": {
            "tags": []
          },
          "execution_count": 26
        },
        {
          "output_type": "display_data",
          "data": {
            "image/png": "[encoded data removed]",
            "text/plain": [
              "<Figure size 432x288 with 1 Axes>"
            ]
          },
          "metadata": {
            "tags": [],
            "needs_background": "light"
          }
        }
      ]
    },
    {
      "cell_type": "code",
      "metadata": {
        "id": "QVqkzqef2nWd",
        "outputId": "49d5b0dd-b11e-486d-cac5-aa182027ca44",
        "colab": {
          "base_uri": "https://localhost:8080/",
          "height": 352
        }
      },
      "source": [
        "sns.boxplot(frame.ThrottlePosition)"
      ],
      "execution_count": 27,
      "outputs": [
        {
          "output_type": "stream",
          "text": [
            "/usr/local/lib/python3.6/dist-packages/seaborn/_decorators.py:43: FutureWarning: Pass the following variable as a keyword arg: x. From version 0.12, the only valid positional argument will be `data`, and passing other arguments without an explicit keyword will result in an error or misinterpretation.\n",
            "  FutureWarning\n"
          ],
          "name": "stderr"
        },
        {
          "output_type": "execute_result",
          "data": {
            "text/plain": [
              "<matplotlib.axes._subplots.AxesSubplot at 0x7f292afc9128>"
            ]
          },
          "metadata": {
            "tags": []
          },
          "execution_count": 27
        },
        {
          "output_type": "display_data",
          "data": {
            "image/png": "[encoded data removed]",
            "text/plain": [
              "<Figure size 432x288 with 1 Axes>"
            ]
          },
          "metadata": {
            "tags": [],
            "needs_background": "light"
          }
        }
      ]
    },
    {
      "cell_type": "code",
      "metadata": {
        "id": "0IusjfxV2nl2",
        "outputId": "8d96a69e-eddd-4263-8e23-8b0df92bfbaa",
        "colab": {
          "base_uri": "https://localhost:8080/",
          "height": 563
        }
      },
      "source": [
        "print(np.nanpercentile(frame.ThrottlePosition,[55])[0])\n",
        "uv_ThrottlePosition = np.nanpercentile(frame.ThrottlePosition,[55])[0]\n",
        "frame.ThrottlePosition[(frame.ThrottlePosition>2*uv_ThrottlePosition)] = 2*uv_ThrottlePosition\n",
        "\n",
        "print(np.nanpercentile(frame.ThrottlePosition,[2.5])[0])\n",
        "lv_ThrottlePosition = np.nanpercentile(frame.ThrottlePosition,[2.5])[0]\n",
        "frame.ThrottlePosition[(frame.ThrottlePosition<0.9*lv_ThrottlePosition)] = 0.9*lv_ThrottlePosition\n",
        "sns.boxplot(frame.ThrottlePosition)"
      ],
      "execution_count": 28,
      "outputs": [
        {
          "output_type": "stream",
          "text": [
            "406.0\n",
            "36.0\n"
          ],
          "name": "stdout"
        },
        {
          "output_type": "stream",
          "text": [
            "/usr/local/lib/python3.6/dist-packages/ipykernel_launcher.py:3: SettingWithCopyWarning: \n",
            "A value is trying to be set on a copy of a slice from a DataFrame\n",
            "\n",
            "See the caveats in the documentation: https://pandas.pydata.org/pandas-docs/stable/user_guide/indexing.html#returning-a-view-versus-a-copy\n",
            "  This is separate from the ipykernel package so we can avoid doing imports until\n",
            "/usr/local/lib/python3.6/dist-packages/ipykernel_launcher.py:7: SettingWithCopyWarning: \n",
            "A value is trying to be set on a copy of a slice from a DataFrame\n",
            "\n",
            "See the caveats in the documentation: https://pandas.pydata.org/pandas-docs/stable/user_guide/indexing.html#returning-a-view-versus-a-copy\n",
            "  import sys\n",
            "/usr/local/lib/python3.6/dist-packages/seaborn/_decorators.py:43: FutureWarning: Pass the following variable as a keyword arg: x. From version 0.12, the only valid positional argument will be `data`, and passing other arguments without an explicit keyword will result in an error or misinterpretation.\n",
            "  FutureWarning\n"
          ],
          "name": "stderr"
        },
        {
          "output_type": "execute_result",
          "data": {
            "text/plain": [
              "<matplotlib.axes._subplots.AxesSubplot at 0x7f292af373c8>"
            ]
          },
          "metadata": {
            "tags": []
          },
          "execution_count": 28
        },
        {
          "output_type": "display_data",
          "data": {
            "image/png": "[encoded data removed]",
            "text/plain": [
              "<Figure size 432x288 with 1 Axes>"
            ]
          },
          "metadata": {
            "tags": [],
            "needs_background": "light"
          }
        }
      ]
    },
    {
      "cell_type": "code",
      "metadata": {
        "id": "nkdVtNjj2nqR",
        "outputId": "54dea6d6-6996-4537-9170-d6687efe7d63",
        "colab": {
          "base_uri": "https://localhost:8080/",
          "height": 352
        }
      },
      "source": [
        "sns.boxplot(frame.AirTemp)"
      ],
      "execution_count": 29,
      "outputs": [
        {
          "output_type": "stream",
          "text": [
            "/usr/local/lib/python3.6/dist-packages/seaborn/_decorators.py:43: FutureWarning: Pass the following variable as a keyword arg: x. From version 0.12, the only valid positional argument will be `data`, and passing other arguments without an explicit keyword will result in an error or misinterpretation.\n",
            "  FutureWarning\n"
          ],
          "name": "stderr"
        },
        {
          "output_type": "execute_result",
          "data": {
            "text/plain": [
              "<matplotlib.axes._subplots.AxesSubplot at 0x7f292af258d0>"
            ]
          },
          "metadata": {
            "tags": []
          },
          "execution_count": 29
        },
        {
          "output_type": "display_data",
          "data": {
            "image/png": "[encoded data removed]",
            "text/plain": [
              "<Figure size 432x288 with 1 Axes>"
            ]
          },
          "metadata": {
            "tags": [],
            "needs_background": "light"
          }
        }
      ]
    },
    {
      "cell_type": "code",
      "metadata": {
        "id": "nra7XvTQ8qUi",
        "outputId": "b121a467-f3dc-4fe6-a876-d84bdd7523ee",
        "colab": {
          "base_uri": "https://localhost:8080/",
          "height": 458
        }
      },
      "source": [
        "print(np.nanpercentile(frame.AirTemp,[50])[0])\n",
        "uv_AirTemp = np.nanpercentile(frame.AirTemp,[50])[0]\n",
        "frame.AirTemp[(frame.AirTemp>2*uv_AirTemp)] = 2*uv_AirTemp\n",
        "sns.boxplot(frame.AirTemp)"
      ],
      "execution_count": 30,
      "outputs": [
        {
          "output_type": "stream",
          "text": [
            "401.0\n"
          ],
          "name": "stdout"
        },
        {
          "output_type": "stream",
          "text": [
            "/usr/local/lib/python3.6/dist-packages/ipykernel_launcher.py:3: SettingWithCopyWarning: \n",
            "A value is trying to be set on a copy of a slice from a DataFrame\n",
            "\n",
            "See the caveats in the documentation: https://pandas.pydata.org/pandas-docs/stable/user_guide/indexing.html#returning-a-view-versus-a-copy\n",
            "  This is separate from the ipykernel package so we can avoid doing imports until\n",
            "/usr/local/lib/python3.6/dist-packages/seaborn/_decorators.py:43: FutureWarning: Pass the following variable as a keyword arg: x. From version 0.12, the only valid positional argument will be `data`, and passing other arguments without an explicit keyword will result in an error or misinterpretation.\n",
            "  FutureWarning\n"
          ],
          "name": "stderr"
        },
        {
          "output_type": "execute_result",
          "data": {
            "text/plain": [
              "<matplotlib.axes._subplots.AxesSubplot at 0x7f292ae71588>"
            ]
          },
          "metadata": {
            "tags": []
          },
          "execution_count": 30
        },
        {
          "output_type": "display_data",
          "data": {
            "image/png": "[encoded data removed]",
            "text/plain": [
              "<Figure size 432x288 with 1 Axes>"
            ]
          },
          "metadata": {
            "tags": [],
            "needs_background": "light"
          }
        }
      ]
    },
    {
      "cell_type": "code",
      "metadata": {
        "id": "xc62RCra8qZ3",
        "outputId": "916d7af0-2b71-420e-bcab-7e1a771a928a",
        "colab": {
          "base_uri": "https://localhost:8080/",
          "height": 352
        }
      },
      "source": [
        "sns.boxplot(frame.CoolantTemp)"
      ],
      "execution_count": 31,
      "outputs": [
        {
          "output_type": "stream",
          "text": [
            "/usr/local/lib/python3.6/dist-packages/seaborn/_decorators.py:43: FutureWarning: Pass the following variable as a keyword arg: x. From version 0.12, the only valid positional argument will be `data`, and passing other arguments without an explicit keyword will result in an error or misinterpretation.\n",
            "  FutureWarning\n"
          ],
          "name": "stderr"
        },
        {
          "output_type": "execute_result",
          "data": {
            "text/plain": [
              "<matplotlib.axes._subplots.AxesSubplot at 0x7f292ed10320>"
            ]
          },
          "metadata": {
            "tags": []
          },
          "execution_count": 31
        },
        {
          "output_type": "display_data",
          "data": {
            "image/png": "[encoded data removed]",
            "text/plain": [
              "<Figure size 432x288 with 1 Axes>"
            ]
          },
          "metadata": {
            "tags": [],
            "needs_background": "light"
          }
        }
      ]
    },
    {
      "cell_type": "code",
      "metadata": {
        "id": "1rm9lpEW8qdH",
        "outputId": "0a9bf30d-9fad-4f64-834c-53b8cfd7d254",
        "colab": {
          "base_uri": "https://localhost:8080/",
          "height": 458
        }
      },
      "source": [
        "print(np.nanpercentile(frame.CoolantTemp,[1])[0])\n",
        "lv_CoolantTemp = np.nanpercentile(frame.CoolantTemp,[1])[0]\n",
        "frame.CoolantTemp[(frame.CoolantTemp<1*lv_CoolantTemp)] = 1*lv_CoolantTemp\n",
        "sns.boxplot(frame.CoolantTemp)"
      ],
      "execution_count": 32,
      "outputs": [
        {
          "output_type": "stream",
          "text": [
            "3316.0\n"
          ],
          "name": "stdout"
        },
        {
          "output_type": "stream",
          "text": [
            "/usr/local/lib/python3.6/dist-packages/ipykernel_launcher.py:3: SettingWithCopyWarning: \n",
            "A value is trying to be set on a copy of a slice from a DataFrame\n",
            "\n",
            "See the caveats in the documentation: https://pandas.pydata.org/pandas-docs/stable/user_guide/indexing.html#returning-a-view-versus-a-copy\n",
            "  This is separate from the ipykernel package so we can avoid doing imports until\n",
            "/usr/local/lib/python3.6/dist-packages/seaborn/_decorators.py:43: FutureWarning: Pass the following variable as a keyword arg: x. From version 0.12, the only valid positional argument will be `data`, and passing other arguments without an explicit keyword will result in an error or misinterpretation.\n",
            "  FutureWarning\n"
          ],
          "name": "stderr"
        },
        {
          "output_type": "execute_result",
          "data": {
            "text/plain": [
              "<matplotlib.axes._subplots.AxesSubplot at 0x7f292adc2198>"
            ]
          },
          "metadata": {
            "tags": []
          },
          "execution_count": 32
        },
        {
          "output_type": "display_data",
          "data": {
            "image/png": "[encoded data removed]",
            "text/plain": [
              "<Figure size 432x288 with 1 Axes>"
            ]
          },
          "metadata": {
            "tags": [],
            "needs_background": "light"
          }
        }
      ]
    },
    {
      "cell_type": "code",
      "metadata": {
        "id": "_4jPxF5g8qXr",
        "outputId": "1a7be86d-0056-412d-9a77-c1d33ba41db1",
        "colab": {
          "base_uri": "https://localhost:8080/",
          "height": 352
        }
      },
      "source": [
        "sns.boxplot(frame.LambdaSensor1)"
      ],
      "execution_count": 33,
      "outputs": [
        {
          "output_type": "stream",
          "text": [
            "/usr/local/lib/python3.6/dist-packages/seaborn/_decorators.py:43: FutureWarning: Pass the following variable as a keyword arg: x. From version 0.12, the only valid positional argument will be `data`, and passing other arguments without an explicit keyword will result in an error or misinterpretation.\n",
            "  FutureWarning\n"
          ],
          "name": "stderr"
        },
        {
          "output_type": "execute_result",
          "data": {
            "text/plain": [
              "<matplotlib.axes._subplots.AxesSubplot at 0x7f292b044400>"
            ]
          },
          "metadata": {
            "tags": []
          },
          "execution_count": 33
        },
        {
          "output_type": "display_data",
          "data": {
            "image/png": "[encoded data removed]",
            "text/plain": [
              "<Figure size 432x288 with 1 Axes>"
            ]
          },
          "metadata": {
            "tags": [],
            "needs_background": "light"
          }
        }
      ]
    },
    {
      "cell_type": "code",
      "metadata": {
        "id": "5i5d1HkP8qR6",
        "outputId": "8542f161-8727-4ed6-f914-cac14a243761",
        "colab": {
          "base_uri": "https://localhost:8080/",
          "height": 458
        }
      },
      "source": [
        "print(np.nanpercentile(frame.LambdaSensor1,[21])[0])\n",
        "lv_LambdaSensor1 = np.nanpercentile(frame.LambdaSensor1,[21])[0]\n",
        "frame.LambdaSensor1[(frame.LambdaSensor1<1.04*lv_LambdaSensor1)] = 1.04*lv_LambdaSensor1\n",
        "sns.boxplot(frame.LambdaSensor1)"
      ],
      "execution_count": 34,
      "outputs": [
        {
          "output_type": "stream",
          "text": [
            "1282.0\n"
          ],
          "name": "stdout"
        },
        {
          "output_type": "stream",
          "text": [
            "/usr/local/lib/python3.6/dist-packages/ipykernel_launcher.py:3: SettingWithCopyWarning: \n",
            "A value is trying to be set on a copy of a slice from a DataFrame\n",
            "\n",
            "See the caveats in the documentation: https://pandas.pydata.org/pandas-docs/stable/user_guide/indexing.html#returning-a-view-versus-a-copy\n",
            "  This is separate from the ipykernel package so we can avoid doing imports until\n",
            "/usr/local/lib/python3.6/dist-packages/seaborn/_decorators.py:43: FutureWarning: Pass the following variable as a keyword arg: x. From version 0.12, the only valid positional argument will be `data`, and passing other arguments without an explicit keyword will result in an error or misinterpretation.\n",
            "  FutureWarning\n"
          ],
          "name": "stderr"
        },
        {
          "output_type": "execute_result",
          "data": {
            "text/plain": [
              "<matplotlib.axes._subplots.AxesSubplot at 0x7f292c5aa668>"
            ]
          },
          "metadata": {
            "tags": []
          },
          "execution_count": 34
        },
        {
          "output_type": "display_data",
          "data": {
            "image/png": "[encoded data removed]",
            "text/plain": [
              "<Figure size 432x288 with 1 Axes>"
            ]
          },
          "metadata": {
            "tags": [],
            "needs_background": "light"
          }
        }
      ]
    },
    {
      "cell_type": "code",
      "metadata": {
        "id": "RVU2O40q2ngq",
        "outputId": "05d36d60-1935-4f6b-9e5b-22fdadb43db8",
        "colab": {
          "base_uri": "https://localhost:8080/",
          "height": 352
        }
      },
      "source": [
        "sns.boxplot(frame.RPM)"
      ],
      "execution_count": 35,
      "outputs": [
        {
          "output_type": "stream",
          "text": [
            "/usr/local/lib/python3.6/dist-packages/seaborn/_decorators.py:43: FutureWarning: Pass the following variable as a keyword arg: x. From version 0.12, the only valid positional argument will be `data`, and passing other arguments without an explicit keyword will result in an error or misinterpretation.\n",
            "  FutureWarning\n"
          ],
          "name": "stderr"
        },
        {
          "output_type": "execute_result",
          "data": {
            "text/plain": [
              "<matplotlib.axes._subplots.AxesSubplot at 0x7f292b121c50>"
            ]
          },
          "metadata": {
            "tags": []
          },
          "execution_count": 35
        },
        {
          "output_type": "display_data",
          "data": {
            "image/png": "[encoded data removed]",
            "text/plain": [
              "<Figure size 432x288 with 1 Axes>"
            ]
          },
          "metadata": {
            "tags": [],
            "needs_background": "light"
          }
        }
      ]
    },
    {
      "cell_type": "code",
      "metadata": {
        "id": "k-LgwPQ12neI",
        "outputId": "b9b65831-246c-4012-c7d3-44b11557cdcc",
        "colab": {
          "base_uri": "https://localhost:8080/",
          "height": 563
        }
      },
      "source": [
        "print(np.nanpercentile(frame.RPM,[99])[0])\n",
        "uv_RPM = np.nanpercentile(frame.RPM,[99])[0]\n",
        "frame.RPM[(frame.RPM>1.01*uv_RPM)] = 1.01*uv_RPM\n",
        "\n",
        "print(np.nanpercentile(frame.RPM,[21])[0])\n",
        "lv_RPM = np.nanpercentile(frame.RPM,[21])[0]\n",
        "frame.RPM[(frame.RPM<1*lv_RPM)] = 1*lv_RPM\n",
        "sns.boxplot(frame.RPM)"
      ],
      "execution_count": 36,
      "outputs": [
        {
          "output_type": "stream",
          "text": [
            "3617.0\n",
            "3223.0\n"
          ],
          "name": "stdout"
        },
        {
          "output_type": "stream",
          "text": [
            "/usr/local/lib/python3.6/dist-packages/ipykernel_launcher.py:3: SettingWithCopyWarning: \n",
            "A value is trying to be set on a copy of a slice from a DataFrame\n",
            "\n",
            "See the caveats in the documentation: https://pandas.pydata.org/pandas-docs/stable/user_guide/indexing.html#returning-a-view-versus-a-copy\n",
            "  This is separate from the ipykernel package so we can avoid doing imports until\n",
            "/usr/local/lib/python3.6/dist-packages/ipykernel_launcher.py:7: SettingWithCopyWarning: \n",
            "A value is trying to be set on a copy of a slice from a DataFrame\n",
            "\n",
            "See the caveats in the documentation: https://pandas.pydata.org/pandas-docs/stable/user_guide/indexing.html#returning-a-view-versus-a-copy\n",
            "  import sys\n",
            "/usr/local/lib/python3.6/dist-packages/seaborn/_decorators.py:43: FutureWarning: Pass the following variable as a keyword arg: x. From version 0.12, the only valid positional argument will be `data`, and passing other arguments without an explicit keyword will result in an error or misinterpretation.\n",
            "  FutureWarning\n"
          ],
          "name": "stderr"
        },
        {
          "output_type": "execute_result",
          "data": {
            "text/plain": [
              "<matplotlib.axes._subplots.AxesSubplot at 0x7f292b0864e0>"
            ]
          },
          "metadata": {
            "tags": []
          },
          "execution_count": 36
        },
        {
          "output_type": "display_data",
          "data": {
            "image/png": "[encoded data removed]",
            "text/plain": [
              "<Figure size 432x288 with 1 Axes>"
            ]
          },
          "metadata": {
            "tags": [],
            "needs_background": "light"
          }
        }
      ]
    },
    {
      "cell_type": "code",
      "metadata": {
        "id": "a1L2wzluoEBU",
        "outputId": "0db629c5-0794-4437-b103-f10cff14c6e7",
        "colab": {
          "base_uri": "https://localhost:8080/",
          "height": 352
        }
      },
      "source": [
        "sns.boxplot(frame.Load)"
      ],
      "execution_count": 37,
      "outputs": [
        {
          "output_type": "stream",
          "text": [
            "/usr/local/lib/python3.6/dist-packages/seaborn/_decorators.py:43: FutureWarning: Pass the following variable as a keyword arg: x. From version 0.12, the only valid positional argument will be `data`, and passing other arguments without an explicit keyword will result in an error or misinterpretation.\n",
            "  FutureWarning\n"
          ],
          "name": "stderr"
        },
        {
          "output_type": "execute_result",
          "data": {
            "text/plain": [
              "<matplotlib.axes._subplots.AxesSubplot at 0x7f292ac25b38>"
            ]
          },
          "metadata": {
            "tags": []
          },
          "execution_count": 37
        },
        {
          "output_type": "display_data",
          "data": {
            "image/png": "[encoded data removed]",
            "text/plain": [
              "<Figure size 432x288 with 1 Axes>"
            ]
          },
          "metadata": {
            "tags": [],
            "needs_background": "light"
          }
        }
      ]
    },
    {
      "cell_type": "code",
      "metadata": {
        "id": "vnWkgCcNoED_",
        "outputId": "3852f92c-9ea7-4612-b5d7-fc6007c22007",
        "colab": {
          "base_uri": "https://localhost:8080/",
          "height": 458
        }
      },
      "source": [
        "print(np.nanpercentile(frame.Load,[98.5])[0])\n",
        "uv_Load = np.nanpercentile(frame.Load,[98.5])[0]\n",
        "frame.Load[(frame.Load>1*uv_Load)] = 1.*uv_Load\n",
        "sns.boxplot(frame.Load)"
      ],
      "execution_count": 38,
      "outputs": [
        {
          "output_type": "stream",
          "text": [
            "819.0\n"
          ],
          "name": "stdout"
        },
        {
          "output_type": "stream",
          "text": [
            "/usr/local/lib/python3.6/dist-packages/ipykernel_launcher.py:3: SettingWithCopyWarning: \n",
            "A value is trying to be set on a copy of a slice from a DataFrame\n",
            "\n",
            "See the caveats in the documentation: https://pandas.pydata.org/pandas-docs/stable/user_guide/indexing.html#returning-a-view-versus-a-copy\n",
            "  This is separate from the ipykernel package so we can avoid doing imports until\n",
            "/usr/local/lib/python3.6/dist-packages/seaborn/_decorators.py:43: FutureWarning: Pass the following variable as a keyword arg: x. From version 0.12, the only valid positional argument will be `data`, and passing other arguments without an explicit keyword will result in an error or misinterpretation.\n",
            "  FutureWarning\n"
          ],
          "name": "stderr"
        },
        {
          "output_type": "execute_result",
          "data": {
            "text/plain": [
              "<matplotlib.axes._subplots.AxesSubplot at 0x7f292abdd240>"
            ]
          },
          "metadata": {
            "tags": []
          },
          "execution_count": 38
        },
        {
          "output_type": "display_data",
          "data": {
            "image/png": "[encoded data removed]",
            "text/plain": [
              "<Figure size 432x288 with 1 Axes>"
            ]
          },
          "metadata": {
            "tags": [],
            "needs_background": "light"
          }
        }
      ]
    },
    {
      "cell_type": "code",
      "metadata": {
        "id": "M2Pz0--BoEKn",
        "outputId": "bb09bb97-8e2a-4cc6-ba56-f721edd998ca",
        "colab": {
          "base_uri": "https://localhost:8080/",
          "height": 352
        }
      },
      "source": [
        "sns.boxplot(frame.BatteryVoltage)"
      ],
      "execution_count": 39,
      "outputs": [
        {
          "output_type": "stream",
          "text": [
            "/usr/local/lib/python3.6/dist-packages/seaborn/_decorators.py:43: FutureWarning: Pass the following variable as a keyword arg: x. From version 0.12, the only valid positional argument will be `data`, and passing other arguments without an explicit keyword will result in an error or misinterpretation.\n",
            "  FutureWarning\n"
          ],
          "name": "stderr"
        },
        {
          "output_type": "execute_result",
          "data": {
            "text/plain": [
              "<matplotlib.axes._subplots.AxesSubplot at 0x7f292ab49e48>"
            ]
          },
          "metadata": {
            "tags": []
          },
          "execution_count": 39
        },
        {
          "output_type": "display_data",
          "data": {
            "image/png": "[encoded data removed]",
            "text/plain": [
              "<Figure size 432x288 with 1 Axes>"
            ]
          },
          "metadata": {
            "tags": [],
            "needs_background": "light"
          }
        }
      ]
    },
    {
      "cell_type": "code",
      "metadata": {
        "id": "GhknUmQPoENQ",
        "outputId": "e99a1aca-9890-4e10-a218-6aecc0923a00",
        "colab": {
          "base_uri": "https://localhost:8080/",
          "height": 563
        }
      },
      "source": [
        "print(np.nanpercentile(frame.BatteryVoltage,[90])[0])\n",
        "uv_BatteryVoltage = np.nanpercentile(frame.BatteryVoltage,[90])[0]\n",
        "frame.BatteryVoltage[(frame.BatteryVoltage>1*uv_BatteryVoltage)] = 1*uv_BatteryVoltage\n",
        "\n",
        "print(np.nanpercentile(frame.BatteryVoltage,[1])[0])\n",
        "lv_BatteryVoltage = np.nanpercentile(frame.BatteryVoltage,[1])[0]\n",
        "frame.BatteryVoltage[(frame.BatteryVoltage<1.002*lv_BatteryVoltage)] = 1.002*lv_BatteryVoltage\n",
        "\n",
        "sns.boxplot(frame.BatteryVoltage)"
      ],
      "execution_count": 40,
      "outputs": [
        {
          "output_type": "stream",
          "text": [
            "1178.0\n",
            "826.0\n"
          ],
          "name": "stdout"
        },
        {
          "output_type": "stream",
          "text": [
            "/usr/local/lib/python3.6/dist-packages/ipykernel_launcher.py:3: SettingWithCopyWarning: \n",
            "A value is trying to be set on a copy of a slice from a DataFrame\n",
            "\n",
            "See the caveats in the documentation: https://pandas.pydata.org/pandas-docs/stable/user_guide/indexing.html#returning-a-view-versus-a-copy\n",
            "  This is separate from the ipykernel package so we can avoid doing imports until\n",
            "/usr/local/lib/python3.6/dist-packages/ipykernel_launcher.py:7: SettingWithCopyWarning: \n",
            "A value is trying to be set on a copy of a slice from a DataFrame\n",
            "\n",
            "See the caveats in the documentation: https://pandas.pydata.org/pandas-docs/stable/user_guide/indexing.html#returning-a-view-versus-a-copy\n",
            "  import sys\n",
            "/usr/local/lib/python3.6/dist-packages/seaborn/_decorators.py:43: FutureWarning: Pass the following variable as a keyword arg: x. From version 0.12, the only valid positional argument will be `data`, and passing other arguments without an explicit keyword will result in an error or misinterpretation.\n",
            "  FutureWarning\n"
          ],
          "name": "stderr"
        },
        {
          "output_type": "execute_result",
          "data": {
            "text/plain": [
              "<matplotlib.axes._subplots.AxesSubplot at 0x7f292aaab1d0>"
            ]
          },
          "metadata": {
            "tags": []
          },
          "execution_count": 40
        },
        {
          "output_type": "display_data",
          "data": {
            "image/png": "[encoded data removed]",
            "text/plain": [
              "<Figure size 432x288 with 1 Axes>"
            ]
          },
          "metadata": {
            "tags": [],
            "needs_background": "light"
          }
        }
      ]
    },
    {
      "cell_type": "code",
      "metadata": {
        "id": "puB7QGPd2nbt",
        "outputId": "14256407-cc88-4861-bc06-3e939907fb40",
        "colab": {
          "base_uri": "https://localhost:8080/",
          "height": 352
        }
      },
      "source": [
        "sns.boxplot(frame.EngineRunningTime)\n"
      ],
      "execution_count": 41,
      "outputs": [
        {
          "output_type": "stream",
          "text": [
            "/usr/local/lib/python3.6/dist-packages/seaborn/_decorators.py:43: FutureWarning: Pass the following variable as a keyword arg: x. From version 0.12, the only valid positional argument will be `data`, and passing other arguments without an explicit keyword will result in an error or misinterpretation.\n",
            "  FutureWarning\n"
          ],
          "name": "stderr"
        },
        {
          "output_type": "execute_result",
          "data": {
            "text/plain": [
              "<matplotlib.axes._subplots.AxesSubplot at 0x7f292aaacef0>"
            ]
          },
          "metadata": {
            "tags": []
          },
          "execution_count": 41
        },
        {
          "output_type": "display_data",
          "data": {
            "image/png": "[encoded data removed]",
            "text/plain": [
              "<Figure size 432x288 with 1 Axes>"
            ]
          },
          "metadata": {
            "tags": [],
            "needs_background": "light"
          }
        }
      ]
    },
    {
      "cell_type": "code",
      "metadata": {
        "id": "kRh7GBif2naD",
        "outputId": "b8ceea5c-b9c4-42d6-d0a8-c7bde47f5a07",
        "colab": {
          "base_uri": "https://localhost:8080/",
          "height": 458
        }
      },
      "source": [
        "print(np.nanpercentile(frame.EngineRunningTime,[97])[0])\n",
        "uv_EngineRunningTime = np.nanpercentile(frame.EngineRunningTime,[97])[0]\n",
        "frame.EngineRunningTime[(frame.EngineRunningTime>1*uv_EngineRunningTime)] = 1*uv_EngineRunningTime\n",
        "sns.boxplot(frame.EngineRunningTime)"
      ],
      "execution_count": 42,
      "outputs": [
        {
          "output_type": "stream",
          "text": [
            "171.0\n"
          ],
          "name": "stdout"
        },
        {
          "output_type": "stream",
          "text": [
            "/usr/local/lib/python3.6/dist-packages/ipykernel_launcher.py:3: SettingWithCopyWarning: \n",
            "A value is trying to be set on a copy of a slice from a DataFrame\n",
            "\n",
            "See the caveats in the documentation: https://pandas.pydata.org/pandas-docs/stable/user_guide/indexing.html#returning-a-view-versus-a-copy\n",
            "  This is separate from the ipykernel package so we can avoid doing imports until\n",
            "/usr/local/lib/python3.6/dist-packages/seaborn/_decorators.py:43: FutureWarning: Pass the following variable as a keyword arg: x. From version 0.12, the only valid positional argument will be `data`, and passing other arguments without an explicit keyword will result in an error or misinterpretation.\n",
            "  FutureWarning\n"
          ],
          "name": "stderr"
        },
        {
          "output_type": "execute_result",
          "data": {
            "text/plain": [
              "<matplotlib.axes._subplots.AxesSubplot at 0x7f292a9ec4e0>"
            ]
          },
          "metadata": {
            "tags": []
          },
          "execution_count": 42
        },
        {
          "output_type": "display_data",
          "data": {
            "image/png": "[encoded data removed]",
            "text/plain": [
              "<Figure size 432x288 with 1 Axes>"
            ]
          },
          "metadata": {
            "tags": [],
            "needs_background": "light"
          }
        }
      ]
    },
    {
      "cell_type": "code",
      "metadata": {
        "id": "pu45am0o2nRU",
        "outputId": "ed43f144-310c-4355-e065-621f35c27989",
        "colab": {
          "base_uri": "https://localhost:8080/",
          "height": 352
        }
      },
      "source": [
        "sns.boxplot(frame.DeltaLoad)"
      ],
      "execution_count": 43,
      "outputs": [
        {
          "output_type": "stream",
          "text": [
            "/usr/local/lib/python3.6/dist-packages/seaborn/_decorators.py:43: FutureWarning: Pass the following variable as a keyword arg: x. From version 0.12, the only valid positional argument will be `data`, and passing other arguments without an explicit keyword will result in an error or misinterpretation.\n",
            "  FutureWarning\n"
          ],
          "name": "stderr"
        },
        {
          "output_type": "execute_result",
          "data": {
            "text/plain": [
              "<matplotlib.axes._subplots.AxesSubplot at 0x7f292a9d5320>"
            ]
          },
          "metadata": {
            "tags": []
          },
          "execution_count": 43
        },
        {
          "output_type": "display_data",
          "data": {
            "image/png": "[encoded data removed]",
            "text/plain": [
              "<Figure size 432x288 with 1 Axes>"
            ]
          },
          "metadata": {
            "tags": [],
            "needs_background": "light"
          }
        }
      ]
    },
    {
      "cell_type": "code",
      "metadata": {
        "id": "YetEKPz0m00G",
        "outputId": "8b523289-358f-4b87-e51d-d64e4d78d2e4",
        "colab": {
          "base_uri": "https://localhost:8080/",
          "height": 563
        }
      },
      "source": [
        "print(np.nanpercentile(frame.DeltaLoad,[99])[0])\n",
        "uv_DeltaLoad = np.nanpercentile(frame.DeltaLoad,[99])[0]\n",
        "frame.DeltaLoad[(frame.DeltaLoad>1.2*uv_DeltaLoad)] = 1.2*uv_DeltaLoad\n",
        "\n",
        "print(np.nanpercentile(frame.DeltaLoad,[6])[0])\n",
        "lv_DeltaLoad = np.nanpercentile(frame.DeltaLoad,[6])[0]\n",
        "frame.DeltaLoad[(frame.DeltaLoad<1.002*lv_DeltaLoad)] = 1*lv_DeltaLoad\n",
        "\n",
        "sns.boxplot(frame.DeltaLoad)"
      ],
      "execution_count": 44,
      "outputs": [
        {
          "output_type": "stream",
          "text": [
            "632.0\n",
            "256.0\n"
          ],
          "name": "stdout"
        },
        {
          "output_type": "stream",
          "text": [
            "/usr/local/lib/python3.6/dist-packages/ipykernel_launcher.py:3: SettingWithCopyWarning: \n",
            "A value is trying to be set on a copy of a slice from a DataFrame\n",
            "\n",
            "See the caveats in the documentation: https://pandas.pydata.org/pandas-docs/stable/user_guide/indexing.html#returning-a-view-versus-a-copy\n",
            "  This is separate from the ipykernel package so we can avoid doing imports until\n",
            "/usr/local/lib/python3.6/dist-packages/ipykernel_launcher.py:7: SettingWithCopyWarning: \n",
            "A value is trying to be set on a copy of a slice from a DataFrame\n",
            "\n",
            "See the caveats in the documentation: https://pandas.pydata.org/pandas-docs/stable/user_guide/indexing.html#returning-a-view-versus-a-copy\n",
            "  import sys\n",
            "/usr/local/lib/python3.6/dist-packages/seaborn/_decorators.py:43: FutureWarning: Pass the following variable as a keyword arg: x. From version 0.12, the only valid positional argument will be `data`, and passing other arguments without an explicit keyword will result in an error or misinterpretation.\n",
            "  FutureWarning\n"
          ],
          "name": "stderr"
        },
        {
          "output_type": "execute_result",
          "data": {
            "text/plain": [
              "<matplotlib.axes._subplots.AxesSubplot at 0x7f292a933080>"
            ]
          },
          "metadata": {
            "tags": []
          },
          "execution_count": 44
        },
        {
          "output_type": "display_data",
          "data": {
            "image/png": "[encoded data removed]",
            "text/plain": [
              "<Figure size 432x288 with 1 Axes>"
            ]
          },
          "metadata": {
            "tags": [],
            "needs_background": "light"
          }
        }
      ]
    },
    {
      "cell_type": "code",
      "metadata": {
        "id": "miyL9PDym0xm",
        "outputId": "c2764d67-9499-4b12-8526-4f0d47a8ab22",
        "colab": {
          "base_uri": "https://localhost:8080/",
          "height": 352
        }
      },
      "source": [
        "sns.boxplot(frame.MAPSource)"
      ],
      "execution_count": 45,
      "outputs": [
        {
          "output_type": "stream",
          "text": [
            "/usr/local/lib/python3.6/dist-packages/seaborn/_decorators.py:43: FutureWarning: Pass the following variable as a keyword arg: x. From version 0.12, the only valid positional argument will be `data`, and passing other arguments without an explicit keyword will result in an error or misinterpretation.\n",
            "  FutureWarning\n"
          ],
          "name": "stderr"
        },
        {
          "output_type": "execute_result",
          "data": {
            "text/plain": [
              "<matplotlib.axes._subplots.AxesSubplot at 0x7f292a937b70>"
            ]
          },
          "metadata": {
            "tags": []
          },
          "execution_count": 45
        },
        {
          "output_type": "display_data",
          "data": {
            "image/png": "[encoded data removed]",
            "text/plain": [
              "<Figure size 432x288 with 1 Axes>"
            ]
          },
          "metadata": {
            "tags": [],
            "needs_background": "light"
          }
        }
      ]
    },
    {
      "cell_type": "code",
      "metadata": {
        "id": "GbinKPwim0uw",
        "outputId": "c51f21d3-e42c-4cde-ae71-825655576b07",
        "colab": {
          "base_uri": "https://localhost:8080/",
          "height": 563
        }
      },
      "source": [
        "print(np.nanpercentile(frame.MAPSource,[94])[0])\n",
        "uv_MAPSource = np.nanpercentile(frame.MAPSource,[94])[0]\n",
        "frame.MAPSource[(frame.MAPSource>1*uv_MAPSource)] = 1*uv_MAPSource\n",
        "\n",
        "print(np.nanpercentile(frame.MAPSource,[6])[0])\n",
        "lv_MAPSource = np.nanpercentile(frame.MAPSource,[6])[0]\n",
        "frame.MAPSource[(frame.MAPSource<1*lv_MAPSource)] = 1*lv_MAPSource\n",
        "\n",
        "sns.boxplot(frame.MAPSource)"
      ],
      "execution_count": 46,
      "outputs": [
        {
          "output_type": "stream",
          "text": [
            "381.0\n",
            "233.0\n"
          ],
          "name": "stdout"
        },
        {
          "output_type": "stream",
          "text": [
            "/usr/local/lib/python3.6/dist-packages/ipykernel_launcher.py:3: SettingWithCopyWarning: \n",
            "A value is trying to be set on a copy of a slice from a DataFrame\n",
            "\n",
            "See the caveats in the documentation: https://pandas.pydata.org/pandas-docs/stable/user_guide/indexing.html#returning-a-view-versus-a-copy\n",
            "  This is separate from the ipykernel package so we can avoid doing imports until\n",
            "/usr/local/lib/python3.6/dist-packages/ipykernel_launcher.py:7: SettingWithCopyWarning: \n",
            "A value is trying to be set on a copy of a slice from a DataFrame\n",
            "\n",
            "See the caveats in the documentation: https://pandas.pydata.org/pandas-docs/stable/user_guide/indexing.html#returning-a-view-versus-a-copy\n",
            "  import sys\n",
            "/usr/local/lib/python3.6/dist-packages/seaborn/_decorators.py:43: FutureWarning: Pass the following variable as a keyword arg: x. From version 0.12, the only valid positional argument will be `data`, and passing other arguments without an explicit keyword will result in an error or misinterpretation.\n",
            "  FutureWarning\n"
          ],
          "name": "stderr"
        },
        {
          "output_type": "execute_result",
          "data": {
            "text/plain": [
              "<matplotlib.axes._subplots.AxesSubplot at 0x7f292a8dc4e0>"
            ]
          },
          "metadata": {
            "tags": []
          },
          "execution_count": 46
        },
        {
          "output_type": "display_data",
          "data": {
            "image/png": "[encoded data removed]",
            "text/plain": [
              "<Figure size 432x288 with 1 Axes>"
            ]
          },
          "metadata": {
            "tags": [],
            "needs_background": "light"
          }
        }
      ]
    },
    {
      "cell_type": "code",
      "metadata": {
        "id": "xBk3RHhVm0sT",
        "outputId": "e2432cf4-0089-40ba-9870-243df26ab504",
        "colab": {
          "base_uri": "https://localhost:8080/",
          "height": 352
        }
      },
      "source": [
        "sns.boxplot(frame.TransientThrottleAccelCoolantCorr)"
      ],
      "execution_count": 47,
      "outputs": [
        {
          "output_type": "stream",
          "text": [
            "/usr/local/lib/python3.6/dist-packages/seaborn/_decorators.py:43: FutureWarning: Pass the following variable as a keyword arg: x. From version 0.12, the only valid positional argument will be `data`, and passing other arguments without an explicit keyword will result in an error or misinterpretation.\n",
            "  FutureWarning\n"
          ],
          "name": "stderr"
        },
        {
          "output_type": "execute_result",
          "data": {
            "text/plain": [
              "<matplotlib.axes._subplots.AxesSubplot at 0x7f292a9e34e0>"
            ]
          },
          "metadata": {
            "tags": []
          },
          "execution_count": 47
        },
        {
          "output_type": "display_data",
          "data": {
            "image/png": "[encoded data removed]",
            "text/plain": [
              "<Figure size 432x288 with 1 Axes>"
            ]
          },
          "metadata": {
            "tags": [],
            "needs_background": "light"
          }
        }
      ]
    },
    {
      "cell_type": "code",
      "metadata": {
        "id": "j_ZbqXHirxE7",
        "outputId": "1280ae7f-cc38-4d21-b848-ed11dc77cdd7",
        "colab": {
          "base_uri": "https://localhost:8080/",
          "height": 458
        }
      },
      "source": [
        "print(np.nanpercentile(frame.TransientThrottleAccelCoolantCorr,[6])[0])\n",
        "lv_TransientThrottleAccelCoolantCorr = np.nanpercentile(frame.TransientThrottleAccelCoolantCorr,[6])[0]\n",
        "frame.TransientThrottleAccelCoolantCorr[(frame.TransientThrottleAccelCoolantCorr<1*lv_TransientThrottleAccelCoolantCorr)] = 1*lv_TransientThrottleAccelCoolantCorr\n",
        "\n",
        "sns.boxplot(frame.TransientThrottleAccelCoolantCorr)"
      ],
      "execution_count": 48,
      "outputs": [
        {
          "output_type": "stream",
          "text": [
            "520.0\n"
          ],
          "name": "stdout"
        },
        {
          "output_type": "stream",
          "text": [
            "/usr/local/lib/python3.6/dist-packages/ipykernel_launcher.py:3: SettingWithCopyWarning: \n",
            "A value is trying to be set on a copy of a slice from a DataFrame\n",
            "\n",
            "See the caveats in the documentation: https://pandas.pydata.org/pandas-docs/stable/user_guide/indexing.html#returning-a-view-versus-a-copy\n",
            "  This is separate from the ipykernel package so we can avoid doing imports until\n",
            "/usr/local/lib/python3.6/dist-packages/seaborn/_decorators.py:43: FutureWarning: Pass the following variable as a keyword arg: x. From version 0.12, the only valid positional argument will be `data`, and passing other arguments without an explicit keyword will result in an error or misinterpretation.\n",
            "  FutureWarning\n"
          ],
          "name": "stderr"
        },
        {
          "output_type": "execute_result",
          "data": {
            "text/plain": [
              "<matplotlib.axes._subplots.AxesSubplot at 0x7f292a7bae48>"
            ]
          },
          "metadata": {
            "tags": []
          },
          "execution_count": 48
        },
        {
          "output_type": "display_data",
          "data": {
            "image/png": "[encoded data removed]",
            "text/plain": [
              "<Figure size 432x288 with 1 Axes>"
            ]
          },
          "metadata": {
            "tags": [],
            "needs_background": "light"
          }
        }
      ]
    },
    {
      "cell_type": "code",
      "metadata": {
        "id": "gN4pzN3WpVV1",
        "outputId": "e6029f85-0f7c-4edb-cfa5-3fde6f3397ad",
        "colab": {
          "base_uri": "https://localhost:8080/",
          "height": 352
        }
      },
      "source": [
        "sns.boxplot(frame.IgnitionLoad)"
      ],
      "execution_count": 49,
      "outputs": [
        {
          "output_type": "stream",
          "text": [
            "/usr/local/lib/python3.6/dist-packages/seaborn/_decorators.py:43: FutureWarning: Pass the following variable as a keyword arg: x. From version 0.12, the only valid positional argument will be `data`, and passing other arguments without an explicit keyword will result in an error or misinterpretation.\n",
            "  FutureWarning\n"
          ],
          "name": "stderr"
        },
        {
          "output_type": "execute_result",
          "data": {
            "text/plain": [
              "<matplotlib.axes._subplots.AxesSubplot at 0x7f292b0f4668>"
            ]
          },
          "metadata": {
            "tags": []
          },
          "execution_count": 49
        },
        {
          "output_type": "display_data",
          "data": {
            "image/png": "[encoded data removed]",
            "text/plain": [
              "<Figure size 432x288 with 1 Axes>"
            ]
          },
          "metadata": {
            "tags": [],
            "needs_background": "light"
          }
        }
      ]
    },
    {
      "cell_type": "code",
      "metadata": {
        "id": "8ugzpw1CsCnS",
        "outputId": "cea77058-01a0-4ae8-f919-f1cc14f5dd63",
        "colab": {
          "base_uri": "https://localhost:8080/",
          "height": 458
        }
      },
      "source": [
        "print(np.nanpercentile(frame.IgnitionLoad,[95])[0])\n",
        "uv_IgnitionLoad = np.nanpercentile(frame.IgnitionLoad,[95])[0]\n",
        "frame.IgnitionLoad[(frame.IgnitionLoad>1*uv_IgnitionLoad)] = 1*uv_IgnitionLoad\n",
        "sns.boxplot(frame.IgnitionLoad)"
      ],
      "execution_count": 50,
      "outputs": [
        {
          "output_type": "stream",
          "text": [
            "796.0\n"
          ],
          "name": "stdout"
        },
        {
          "output_type": "stream",
          "text": [
            "/usr/local/lib/python3.6/dist-packages/ipykernel_launcher.py:3: SettingWithCopyWarning: \n",
            "A value is trying to be set on a copy of a slice from a DataFrame\n",
            "\n",
            "See the caveats in the documentation: https://pandas.pydata.org/pandas-docs/stable/user_guide/indexing.html#returning-a-view-versus-a-copy\n",
            "  This is separate from the ipykernel package so we can avoid doing imports until\n",
            "/usr/local/lib/python3.6/dist-packages/seaborn/_decorators.py:43: FutureWarning: Pass the following variable as a keyword arg: x. From version 0.12, the only valid positional argument will be `data`, and passing other arguments without an explicit keyword will result in an error or misinterpretation.\n",
            "  FutureWarning\n"
          ],
          "name": "stderr"
        },
        {
          "output_type": "execute_result",
          "data": {
            "text/plain": [
              "<matplotlib.axes._subplots.AxesSubplot at 0x7f292a6fc828>"
            ]
          },
          "metadata": {
            "tags": []
          },
          "execution_count": 50
        },
        {
          "output_type": "display_data",
          "data": {
            "image/png": "[encoded data removed]",
            "text/plain": [
              "<Figure size 432x288 with 1 Axes>"
            ]
          },
          "metadata": {
            "tags": [],
            "needs_background": "light"
          }
        }
      ]
    },
    {
      "cell_type": "code",
      "metadata": {
        "id": "xSf5drvFpVaF",
        "outputId": "e29a6d83-9e53-4bdb-b838-c83d4d37ffff",
        "colab": {
          "base_uri": "https://localhost:8080/",
          "height": 352
        }
      },
      "source": [
        "sns.boxplot(frame.AFRDifference)"
      ],
      "execution_count": 51,
      "outputs": [
        {
          "output_type": "stream",
          "text": [
            "/usr/local/lib/python3.6/dist-packages/seaborn/_decorators.py:43: FutureWarning: Pass the following variable as a keyword arg: x. From version 0.12, the only valid positional argument will be `data`, and passing other arguments without an explicit keyword will result in an error or misinterpretation.\n",
            "  FutureWarning\n"
          ],
          "name": "stderr"
        },
        {
          "output_type": "execute_result",
          "data": {
            "text/plain": [
              "<matplotlib.axes._subplots.AxesSubplot at 0x7f292a6beac8>"
            ]
          },
          "metadata": {
            "tags": []
          },
          "execution_count": 51
        },
        {
          "output_type": "display_data",
          "data": {
            "image/png": "[encoded data removed]",
            "text/plain": [
              "<Figure size 432x288 with 1 Axes>"
            ]
          },
          "metadata": {
            "tags": [],
            "needs_background": "light"
          }
        }
      ]
    },
    {
      "cell_type": "code",
      "metadata": {
        "id": "vQj-CT-mskJd",
        "outputId": "d0effc11-2587-49ec-d77c-7de4896d3bfd",
        "colab": {
          "base_uri": "https://localhost:8080/",
          "height": 563
        }
      },
      "source": [
        "print(np.nanpercentile(frame.AFRDifference,[99])[0])\n",
        "uv_AFRDifference = np.nanpercentile(frame.AFRDifference,[99])[0]\n",
        "frame.AFRDifference[(frame.AFRDifference>1*uv_AFRDifference)] = 1*uv_AFRDifference\n",
        "\n",
        "print(np.nanpercentile(frame.AFRDifference,[4])[0])\n",
        "lv_AFRDifference = np.nanpercentile(frame.AFRDifference,[4])[0]\n",
        "frame.AFRDifference[(frame.AFRDifference<1*lv_AFRDifference)] = 1*lv_AFRDifference\n",
        "\n",
        "sns.boxplot(frame.AFRDifference)"
      ],
      "execution_count": 52,
      "outputs": [
        {
          "output_type": "stream",
          "text": [
            "186.0\n",
            "-125.0\n"
          ],
          "name": "stdout"
        },
        {
          "output_type": "stream",
          "text": [
            "/usr/local/lib/python3.6/dist-packages/ipykernel_launcher.py:3: SettingWithCopyWarning: \n",
            "A value is trying to be set on a copy of a slice from a DataFrame\n",
            "\n",
            "See the caveats in the documentation: https://pandas.pydata.org/pandas-docs/stable/user_guide/indexing.html#returning-a-view-versus-a-copy\n",
            "  This is separate from the ipykernel package so we can avoid doing imports until\n",
            "/usr/local/lib/python3.6/dist-packages/ipykernel_launcher.py:7: SettingWithCopyWarning: \n",
            "A value is trying to be set on a copy of a slice from a DataFrame\n",
            "\n",
            "See the caveats in the documentation: https://pandas.pydata.org/pandas-docs/stable/user_guide/indexing.html#returning-a-view-versus-a-copy\n",
            "  import sys\n",
            "/usr/local/lib/python3.6/dist-packages/seaborn/_decorators.py:43: FutureWarning: Pass the following variable as a keyword arg: x. From version 0.12, the only valid positional argument will be `data`, and passing other arguments without an explicit keyword will result in an error or misinterpretation.\n",
            "  FutureWarning\n"
          ],
          "name": "stderr"
        },
        {
          "output_type": "execute_result",
          "data": {
            "text/plain": [
              "<matplotlib.axes._subplots.AxesSubplot at 0x7f292a642cc0>"
            ]
          },
          "metadata": {
            "tags": []
          },
          "execution_count": 52
        },
        {
          "output_type": "display_data",
          "data": {
            "image/png": "[encoded data removed]",
            "text/plain": [
              "<Figure size 432x288 with 1 Axes>"
            ]
          },
          "metadata": {
            "tags": [],
            "needs_background": "light"
          }
        }
      ]
    },
    {
      "cell_type": "code",
      "metadata": {
        "id": "TVNJOMdppVTD",
        "outputId": "f90a629f-b47f-481b-a880-8adab10f9d95",
        "colab": {
          "base_uri": "https://localhost:8080/",
          "height": 352
        }
      },
      "source": [
        "sns.boxplot(frame.IgnitionTiming)"
      ],
      "execution_count": 53,
      "outputs": [
        {
          "output_type": "stream",
          "text": [
            "/usr/local/lib/python3.6/dist-packages/seaborn/_decorators.py:43: FutureWarning: Pass the following variable as a keyword arg: x. From version 0.12, the only valid positional argument will be `data`, and passing other arguments without an explicit keyword will result in an error or misinterpretation.\n",
            "  FutureWarning\n"
          ],
          "name": "stderr"
        },
        {
          "output_type": "execute_result",
          "data": {
            "text/plain": [
              "<matplotlib.axes._subplots.AxesSubplot at 0x7f292abf2c50>"
            ]
          },
          "metadata": {
            "tags": []
          },
          "execution_count": 53
        },
        {
          "output_type": "display_data",
          "data": {
            "image/png": "[encoded data removed]",
            "text/plain": [
              "<Figure size 432x288 with 1 Axes>"
            ]
          },
          "metadata": {
            "tags": [],
            "needs_background": "light"
          }
        }
      ]
    },
    {
      "cell_type": "code",
      "metadata": {
        "id": "25Dhhs3qtPsL",
        "outputId": "e190ef0b-add5-40f2-cd63-11bab4796dd8",
        "colab": {
          "base_uri": "https://localhost:8080/",
          "height": 563
        }
      },
      "source": [
        "print(np.nanpercentile(frame.IgnitionTiming,[95])[0])\n",
        "uv_IgnitionTiming = np.nanpercentile(frame.IgnitionTiming,[95])[0]\n",
        "frame.IgnitionTiming[(frame.IgnitionTiming>1*uv_IgnitionTiming)] = 1*uv_IgnitionTiming\n",
        "\n",
        "print(np.nanpercentile(frame.IgnitionTiming,[3])[0])\n",
        "lv_IgnitionTiming = np.nanpercentile(frame.IgnitionTiming,[3])[0]\n",
        "frame.IgnitionTiming[(frame.IgnitionTiming<1*lv_IgnitionTiming)] = 1*lv_IgnitionTiming\n",
        "\n",
        "sns.boxplot(frame.IgnitionTiming)"
      ],
      "execution_count": 54,
      "outputs": [
        {
          "output_type": "stream",
          "text": [
            "214.0\n",
            "57.0\n"
          ],
          "name": "stdout"
        },
        {
          "output_type": "stream",
          "text": [
            "/usr/local/lib/python3.6/dist-packages/ipykernel_launcher.py:3: SettingWithCopyWarning: \n",
            "A value is trying to be set on a copy of a slice from a DataFrame\n",
            "\n",
            "See the caveats in the documentation: https://pandas.pydata.org/pandas-docs/stable/user_guide/indexing.html#returning-a-view-versus-a-copy\n",
            "  This is separate from the ipykernel package so we can avoid doing imports until\n",
            "/usr/local/lib/python3.6/dist-packages/ipykernel_launcher.py:7: SettingWithCopyWarning: \n",
            "A value is trying to be set on a copy of a slice from a DataFrame\n",
            "\n",
            "See the caveats in the documentation: https://pandas.pydata.org/pandas-docs/stable/user_guide/indexing.html#returning-a-view-versus-a-copy\n",
            "  import sys\n",
            "/usr/local/lib/python3.6/dist-packages/seaborn/_decorators.py:43: FutureWarning: Pass the following variable as a keyword arg: x. From version 0.12, the only valid positional argument will be `data`, and passing other arguments without an explicit keyword will result in an error or misinterpretation.\n",
            "  FutureWarning\n"
          ],
          "name": "stderr"
        },
        {
          "output_type": "execute_result",
          "data": {
            "text/plain": [
              "<matplotlib.axes._subplots.AxesSubplot at 0x7f292a929128>"
            ]
          },
          "metadata": {
            "tags": []
          },
          "execution_count": 54
        },
        {
          "output_type": "display_data",
          "data": {
            "image/png": "[encoded data removed]",
            "text/plain": [
              "<Figure size 432x288 with 1 Axes>"
            ]
          },
          "metadata": {
            "tags": [],
            "needs_background": "light"
          }
        }
      ]
    },
    {
      "cell_type": "code",
      "metadata": {
        "id": "TAs8bN4gpVQh",
        "outputId": "a2dac22e-9905-43d9-dfb5-bd4853dc77c9",
        "colab": {
          "base_uri": "https://localhost:8080/",
          "height": 352
        }
      },
      "source": [
        "sns.boxplot(frame.CurrentDutyCycle)"
      ],
      "execution_count": 55,
      "outputs": [
        {
          "output_type": "stream",
          "text": [
            "/usr/local/lib/python3.6/dist-packages/seaborn/_decorators.py:43: FutureWarning: Pass the following variable as a keyword arg: x. From version 0.12, the only valid positional argument will be `data`, and passing other arguments without an explicit keyword will result in an error or misinterpretation.\n",
            "  FutureWarning\n"
          ],
          "name": "stderr"
        },
        {
          "output_type": "execute_result",
          "data": {
            "text/plain": [
              "<matplotlib.axes._subplots.AxesSubplot at 0x7f292a9848d0>"
            ]
          },
          "metadata": {
            "tags": []
          },
          "execution_count": 55
        },
        {
          "output_type": "display_data",
          "data": {
            "image/png": "[encoded data removed]",
            "text/plain": [
              "<Figure size 432x288 with 1 Axes>"
            ]
          },
          "metadata": {
            "tags": [],
            "needs_background": "light"
          }
        }
      ]
    },
    {
      "cell_type": "code",
      "metadata": {
        "id": "HpayV9-epVNz",
        "outputId": "97e903e4-64b3-42c9-d1d5-e0c6b8bf67b5",
        "colab": {
          "base_uri": "https://localhost:8080/",
          "height": 458
        }
      },
      "source": [
        "print(np.nanpercentile(frame.CurrentDutyCycle,[2])[0])\n",
        "lv_CurrentDutyCycle = np.nanpercentile(frame.CurrentDutyCycle,[2])[0]\n",
        "frame.CurrentDutyCycle[(frame.CurrentDutyCycle<1*lv_CurrentDutyCycle)] = 1*lv_CurrentDutyCycle\n",
        "\n",
        "sns.boxplot(frame.CurrentDutyCycle)"
      ],
      "execution_count": 56,
      "outputs": [
        {
          "output_type": "stream",
          "text": [
            "-6.0\n"
          ],
          "name": "stdout"
        },
        {
          "output_type": "stream",
          "text": [
            "/usr/local/lib/python3.6/dist-packages/ipykernel_launcher.py:3: SettingWithCopyWarning: \n",
            "A value is trying to be set on a copy of a slice from a DataFrame\n",
            "\n",
            "See the caveats in the documentation: https://pandas.pydata.org/pandas-docs/stable/user_guide/indexing.html#returning-a-view-versus-a-copy\n",
            "  This is separate from the ipykernel package so we can avoid doing imports until\n",
            "/usr/local/lib/python3.6/dist-packages/seaborn/_decorators.py:43: FutureWarning: Pass the following variable as a keyword arg: x. From version 0.12, the only valid positional argument will be `data`, and passing other arguments without an explicit keyword will result in an error or misinterpretation.\n",
            "  FutureWarning\n"
          ],
          "name": "stderr"
        },
        {
          "output_type": "execute_result",
          "data": {
            "text/plain": [
              "<matplotlib.axes._subplots.AxesSubplot at 0x7f292a4bf7b8>"
            ]
          },
          "metadata": {
            "tags": []
          },
          "execution_count": 56
        },
        {
          "output_type": "display_data",
          "data": {
            "image/png": "[encoded data removed]",
            "text/plain": [
              "<Figure size 432x288 with 1 Axes>"
            ]
          },
          "metadata": {
            "tags": [],
            "needs_background": "light"
          }
        }
      ]
    },
    {
      "cell_type": "code",
      "metadata": {
        "id": "D-s_n0pc2nO4",
        "outputId": "3e86b0af-4b10-44b5-a6d0-6ed8b8da9d41",
        "colab": {
          "base_uri": "https://localhost:8080/",
          "height": 352
        }
      },
      "source": [
        "sns.boxplot(frame.ShiftLight1)"
      ],
      "execution_count": 57,
      "outputs": [
        {
          "output_type": "stream",
          "text": [
            "/usr/local/lib/python3.6/dist-packages/seaborn/_decorators.py:43: FutureWarning: Pass the following variable as a keyword arg: x. From version 0.12, the only valid positional argument will be `data`, and passing other arguments without an explicit keyword will result in an error or misinterpretation.\n",
            "  FutureWarning\n"
          ],
          "name": "stderr"
        },
        {
          "output_type": "execute_result",
          "data": {
            "text/plain": [
              "<matplotlib.axes._subplots.AxesSubplot at 0x7f292a4276a0>"
            ]
          },
          "metadata": {
            "tags": []
          },
          "execution_count": 57
        },
        {
          "output_type": "display_data",
          "data": {
            "image/png": "[encoded data removed]",
            "text/plain": [
              "<Figure size 432x288 with 1 Axes>"
            ]
          },
          "metadata": {
            "tags": [],
            "needs_background": "light"
          }
        }
      ]
    },
    {
      "cell_type": "code",
      "metadata": {
        "id": "an4Xq67DuYX-",
        "outputId": "0645265d-4119-47aa-f825-f3a6f142010b",
        "colab": {
          "base_uri": "https://localhost:8080/",
          "height": 458
        }
      },
      "source": [
        "print(np.nanpercentile(frame.ShiftLight1,[99])[0])\n",
        "uv_ShiftLight1 = np.nanpercentile(frame.ShiftLight1,[99])[0]\n",
        "frame.ShiftLight1[(frame.ShiftLight1>1*uv_ShiftLight1)] = 1*uv_ShiftLight1\n",
        "sns.boxplot(frame.ShiftLight1)"
      ],
      "execution_count": 58,
      "outputs": [
        {
          "output_type": "stream",
          "text": [
            "3477.0\n"
          ],
          "name": "stdout"
        },
        {
          "output_type": "stream",
          "text": [
            "/usr/local/lib/python3.6/dist-packages/ipykernel_launcher.py:3: SettingWithCopyWarning: \n",
            "A value is trying to be set on a copy of a slice from a DataFrame\n",
            "\n",
            "See the caveats in the documentation: https://pandas.pydata.org/pandas-docs/stable/user_guide/indexing.html#returning-a-view-versus-a-copy\n",
            "  This is separate from the ipykernel package so we can avoid doing imports until\n",
            "/usr/local/lib/python3.6/dist-packages/seaborn/_decorators.py:43: FutureWarning: Pass the following variable as a keyword arg: x. From version 0.12, the only valid positional argument will be `data`, and passing other arguments without an explicit keyword will result in an error or misinterpretation.\n",
            "  FutureWarning\n"
          ],
          "name": "stderr"
        },
        {
          "output_type": "execute_result",
          "data": {
            "text/plain": [
              "<matplotlib.axes._subplots.AxesSubplot at 0x7f292a40bfd0>"
            ]
          },
          "metadata": {
            "tags": []
          },
          "execution_count": 58
        },
        {
          "output_type": "display_data",
          "data": {
            "image/png": "[encoded data removed]",
            "text/plain": [
              "<Figure size 432x288 with 1 Axes>"
            ]
          },
          "metadata": {
            "tags": [],
            "needs_background": "light"
          }
        }
      ]
    },
    {
      "cell_type": "code",
      "metadata": {
        "id": "TyatpNUuuYfN",
        "outputId": "2073f435-415b-4f3d-8d1b-c07c351368aa",
        "colab": {
          "base_uri": "https://localhost:8080/",
          "height": 352
        }
      },
      "source": [
        "sns.boxplot(frame.IgnitionCoolantTempCorrection)"
      ],
      "execution_count": 59,
      "outputs": [
        {
          "output_type": "stream",
          "text": [
            "/usr/local/lib/python3.6/dist-packages/seaborn/_decorators.py:43: FutureWarning: Pass the following variable as a keyword arg: x. From version 0.12, the only valid positional argument will be `data`, and passing other arguments without an explicit keyword will result in an error or misinterpretation.\n",
            "  FutureWarning\n"
          ],
          "name": "stderr"
        },
        {
          "output_type": "execute_result",
          "data": {
            "text/plain": [
              "<matplotlib.axes._subplots.AxesSubplot at 0x7f292a405630>"
            ]
          },
          "metadata": {
            "tags": []
          },
          "execution_count": 59
        },
        {
          "output_type": "display_data",
          "data": {
            "image/png": "[encoded data removed]",
            "text/plain": [
              "<Figure size 432x288 with 1 Axes>"
            ]
          },
          "metadata": {
            "tags": [],
            "needs_background": "light"
          }
        }
      ]
    },
    {
      "cell_type": "code",
      "metadata": {
        "id": "ZVmdmD-buYt1",
        "outputId": "9f8678c7-1e14-4b4b-e2ba-528f6079168a",
        "colab": {
          "base_uri": "https://localhost:8080/",
          "height": 458
        }
      },
      "source": [
        "print(np.nanpercentile(frame.IgnitionCoolantTempCorrection,[95])[0])\n",
        "uv_IgnitionCoolantTempCorrection = np.nanpercentile(frame.IgnitionCoolantTempCorrection,[95])[0]\n",
        "frame.IgnitionCoolantTempCorrection[(frame.IgnitionCoolantTempCorrection>1*uv_IgnitionCoolantTempCorrection)] = 1*uv_IgnitionCoolantTempCorrection\n",
        "sns.boxplot(frame.IgnitionCoolantTempCorrection)"
      ],
      "execution_count": 60,
      "outputs": [
        {
          "output_type": "stream",
          "text": [
            "253.0\n"
          ],
          "name": "stdout"
        },
        {
          "output_type": "stream",
          "text": [
            "/usr/local/lib/python3.6/dist-packages/ipykernel_launcher.py:3: SettingWithCopyWarning: \n",
            "A value is trying to be set on a copy of a slice from a DataFrame\n",
            "\n",
            "See the caveats in the documentation: https://pandas.pydata.org/pandas-docs/stable/user_guide/indexing.html#returning-a-view-versus-a-copy\n",
            "  This is separate from the ipykernel package so we can avoid doing imports until\n",
            "/usr/local/lib/python3.6/dist-packages/seaborn/_decorators.py:43: FutureWarning: Pass the following variable as a keyword arg: x. From version 0.12, the only valid positional argument will be `data`, and passing other arguments without an explicit keyword will result in an error or misinterpretation.\n",
            "  FutureWarning\n"
          ],
          "name": "stderr"
        },
        {
          "output_type": "execute_result",
          "data": {
            "text/plain": [
              "<matplotlib.axes._subplots.AxesSubplot at 0x7f292a3502e8>"
            ]
          },
          "metadata": {
            "tags": []
          },
          "execution_count": 60
        },
        {
          "output_type": "display_data",
          "data": {
            "image/png": "[encoded data removed]",
            "text/plain": [
              "<Figure size 432x288 with 1 Axes>"
            ]
          },
          "metadata": {
            "tags": [],
            "needs_background": "light"
          }
        }
      ]
    },
    {
      "cell_type": "code",
      "metadata": {
        "id": "TW7vvBiMuY_i",
        "outputId": "b73c1866-5ef4-4e50-e05f-f6bf9d0a4ffc",
        "colab": {
          "base_uri": "https://localhost:8080/",
          "height": 352
        }
      },
      "source": [
        "sns.boxplot(frame.IgnitionAirTempCorrection)"
      ],
      "execution_count": 61,
      "outputs": [
        {
          "output_type": "stream",
          "text": [
            "/usr/local/lib/python3.6/dist-packages/seaborn/_decorators.py:43: FutureWarning: Pass the following variable as a keyword arg: x. From version 0.12, the only valid positional argument will be `data`, and passing other arguments without an explicit keyword will result in an error or misinterpretation.\n",
            "  FutureWarning\n"
          ],
          "name": "stderr"
        },
        {
          "output_type": "execute_result",
          "data": {
            "text/plain": [
              "<matplotlib.axes._subplots.AxesSubplot at 0x7f292a355518>"
            ]
          },
          "metadata": {
            "tags": []
          },
          "execution_count": 61
        },
        {
          "output_type": "display_data",
          "data": {
            "image/png": "[encoded data removed]",
            "text/plain": [
              "<Figure size 432x288 with 1 Axes>"
            ]
          },
          "metadata": {
            "tags": [],
            "needs_background": "light"
          }
        }
      ]
    },
    {
      "cell_type": "code",
      "metadata": {
        "id": "5HCQ8rRCwFNR",
        "outputId": "3929cc53-9daf-4bf8-afbb-26964982b4fc",
        "colab": {
          "base_uri": "https://localhost:8080/",
          "height": 458
        }
      },
      "source": [
        "print(np.nanpercentile(frame.IgnitionAirTempCorrection,[1])[0])\n",
        "lv_IgnitionAirTempCorrection = np.nanpercentile(frame.IgnitionAirTempCorrection,[1])[0]\n",
        "frame.IgnitionAirTempCorrection[(frame.IgnitionAirTempCorrection<0.12*lv_IgnitionAirTempCorrection)] = 0.12*lv_IgnitionAirTempCorrection\n",
        "\n",
        "sns.boxplot(frame.IgnitionAirTempCorrection)"
      ],
      "execution_count": 62,
      "outputs": [
        {
          "output_type": "stream",
          "text": [
            "860.0\n"
          ],
          "name": "stdout"
        },
        {
          "output_type": "stream",
          "text": [
            "/usr/local/lib/python3.6/dist-packages/ipykernel_launcher.py:3: SettingWithCopyWarning: \n",
            "A value is trying to be set on a copy of a slice from a DataFrame\n",
            "\n",
            "See the caveats in the documentation: https://pandas.pydata.org/pandas-docs/stable/user_guide/indexing.html#returning-a-view-versus-a-copy\n",
            "  This is separate from the ipykernel package so we can avoid doing imports until\n",
            "/usr/local/lib/python3.6/dist-packages/seaborn/_decorators.py:43: FutureWarning: Pass the following variable as a keyword arg: x. From version 0.12, the only valid positional argument will be `data`, and passing other arguments without an explicit keyword will result in an error or misinterpretation.\n",
            "  FutureWarning\n"
          ],
          "name": "stderr"
        },
        {
          "output_type": "execute_result",
          "data": {
            "text/plain": [
              "<matplotlib.axes._subplots.AxesSubplot at 0x7f292a291b00>"
            ]
          },
          "metadata": {
            "tags": []
          },
          "execution_count": 62
        },
        {
          "output_type": "display_data",
          "data": {
            "image/png": "[encoded data removed]",
            "text/plain": [
              "<Figure size 432x288 with 1 Axes>"
            ]
          },
          "metadata": {
            "tags": [],
            "needs_background": "light"
          }
        }
      ]
    },
    {
      "cell_type": "code",
      "metadata": {
        "id": "bfvVpJAewFf2",
        "outputId": "05cd05b9-d326-45e8-fab9-9058b85f8368",
        "colab": {
          "base_uri": "https://localhost:8080/",
          "height": 352
        }
      },
      "source": [
        "sns.boxplot(frame.TransientThrottleAccelCoolantCorr)"
      ],
      "execution_count": 63,
      "outputs": [
        {
          "output_type": "stream",
          "text": [
            "/usr/local/lib/python3.6/dist-packages/seaborn/_decorators.py:43: FutureWarning: Pass the following variable as a keyword arg: x. From version 0.12, the only valid positional argument will be `data`, and passing other arguments without an explicit keyword will result in an error or misinterpretation.\n",
            "  FutureWarning\n"
          ],
          "name": "stderr"
        },
        {
          "output_type": "execute_result",
          "data": {
            "text/plain": [
              "<matplotlib.axes._subplots.AxesSubplot at 0x7f292a2439e8>"
            ]
          },
          "metadata": {
            "tags": []
          },
          "execution_count": 63
        },
        {
          "output_type": "display_data",
          "data": {
            "image/png": "[encoded data removed]",
            "text/plain": [
              "<Figure size 432x288 with 1 Axes>"
            ]
          },
          "metadata": {
            "tags": [],
            "needs_background": "light"
          }
        }
      ]
    },
    {
      "cell_type": "code",
      "metadata": {
        "id": "j93HIRVSyHC9",
        "outputId": "d107546a-5541-4f53-b9fa-515946bcae13",
        "colab": {
          "base_uri": "https://localhost:8080/",
          "height": 352
        }
      },
      "source": [
        "sns.boxplot(frame.TransientThrottleEnrichSensitivity)"
      ],
      "execution_count": 64,
      "outputs": [
        {
          "output_type": "stream",
          "text": [
            "/usr/local/lib/python3.6/dist-packages/seaborn/_decorators.py:43: FutureWarning: Pass the following variable as a keyword arg: x. From version 0.12, the only valid positional argument will be `data`, and passing other arguments without an explicit keyword will result in an error or misinterpretation.\n",
            "  FutureWarning\n"
          ],
          "name": "stderr"
        },
        {
          "output_type": "execute_result",
          "data": {
            "text/plain": [
              "<matplotlib.axes._subplots.AxesSubplot at 0x7f292a1d6a20>"
            ]
          },
          "metadata": {
            "tags": []
          },
          "execution_count": 64
        },
        {
          "output_type": "display_data",
          "data": {
            "image/png": "[encoded data removed]",
            "text/plain": [
              "<Figure size 432x288 with 1 Axes>"
            ]
          },
          "metadata": {
            "tags": [],
            "needs_background": "light"
          }
        }
      ]
    },
    {
      "cell_type": "code",
      "metadata": {
        "id": "UKsUQ3DTyHW2",
        "outputId": "28b120f6-34e5-48a5-9e31-cd019466ff1a",
        "colab": {
          "base_uri": "https://localhost:8080/",
          "height": 458
        }
      },
      "source": [
        "print(np.nanpercentile(frame.TransientThrottleEnrichSensitivity,[1])[0])\n",
        "lv_TransientThrottleEnrichSensitivity = np.nanpercentile(frame.TransientThrottleEnrichSensitivity,[1])[0]\n",
        "frame.TransientThrottleEnrichSensitivity[(frame.TransientThrottleEnrichSensitivity<1*lv_TransientThrottleEnrichSensitivity)] = 1*lv_TransientThrottleEnrichSensitivity\n",
        "sns.boxplot(frame.TransientThrottleEnrichSensitivity)"
      ],
      "execution_count": 65,
      "outputs": [
        {
          "output_type": "stream",
          "text": [
            "473.0\n"
          ],
          "name": "stdout"
        },
        {
          "output_type": "stream",
          "text": [
            "/usr/local/lib/python3.6/dist-packages/ipykernel_launcher.py:3: SettingWithCopyWarning: \n",
            "A value is trying to be set on a copy of a slice from a DataFrame\n",
            "\n",
            "See the caveats in the documentation: https://pandas.pydata.org/pandas-docs/stable/user_guide/indexing.html#returning-a-view-versus-a-copy\n",
            "  This is separate from the ipykernel package so we can avoid doing imports until\n",
            "/usr/local/lib/python3.6/dist-packages/seaborn/_decorators.py:43: FutureWarning: Pass the following variable as a keyword arg: x. From version 0.12, the only valid positional argument will be `data`, and passing other arguments without an explicit keyword will result in an error or misinterpretation.\n",
            "  FutureWarning\n"
          ],
          "name": "stderr"
        },
        {
          "output_type": "execute_result",
          "data": {
            "text/plain": [
              "<matplotlib.axes._subplots.AxesSubplot at 0x7f292a13f978>"
            ]
          },
          "metadata": {
            "tags": []
          },
          "execution_count": 65
        },
        {
          "output_type": "display_data",
          "data": {
            "image/png": "[encoded data removed]",
            "text/plain": [
              "<Figure size 432x288 with 1 Axes>"
            ]
          },
          "metadata": {
            "tags": [],
            "needs_background": "light"
          }
        }
      ]
    },
    {
      "cell_type": "code",
      "metadata": {
        "id": "LZZImnQ-zWKv",
        "outputId": "bcc39116-ac6f-4953-82e5-1f967457a3af",
        "colab": {
          "base_uri": "https://localhost:8080/",
          "height": 352
        }
      },
      "source": [
        "sns.boxplot(frame.TransientThrottleEnrichDecayRate)"
      ],
      "execution_count": 66,
      "outputs": [
        {
          "output_type": "stream",
          "text": [
            "/usr/local/lib/python3.6/dist-packages/seaborn/_decorators.py:43: FutureWarning: Pass the following variable as a keyword arg: x. From version 0.12, the only valid positional argument will be `data`, and passing other arguments without an explicit keyword will result in an error or misinterpretation.\n",
            "  FutureWarning\n"
          ],
          "name": "stderr"
        },
        {
          "output_type": "execute_result",
          "data": {
            "text/plain": [
              "<matplotlib.axes._subplots.AxesSubplot at 0x7f292a110d68>"
            ]
          },
          "metadata": {
            "tags": []
          },
          "execution_count": 66
        },
        {
          "output_type": "display_data",
          "data": {
            "image/png": "[encoded data removed]",
            "text/plain": [
              "<Figure size 432x288 with 1 Axes>"
            ]
          },
          "metadata": {
            "tags": [],
            "needs_background": "light"
          }
        }
      ]
    },
    {
      "cell_type": "code",
      "metadata": {
        "id": "80jYsb2hzWeJ",
        "outputId": "356d8051-b90c-4716-c22d-ea95f2f56bfa",
        "colab": {
          "base_uri": "https://localhost:8080/",
          "height": 636
        }
      },
      "source": [
        "from matplotlib import pyplot as plt\n",
        "fig, ax = plt.subplots(figsize = (20,8)) \n",
        "plt.ylim(-2000,14000)\n",
        "import seaborn as sns\n",
        "sns.boxplot(data=frame)\n",
        "ax.set_xticklabels(labels=frame.columns, rotation=45, ha='right')\n",
        "ax.set(xlabel='Features', ylabel='Unit')"
      ],
      "execution_count": 67,
      "outputs": [
        {
          "output_type": "execute_result",
          "data": {
            "text/plain": [
              "[Text(0, 0.5, 'Unit'), Text(0.5, 0, 'Features')]"
            ]
          },
          "metadata": {
            "tags": []
          },
          "execution_count": 67
        },
        {
          "output_type": "display_data",
          "data": {
            "image/png": "[encoded data removed]",
            "text/plain": [
              "<Figure size 1440x576 with 1 Axes>"
            ]
          },
          "metadata": {
            "tags": [],
            "needs_background": "light"
          }
        }
      ]
    },
    {
      "cell_type": "code",
      "metadata": {
        "id": "R9C2c0mE09ZW",
        "outputId": "e711452e-f5e6-49c4-bf8c-73ae236778da",
        "colab": {
          "base_uri": "https://localhost:8080/",
          "height": 896
        }
      },
      "source": [
        "frame.corr()"
      ],
      "execution_count": 68,
      "outputs": [
        {
          "output_type": "execute_result",
          "data": {
            "text/html": [
              "<div>\n",
              "<style scoped>\n",
              "    .dataframe tbody tr th:only-of-type {\n",
              "        vertical-align: middle;\n",
              "    }\n",
              "\n",
              "    .dataframe tbody tr th {\n",
              "        vertical-align: top;\n",
              "    }\n",
              "\n",
              "    .dataframe thead th {\n",
              "        text-align: right;\n",
              "    }\n",
              "</style>\n",
              "<table border=\"1\" class=\"dataframe\">\n",
              "  <thead>\n",
              "    <tr style=\"text-align: right;\">\n",
              "      <th></th>\n",
              "      <th>BaseFuel</th>\n",
              "      <th>BaseIgnition</th>\n",
              "      <th>TargetAFR</th>\n",
              "      <th>FuelCoolantTempCorrection</th>\n",
              "      <th>FuelAirTempCorrection</th>\n",
              "      <th>ThrottlePosition</th>\n",
              "      <th>AirTemp</th>\n",
              "      <th>CoolantTemp</th>\n",
              "      <th>LambdaSensor1</th>\n",
              "      <th>RPM</th>\n",
              "      <th>Load</th>\n",
              "      <th>BatteryVoltage</th>\n",
              "      <th>EngineRunningTime</th>\n",
              "      <th>DeltaLoad</th>\n",
              "      <th>MAPSource</th>\n",
              "      <th>TransientThrottleLoadSource</th>\n",
              "      <th>IgnitionLoad</th>\n",
              "      <th>AFRDifference</th>\n",
              "      <th>IgnitionTiming</th>\n",
              "      <th>CurrentDutyCycle</th>\n",
              "      <th>ShiftLight1</th>\n",
              "      <th>IgnitionCoolantTempCorrection</th>\n",
              "      <th>IgnitionAirTempCorrection</th>\n",
              "      <th>TransientThrottleAccelCoolantCorr</th>\n",
              "      <th>TransientThrottleEnrichSensitivity</th>\n",
              "      <th>TransientThrottleEnrichDecayRate</th>\n",
              "      <th>TransientThrottlePercentageAsync</th>\n",
              "      <th>TransientThrottlePercentageEnrich</th>\n",
              "    </tr>\n",
              "  </thead>\n",
              "  <tbody>\n",
              "    <tr>\n",
              "      <th>BaseFuel</th>\n",
              "      <td>1.000000</td>\n",
              "      <td>-0.085861</td>\n",
              "      <td>-0.257900</td>\n",
              "      <td>0.383900</td>\n",
              "      <td>-0.348372</td>\n",
              "      <td>-0.575339</td>\n",
              "      <td>-0.198321</td>\n",
              "      <td>0.236481</td>\n",
              "      <td>-0.812561</td>\n",
              "      <td>-0.707284</td>\n",
              "      <td>-0.349439</td>\n",
              "      <td>-0.184169</td>\n",
              "      <td>-0.253539</td>\n",
              "      <td>-0.524746</td>\n",
              "      <td>0.402095</td>\n",
              "      <td>-0.713333</td>\n",
              "      <td>0.111030</td>\n",
              "      <td>0.018020</td>\n",
              "      <td>0.499639</td>\n",
              "      <td>0.276284</td>\n",
              "      <td>-0.083996</td>\n",
              "      <td>0.263800</td>\n",
              "      <td>0.206542</td>\n",
              "      <td>-0.266323</td>\n",
              "      <td>0.083723</td>\n",
              "      <td>NaN</td>\n",
              "      <td>0.351036</td>\n",
              "      <td>-0.034319</td>\n",
              "    </tr>\n",
              "    <tr>\n",
              "      <th>BaseIgnition</th>\n",
              "      <td>-0.085861</td>\n",
              "      <td>1.000000</td>\n",
              "      <td>-0.253558</td>\n",
              "      <td>0.240561</td>\n",
              "      <td>-0.086531</td>\n",
              "      <td>0.079639</td>\n",
              "      <td>-0.278261</td>\n",
              "      <td>-0.262734</td>\n",
              "      <td>0.696577</td>\n",
              "      <td>0.333902</td>\n",
              "      <td>-0.147912</td>\n",
              "      <td>-0.516560</td>\n",
              "      <td>-0.155606</td>\n",
              "      <td>0.030087</td>\n",
              "      <td>-0.118466</td>\n",
              "      <td>0.780990</td>\n",
              "      <td>-0.124604</td>\n",
              "      <td>-0.014093</td>\n",
              "      <td>-0.384690</td>\n",
              "      <td>0.424392</td>\n",
              "      <td>-0.013940</td>\n",
              "      <td>0.456965</td>\n",
              "      <td>0.069916</td>\n",
              "      <td>-0.460849</td>\n",
              "      <td>0.047838</td>\n",
              "      <td>NaN</td>\n",
              "      <td>-0.584650</td>\n",
              "      <td>-0.293343</td>\n",
              "    </tr>\n",
              "    <tr>\n",
              "      <th>TargetAFR</th>\n",
              "      <td>-0.257900</td>\n",
              "      <td>-0.253558</td>\n",
              "      <td>1.000000</td>\n",
              "      <td>-0.086240</td>\n",
              "      <td>0.013018</td>\n",
              "      <td>-0.057246</td>\n",
              "      <td>-0.087167</td>\n",
              "      <td>-0.243598</td>\n",
              "      <td>0.193635</td>\n",
              "      <td>0.470918</td>\n",
              "      <td>-0.094899</td>\n",
              "      <td>0.209153</td>\n",
              "      <td>0.013371</td>\n",
              "      <td>-0.001550</td>\n",
              "      <td>0.091480</td>\n",
              "      <td>0.110927</td>\n",
              "      <td>-0.402333</td>\n",
              "      <td>0.025581</td>\n",
              "      <td>-0.061789</td>\n",
              "      <td>-0.473142</td>\n",
              "      <td>0.095480</td>\n",
              "      <td>-0.588987</td>\n",
              "      <td>-0.085642</td>\n",
              "      <td>0.594406</td>\n",
              "      <td>-0.073794</td>\n",
              "      <td>NaN</td>\n",
              "      <td>-0.031709</td>\n",
              "      <td>0.214021</td>\n",
              "    </tr>\n",
              "    <tr>\n",
              "      <th>FuelCoolantTempCorrection</th>\n",
              "      <td>0.383900</td>\n",
              "      <td>0.240561</td>\n",
              "      <td>-0.086240</td>\n",
              "      <td>1.000000</td>\n",
              "      <td>-0.376821</td>\n",
              "      <td>-0.682041</td>\n",
              "      <td>-0.681889</td>\n",
              "      <td>-0.296034</td>\n",
              "      <td>-0.223109</td>\n",
              "      <td>-0.209097</td>\n",
              "      <td>-0.682902</td>\n",
              "      <td>-0.225375</td>\n",
              "      <td>-0.415608</td>\n",
              "      <td>-0.537007</td>\n",
              "      <td>0.882365</td>\n",
              "      <td>0.719449</td>\n",
              "      <td>-0.430796</td>\n",
              "      <td>-0.318074</td>\n",
              "      <td>0.629292</td>\n",
              "      <td>0.448393</td>\n",
              "      <td>0.140054</td>\n",
              "      <td>0.033433</td>\n",
              "      <td>0.119973</td>\n",
              "      <td>-0.034059</td>\n",
              "      <td>-0.133001</td>\n",
              "      <td>NaN</td>\n",
              "      <td>0.396935</td>\n",
              "      <td>-0.178411</td>\n",
              "    </tr>\n",
              "    <tr>\n",
              "      <th>FuelAirTempCorrection</th>\n",
              "      <td>-0.348372</td>\n",
              "      <td>-0.086531</td>\n",
              "      <td>0.013018</td>\n",
              "      <td>-0.376821</td>\n",
              "      <td>1.000000</td>\n",
              "      <td>0.818638</td>\n",
              "      <td>0.817790</td>\n",
              "      <td>-0.151451</td>\n",
              "      <td>0.012180</td>\n",
              "      <td>-0.095859</td>\n",
              "      <td>0.818695</td>\n",
              "      <td>0.256639</td>\n",
              "      <td>0.968972</td>\n",
              "      <td>0.879017</td>\n",
              "      <td>-0.395311</td>\n",
              "      <td>-0.466639</td>\n",
              "      <td>-0.792202</td>\n",
              "      <td>-0.584914</td>\n",
              "      <td>-0.192506</td>\n",
              "      <td>-0.047317</td>\n",
              "      <td>0.787319</td>\n",
              "      <td>-0.128042</td>\n",
              "      <td>-0.902532</td>\n",
              "      <td>0.124893</td>\n",
              "      <td>-0.776987</td>\n",
              "      <td>NaN</td>\n",
              "      <td>0.601350</td>\n",
              "      <td>0.103218</td>\n",
              "    </tr>\n",
              "    <tr>\n",
              "      <th>ThrottlePosition</th>\n",
              "      <td>-0.575339</td>\n",
              "      <td>0.079639</td>\n",
              "      <td>-0.057246</td>\n",
              "      <td>-0.682041</td>\n",
              "      <td>0.818638</td>\n",
              "      <td>1.000000</td>\n",
              "      <td>0.803165</td>\n",
              "      <td>-0.224240</td>\n",
              "      <td>0.649953</td>\n",
              "      <td>0.379646</td>\n",
              "      <td>0.859197</td>\n",
              "      <td>-0.027995</td>\n",
              "      <td>0.761088</td>\n",
              "      <td>0.939164</td>\n",
              "      <td>-0.730680</td>\n",
              "      <td>0.676674</td>\n",
              "      <td>0.668495</td>\n",
              "      <td>-0.232989</td>\n",
              "      <td>-0.496326</td>\n",
              "      <td>-0.073342</td>\n",
              "      <td>0.370592</td>\n",
              "      <td>0.055047</td>\n",
              "      <td>-0.607296</td>\n",
              "      <td>-0.055502</td>\n",
              "      <td>-0.389767</td>\n",
              "      <td>NaN</td>\n",
              "      <td>0.311718</td>\n",
              "      <td>0.075722</td>\n",
              "    </tr>\n",
              "    <tr>\n",
              "      <th>AirTemp</th>\n",
              "      <td>-0.198321</td>\n",
              "      <td>-0.278261</td>\n",
              "      <td>-0.087167</td>\n",
              "      <td>-0.681889</td>\n",
              "      <td>0.817790</td>\n",
              "      <td>0.803165</td>\n",
              "      <td>1.000000</td>\n",
              "      <td>0.321671</td>\n",
              "      <td>-0.584046</td>\n",
              "      <td>-0.449237</td>\n",
              "      <td>0.901126</td>\n",
              "      <td>0.417133</td>\n",
              "      <td>0.849362</td>\n",
              "      <td>0.792983</td>\n",
              "      <td>-0.579402</td>\n",
              "      <td>-0.451700</td>\n",
              "      <td>0.175934</td>\n",
              "      <td>0.023852</td>\n",
              "      <td>0.250972</td>\n",
              "      <td>-0.072584</td>\n",
              "      <td>0.370270</td>\n",
              "      <td>0.055698</td>\n",
              "      <td>-0.606952</td>\n",
              "      <td>-0.056148</td>\n",
              "      <td>-0.389589</td>\n",
              "      <td>NaN</td>\n",
              "      <td>0.321454</td>\n",
              "      <td>0.077152</td>\n",
              "    </tr>\n",
              "    <tr>\n",
              "      <th>CoolantTemp</th>\n",
              "      <td>0.236481</td>\n",
              "      <td>-0.262734</td>\n",
              "      <td>-0.243598</td>\n",
              "      <td>-0.296034</td>\n",
              "      <td>-0.151451</td>\n",
              "      <td>-0.224240</td>\n",
              "      <td>0.321671</td>\n",
              "      <td>1.000000</td>\n",
              "      <td>-0.211728</td>\n",
              "      <td>-0.110475</td>\n",
              "      <td>-0.115749</td>\n",
              "      <td>0.232859</td>\n",
              "      <td>0.589993</td>\n",
              "      <td>-0.248397</td>\n",
              "      <td>-0.106860</td>\n",
              "      <td>-0.306692</td>\n",
              "      <td>-0.081271</td>\n",
              "      <td>-0.073284</td>\n",
              "      <td>-0.248110</td>\n",
              "      <td>NaN</td>\n",
              "      <td>NaN</td>\n",
              "      <td>NaN</td>\n",
              "      <td>NaN</td>\n",
              "      <td>NaN</td>\n",
              "      <td>NaN</td>\n",
              "      <td>NaN</td>\n",
              "      <td>NaN</td>\n",
              "      <td>NaN</td>\n",
              "    </tr>\n",
              "    <tr>\n",
              "      <th>LambdaSensor1</th>\n",
              "      <td>-0.812561</td>\n",
              "      <td>0.696577</td>\n",
              "      <td>0.193635</td>\n",
              "      <td>-0.223109</td>\n",
              "      <td>0.012180</td>\n",
              "      <td>0.649953</td>\n",
              "      <td>-0.584046</td>\n",
              "      <td>-0.211728</td>\n",
              "      <td>1.000000</td>\n",
              "      <td>0.861724</td>\n",
              "      <td>0.040344</td>\n",
              "      <td>-0.751285</td>\n",
              "      <td>-0.437760</td>\n",
              "      <td>0.512507</td>\n",
              "      <td>-0.387773</td>\n",
              "      <td>0.991538</td>\n",
              "      <td>-0.102720</td>\n",
              "      <td>-0.014610</td>\n",
              "      <td>-0.424521</td>\n",
              "      <td>-0.647554</td>\n",
              "      <td>0.071606</td>\n",
              "      <td>-0.859992</td>\n",
              "      <td>-0.064154</td>\n",
              "      <td>0.862682</td>\n",
              "      <td>-0.072678</td>\n",
              "      <td>NaN</td>\n",
              "      <td>0.112326</td>\n",
              "      <td>0.309875</td>\n",
              "    </tr>\n",
              "    <tr>\n",
              "      <th>RPM</th>\n",
              "      <td>-0.707284</td>\n",
              "      <td>0.333902</td>\n",
              "      <td>0.470918</td>\n",
              "      <td>-0.209097</td>\n",
              "      <td>-0.095859</td>\n",
              "      <td>0.379646</td>\n",
              "      <td>-0.449237</td>\n",
              "      <td>-0.110475</td>\n",
              "      <td>0.861724</td>\n",
              "      <td>1.000000</td>\n",
              "      <td>-0.006675</td>\n",
              "      <td>-0.494243</td>\n",
              "      <td>-0.283067</td>\n",
              "      <td>0.301990</td>\n",
              "      <td>-0.275824</td>\n",
              "      <td>0.836300</td>\n",
              "      <td>0.224166</td>\n",
              "      <td>-0.020417</td>\n",
              "      <td>-0.433931</td>\n",
              "      <td>-0.489631</td>\n",
              "      <td>-0.072223</td>\n",
              "      <td>-0.991121</td>\n",
              "      <td>0.088349</td>\n",
              "      <td>0.989576</td>\n",
              "      <td>0.090913</td>\n",
              "      <td>NaN</td>\n",
              "      <td>0.058579</td>\n",
              "      <td>0.293125</td>\n",
              "    </tr>\n",
              "    <tr>\n",
              "      <th>Load</th>\n",
              "      <td>-0.349439</td>\n",
              "      <td>-0.147912</td>\n",
              "      <td>-0.094899</td>\n",
              "      <td>-0.682902</td>\n",
              "      <td>0.818695</td>\n",
              "      <td>0.859197</td>\n",
              "      <td>0.901126</td>\n",
              "      <td>-0.115749</td>\n",
              "      <td>0.040344</td>\n",
              "      <td>-0.006675</td>\n",
              "      <td>1.000000</td>\n",
              "      <td>0.194687</td>\n",
              "      <td>0.794176</td>\n",
              "      <td>0.847323</td>\n",
              "      <td>-0.528636</td>\n",
              "      <td>0.152350</td>\n",
              "      <td>0.996261</td>\n",
              "      <td>-0.432628</td>\n",
              "      <td>-0.605321</td>\n",
              "      <td>-0.073355</td>\n",
              "      <td>0.370490</td>\n",
              "      <td>0.055204</td>\n",
              "      <td>-0.607343</td>\n",
              "      <td>-0.055667</td>\n",
              "      <td>-0.389777</td>\n",
              "      <td>NaN</td>\n",
              "      <td>0.312288</td>\n",
              "      <td>0.079570</td>\n",
              "    </tr>\n",
              "    <tr>\n",
              "      <th>BatteryVoltage</th>\n",
              "      <td>-0.184169</td>\n",
              "      <td>-0.516560</td>\n",
              "      <td>0.209153</td>\n",
              "      <td>-0.225375</td>\n",
              "      <td>0.256639</td>\n",
              "      <td>-0.027995</td>\n",
              "      <td>0.417133</td>\n",
              "      <td>0.232859</td>\n",
              "      <td>-0.751285</td>\n",
              "      <td>-0.494243</td>\n",
              "      <td>0.194687</td>\n",
              "      <td>1.000000</td>\n",
              "      <td>0.331557</td>\n",
              "      <td>0.065520</td>\n",
              "      <td>0.121342</td>\n",
              "      <td>-0.710184</td>\n",
              "      <td>0.096640</td>\n",
              "      <td>0.013886</td>\n",
              "      <td>0.404735</td>\n",
              "      <td>-0.245951</td>\n",
              "      <td>0.207249</td>\n",
              "      <td>-0.288804</td>\n",
              "      <td>-0.259515</td>\n",
              "      <td>0.292065</td>\n",
              "      <td>-0.216331</td>\n",
              "      <td>NaN</td>\n",
              "      <td>-0.273331</td>\n",
              "      <td>0.150790</td>\n",
              "    </tr>\n",
              "    <tr>\n",
              "      <th>EngineRunningTime</th>\n",
              "      <td>-0.253539</td>\n",
              "      <td>-0.155606</td>\n",
              "      <td>0.013371</td>\n",
              "      <td>-0.415608</td>\n",
              "      <td>0.968972</td>\n",
              "      <td>0.761088</td>\n",
              "      <td>0.849362</td>\n",
              "      <td>0.589993</td>\n",
              "      <td>-0.437760</td>\n",
              "      <td>-0.283067</td>\n",
              "      <td>0.794176</td>\n",
              "      <td>0.331557</td>\n",
              "      <td>1.000000</td>\n",
              "      <td>0.810034</td>\n",
              "      <td>-0.356079</td>\n",
              "      <td>-0.412876</td>\n",
              "      <td>0.347030</td>\n",
              "      <td>0.055557</td>\n",
              "      <td>0.153099</td>\n",
              "      <td>-0.077630</td>\n",
              "      <td>0.727476</td>\n",
              "      <td>-0.116644</td>\n",
              "      <td>-0.881468</td>\n",
              "      <td>0.114939</td>\n",
              "      <td>-0.714540</td>\n",
              "      <td>NaN</td>\n",
              "      <td>0.457505</td>\n",
              "      <td>0.194593</td>\n",
              "    </tr>\n",
              "    <tr>\n",
              "      <th>DeltaLoad</th>\n",
              "      <td>-0.524746</td>\n",
              "      <td>0.030087</td>\n",
              "      <td>-0.001550</td>\n",
              "      <td>-0.537007</td>\n",
              "      <td>0.879017</td>\n",
              "      <td>0.939164</td>\n",
              "      <td>0.792983</td>\n",
              "      <td>-0.248397</td>\n",
              "      <td>0.512507</td>\n",
              "      <td>0.301990</td>\n",
              "      <td>0.847323</td>\n",
              "      <td>0.065520</td>\n",
              "      <td>0.810034</td>\n",
              "      <td>1.000000</td>\n",
              "      <td>-0.618676</td>\n",
              "      <td>0.633309</td>\n",
              "      <td>-0.125704</td>\n",
              "      <td>-0.014334</td>\n",
              "      <td>-0.412423</td>\n",
              "      <td>-0.045127</td>\n",
              "      <td>0.550596</td>\n",
              "      <td>-0.028199</td>\n",
              "      <td>-0.748902</td>\n",
              "      <td>0.027451</td>\n",
              "      <td>-0.558153</td>\n",
              "      <td>NaN</td>\n",
              "      <td>0.564652</td>\n",
              "      <td>0.109000</td>\n",
              "    </tr>\n",
              "    <tr>\n",
              "      <th>MAPSource</th>\n",
              "      <td>0.402095</td>\n",
              "      <td>-0.118466</td>\n",
              "      <td>0.091480</td>\n",
              "      <td>0.882365</td>\n",
              "      <td>-0.395311</td>\n",
              "      <td>-0.730680</td>\n",
              "      <td>-0.579402</td>\n",
              "      <td>-0.106860</td>\n",
              "      <td>-0.387773</td>\n",
              "      <td>-0.275824</td>\n",
              "      <td>-0.528636</td>\n",
              "      <td>0.121342</td>\n",
              "      <td>-0.356079</td>\n",
              "      <td>-0.618676</td>\n",
              "      <td>1.000000</td>\n",
              "      <td>-0.405018</td>\n",
              "      <td>0.748235</td>\n",
              "      <td>-0.375191</td>\n",
              "      <td>0.056493</td>\n",
              "      <td>0.080111</td>\n",
              "      <td>0.216317</td>\n",
              "      <td>-0.155607</td>\n",
              "      <td>0.086407</td>\n",
              "      <td>0.157809</td>\n",
              "      <td>-0.218962</td>\n",
              "      <td>NaN</td>\n",
              "      <td>0.488953</td>\n",
              "      <td>0.118349</td>\n",
              "    </tr>\n",
              "    <tr>\n",
              "      <th>TransientThrottleLoadSource</th>\n",
              "      <td>-0.713333</td>\n",
              "      <td>0.780990</td>\n",
              "      <td>0.110927</td>\n",
              "      <td>0.719449</td>\n",
              "      <td>-0.466639</td>\n",
              "      <td>0.676674</td>\n",
              "      <td>-0.451700</td>\n",
              "      <td>-0.306692</td>\n",
              "      <td>0.991538</td>\n",
              "      <td>0.836300</td>\n",
              "      <td>0.152350</td>\n",
              "      <td>-0.710184</td>\n",
              "      <td>-0.412876</td>\n",
              "      <td>0.633309</td>\n",
              "      <td>-0.405018</td>\n",
              "      <td>1.000000</td>\n",
              "      <td>0.554770</td>\n",
              "      <td>-0.235341</td>\n",
              "      <td>-0.495873</td>\n",
              "      <td>0.174706</td>\n",
              "      <td>0.145303</td>\n",
              "      <td>-0.130209</td>\n",
              "      <td>0.188460</td>\n",
              "      <td>0.130706</td>\n",
              "      <td>-0.167580</td>\n",
              "      <td>NaN</td>\n",
              "      <td>-0.327801</td>\n",
              "      <td>0.314762</td>\n",
              "    </tr>\n",
              "    <tr>\n",
              "      <th>IgnitionLoad</th>\n",
              "      <td>0.111030</td>\n",
              "      <td>-0.124604</td>\n",
              "      <td>-0.402333</td>\n",
              "      <td>-0.430796</td>\n",
              "      <td>-0.792202</td>\n",
              "      <td>0.668495</td>\n",
              "      <td>0.175934</td>\n",
              "      <td>-0.081271</td>\n",
              "      <td>-0.102720</td>\n",
              "      <td>0.224166</td>\n",
              "      <td>0.996261</td>\n",
              "      <td>0.096640</td>\n",
              "      <td>0.347030</td>\n",
              "      <td>-0.125704</td>\n",
              "      <td>0.748235</td>\n",
              "      <td>0.554770</td>\n",
              "      <td>1.000000</td>\n",
              "      <td>-0.431476</td>\n",
              "      <td>-0.736775</td>\n",
              "      <td>NaN</td>\n",
              "      <td>NaN</td>\n",
              "      <td>NaN</td>\n",
              "      <td>NaN</td>\n",
              "      <td>NaN</td>\n",
              "      <td>NaN</td>\n",
              "      <td>NaN</td>\n",
              "      <td>NaN</td>\n",
              "      <td>NaN</td>\n",
              "    </tr>\n",
              "    <tr>\n",
              "      <th>AFRDifference</th>\n",
              "      <td>0.018020</td>\n",
              "      <td>-0.014093</td>\n",
              "      <td>0.025581</td>\n",
              "      <td>-0.318074</td>\n",
              "      <td>-0.584914</td>\n",
              "      <td>-0.232989</td>\n",
              "      <td>0.023852</td>\n",
              "      <td>-0.073284</td>\n",
              "      <td>-0.014610</td>\n",
              "      <td>-0.020417</td>\n",
              "      <td>-0.432628</td>\n",
              "      <td>0.013886</td>\n",
              "      <td>0.055557</td>\n",
              "      <td>-0.014334</td>\n",
              "      <td>-0.375191</td>\n",
              "      <td>-0.235341</td>\n",
              "      <td>-0.431476</td>\n",
              "      <td>1.000000</td>\n",
              "      <td>0.324878</td>\n",
              "      <td>NaN</td>\n",
              "      <td>NaN</td>\n",
              "      <td>NaN</td>\n",
              "      <td>NaN</td>\n",
              "      <td>NaN</td>\n",
              "      <td>NaN</td>\n",
              "      <td>NaN</td>\n",
              "      <td>NaN</td>\n",
              "      <td>NaN</td>\n",
              "    </tr>\n",
              "    <tr>\n",
              "      <th>IgnitionTiming</th>\n",
              "      <td>0.499639</td>\n",
              "      <td>-0.384690</td>\n",
              "      <td>-0.061789</td>\n",
              "      <td>0.629292</td>\n",
              "      <td>-0.192506</td>\n",
              "      <td>-0.496326</td>\n",
              "      <td>0.250972</td>\n",
              "      <td>-0.248110</td>\n",
              "      <td>-0.424521</td>\n",
              "      <td>-0.433931</td>\n",
              "      <td>-0.605321</td>\n",
              "      <td>0.404735</td>\n",
              "      <td>0.153099</td>\n",
              "      <td>-0.412423</td>\n",
              "      <td>0.056493</td>\n",
              "      <td>-0.495873</td>\n",
              "      <td>-0.736775</td>\n",
              "      <td>0.324878</td>\n",
              "      <td>1.000000</td>\n",
              "      <td>0.578579</td>\n",
              "      <td>-0.040789</td>\n",
              "      <td>0.495841</td>\n",
              "      <td>0.130367</td>\n",
              "      <td>-0.469712</td>\n",
              "      <td>0.048723</td>\n",
              "      <td>NaN</td>\n",
              "      <td>0.160819</td>\n",
              "      <td>0.238133</td>\n",
              "    </tr>\n",
              "    <tr>\n",
              "      <th>CurrentDutyCycle</th>\n",
              "      <td>0.276284</td>\n",
              "      <td>0.424392</td>\n",
              "      <td>-0.473142</td>\n",
              "      <td>0.448393</td>\n",
              "      <td>-0.047317</td>\n",
              "      <td>-0.073342</td>\n",
              "      <td>-0.072584</td>\n",
              "      <td>NaN</td>\n",
              "      <td>-0.647554</td>\n",
              "      <td>-0.489631</td>\n",
              "      <td>-0.073355</td>\n",
              "      <td>-0.245951</td>\n",
              "      <td>-0.077630</td>\n",
              "      <td>-0.045127</td>\n",
              "      <td>0.080111</td>\n",
              "      <td>0.174706</td>\n",
              "      <td>NaN</td>\n",
              "      <td>NaN</td>\n",
              "      <td>0.578579</td>\n",
              "      <td>1.000000</td>\n",
              "      <td>0.013064</td>\n",
              "      <td>0.279853</td>\n",
              "      <td>0.033233</td>\n",
              "      <td>-0.274261</td>\n",
              "      <td>0.004223</td>\n",
              "      <td>NaN</td>\n",
              "      <td>0.222195</td>\n",
              "      <td>-0.140103</td>\n",
              "    </tr>\n",
              "    <tr>\n",
              "      <th>ShiftLight1</th>\n",
              "      <td>-0.083996</td>\n",
              "      <td>-0.013940</td>\n",
              "      <td>0.095480</td>\n",
              "      <td>0.140054</td>\n",
              "      <td>0.787319</td>\n",
              "      <td>0.370592</td>\n",
              "      <td>0.370270</td>\n",
              "      <td>NaN</td>\n",
              "      <td>0.071606</td>\n",
              "      <td>-0.072223</td>\n",
              "      <td>0.370490</td>\n",
              "      <td>0.207249</td>\n",
              "      <td>0.727476</td>\n",
              "      <td>0.550596</td>\n",
              "      <td>0.216317</td>\n",
              "      <td>0.145303</td>\n",
              "      <td>NaN</td>\n",
              "      <td>NaN</td>\n",
              "      <td>-0.040789</td>\n",
              "      <td>0.013064</td>\n",
              "      <td>1.000000</td>\n",
              "      <td>-0.231619</td>\n",
              "      <td>-0.946027</td>\n",
              "      <td>0.228524</td>\n",
              "      <td>-0.999604</td>\n",
              "      <td>NaN</td>\n",
              "      <td>0.621204</td>\n",
              "      <td>0.073282</td>\n",
              "    </tr>\n",
              "    <tr>\n",
              "      <th>IgnitionCoolantTempCorrection</th>\n",
              "      <td>0.263800</td>\n",
              "      <td>0.456965</td>\n",
              "      <td>-0.588987</td>\n",
              "      <td>0.033433</td>\n",
              "      <td>-0.128042</td>\n",
              "      <td>0.055047</td>\n",
              "      <td>0.055698</td>\n",
              "      <td>NaN</td>\n",
              "      <td>-0.859992</td>\n",
              "      <td>-0.991121</td>\n",
              "      <td>0.055204</td>\n",
              "      <td>-0.288804</td>\n",
              "      <td>-0.116644</td>\n",
              "      <td>-0.028199</td>\n",
              "      <td>-0.155607</td>\n",
              "      <td>-0.130209</td>\n",
              "      <td>NaN</td>\n",
              "      <td>NaN</td>\n",
              "      <td>0.495841</td>\n",
              "      <td>0.279853</td>\n",
              "      <td>-0.231619</td>\n",
              "      <td>1.000000</td>\n",
              "      <td>0.200854</td>\n",
              "      <td>-0.998286</td>\n",
              "      <td>0.217841</td>\n",
              "      <td>NaN</td>\n",
              "      <td>0.755232</td>\n",
              "      <td>-0.059131</td>\n",
              "    </tr>\n",
              "    <tr>\n",
              "      <th>IgnitionAirTempCorrection</th>\n",
              "      <td>0.206542</td>\n",
              "      <td>0.069916</td>\n",
              "      <td>-0.085642</td>\n",
              "      <td>0.119973</td>\n",
              "      <td>-0.902532</td>\n",
              "      <td>-0.607296</td>\n",
              "      <td>-0.606952</td>\n",
              "      <td>NaN</td>\n",
              "      <td>-0.064154</td>\n",
              "      <td>0.088349</td>\n",
              "      <td>-0.607343</td>\n",
              "      <td>-0.259515</td>\n",
              "      <td>-0.881468</td>\n",
              "      <td>-0.748902</td>\n",
              "      <td>0.086407</td>\n",
              "      <td>0.188460</td>\n",
              "      <td>NaN</td>\n",
              "      <td>NaN</td>\n",
              "      <td>0.130367</td>\n",
              "      <td>0.033233</td>\n",
              "      <td>-0.946027</td>\n",
              "      <td>0.200854</td>\n",
              "      <td>1.000000</td>\n",
              "      <td>-0.196503</td>\n",
              "      <td>0.943808</td>\n",
              "      <td>NaN</td>\n",
              "      <td>-0.250466</td>\n",
              "      <td>0.154137</td>\n",
              "    </tr>\n",
              "    <tr>\n",
              "      <th>TransientThrottleAccelCoolantCorr</th>\n",
              "      <td>-0.266323</td>\n",
              "      <td>-0.460849</td>\n",
              "      <td>0.594406</td>\n",
              "      <td>-0.034059</td>\n",
              "      <td>0.124893</td>\n",
              "      <td>-0.055502</td>\n",
              "      <td>-0.056148</td>\n",
              "      <td>NaN</td>\n",
              "      <td>0.862682</td>\n",
              "      <td>0.989576</td>\n",
              "      <td>-0.055667</td>\n",
              "      <td>0.292065</td>\n",
              "      <td>0.114939</td>\n",
              "      <td>0.027451</td>\n",
              "      <td>0.157809</td>\n",
              "      <td>0.130706</td>\n",
              "      <td>NaN</td>\n",
              "      <td>NaN</td>\n",
              "      <td>-0.469712</td>\n",
              "      <td>-0.274261</td>\n",
              "      <td>0.228524</td>\n",
              "      <td>-0.998286</td>\n",
              "      <td>-0.196503</td>\n",
              "      <td>1.000000</td>\n",
              "      <td>-0.214069</td>\n",
              "      <td>NaN</td>\n",
              "      <td>-0.002537</td>\n",
              "      <td>0.192378</td>\n",
              "    </tr>\n",
              "    <tr>\n",
              "      <th>TransientThrottleEnrichSensitivity</th>\n",
              "      <td>0.083723</td>\n",
              "      <td>0.047838</td>\n",
              "      <td>-0.073794</td>\n",
              "      <td>-0.133001</td>\n",
              "      <td>-0.776987</td>\n",
              "      <td>-0.389767</td>\n",
              "      <td>-0.389589</td>\n",
              "      <td>NaN</td>\n",
              "      <td>-0.072678</td>\n",
              "      <td>0.090913</td>\n",
              "      <td>-0.389777</td>\n",
              "      <td>-0.216331</td>\n",
              "      <td>-0.714540</td>\n",
              "      <td>-0.558153</td>\n",
              "      <td>-0.218962</td>\n",
              "      <td>-0.167580</td>\n",
              "      <td>NaN</td>\n",
              "      <td>NaN</td>\n",
              "      <td>0.048723</td>\n",
              "      <td>0.004223</td>\n",
              "      <td>-0.999604</td>\n",
              "      <td>0.217841</td>\n",
              "      <td>0.943808</td>\n",
              "      <td>-0.214069</td>\n",
              "      <td>1.000000</td>\n",
              "      <td>NaN</td>\n",
              "      <td>NaN</td>\n",
              "      <td>0.172554</td>\n",
              "    </tr>\n",
              "    <tr>\n",
              "      <th>TransientThrottleEnrichDecayRate</th>\n",
              "      <td>NaN</td>\n",
              "      <td>NaN</td>\n",
              "      <td>NaN</td>\n",
              "      <td>NaN</td>\n",
              "      <td>NaN</td>\n",
              "      <td>NaN</td>\n",
              "      <td>NaN</td>\n",
              "      <td>NaN</td>\n",
              "      <td>NaN</td>\n",
              "      <td>NaN</td>\n",
              "      <td>NaN</td>\n",
              "      <td>NaN</td>\n",
              "      <td>NaN</td>\n",
              "      <td>NaN</td>\n",
              "      <td>NaN</td>\n",
              "      <td>NaN</td>\n",
              "      <td>NaN</td>\n",
              "      <td>NaN</td>\n",
              "      <td>NaN</td>\n",
              "      <td>NaN</td>\n",
              "      <td>NaN</td>\n",
              "      <td>NaN</td>\n",
              "      <td>NaN</td>\n",
              "      <td>NaN</td>\n",
              "      <td>NaN</td>\n",
              "      <td>NaN</td>\n",
              "      <td>NaN</td>\n",
              "      <td>NaN</td>\n",
              "    </tr>\n",
              "    <tr>\n",
              "      <th>TransientThrottlePercentageAsync</th>\n",
              "      <td>0.351036</td>\n",
              "      <td>-0.584650</td>\n",
              "      <td>-0.031709</td>\n",
              "      <td>0.396935</td>\n",
              "      <td>0.601350</td>\n",
              "      <td>0.311718</td>\n",
              "      <td>0.321454</td>\n",
              "      <td>NaN</td>\n",
              "      <td>0.112326</td>\n",
              "      <td>0.058579</td>\n",
              "      <td>0.312288</td>\n",
              "      <td>-0.273331</td>\n",
              "      <td>0.457505</td>\n",
              "      <td>0.564652</td>\n",
              "      <td>0.488953</td>\n",
              "      <td>-0.327801</td>\n",
              "      <td>NaN</td>\n",
              "      <td>NaN</td>\n",
              "      <td>0.160819</td>\n",
              "      <td>0.222195</td>\n",
              "      <td>0.621204</td>\n",
              "      <td>0.755232</td>\n",
              "      <td>-0.250466</td>\n",
              "      <td>-0.002537</td>\n",
              "      <td>NaN</td>\n",
              "      <td>NaN</td>\n",
              "      <td>1.000000</td>\n",
              "      <td>NaN</td>\n",
              "    </tr>\n",
              "    <tr>\n",
              "      <th>TransientThrottlePercentageEnrich</th>\n",
              "      <td>-0.034319</td>\n",
              "      <td>-0.293343</td>\n",
              "      <td>0.214021</td>\n",
              "      <td>-0.178411</td>\n",
              "      <td>0.103218</td>\n",
              "      <td>0.075722</td>\n",
              "      <td>0.077152</td>\n",
              "      <td>NaN</td>\n",
              "      <td>0.309875</td>\n",
              "      <td>0.293125</td>\n",
              "      <td>0.079570</td>\n",
              "      <td>0.150790</td>\n",
              "      <td>0.194593</td>\n",
              "      <td>0.109000</td>\n",
              "      <td>0.118349</td>\n",
              "      <td>0.314762</td>\n",
              "      <td>NaN</td>\n",
              "      <td>NaN</td>\n",
              "      <td>0.238133</td>\n",
              "      <td>-0.140103</td>\n",
              "      <td>0.073282</td>\n",
              "      <td>-0.059131</td>\n",
              "      <td>0.154137</td>\n",
              "      <td>0.192378</td>\n",
              "      <td>0.172554</td>\n",
              "      <td>NaN</td>\n",
              "      <td>NaN</td>\n",
              "      <td>1.000000</td>\n",
              "    </tr>\n",
              "  </tbody>\n",
              "</table>\n",
              "</div>"
            ],
            "text/plain": [
              "                                    BaseFuel  ...  TransientThrottlePercentageEnrich\n",
              "BaseFuel                            1.000000  ...                          -0.034319\n",
              "BaseIgnition                       -0.085861  ...                          -0.293343\n",
              "TargetAFR                          -0.257900  ...                           0.214021\n",
              "FuelCoolantTempCorrection           0.383900  ...                          -0.178411\n",
              "FuelAirTempCorrection              -0.348372  ...                           0.103218\n",
              "ThrottlePosition                   -0.575339  ...                           0.075722\n",
              "AirTemp                            -0.198321  ...                           0.077152\n",
              "CoolantTemp                         0.236481  ...                                NaN\n",
              "LambdaSensor1                      -0.812561  ...                           0.309875\n",
              "RPM                                -0.707284  ...                           0.293125\n",
              "Load                               -0.349439  ...                           0.079570\n",
              "BatteryVoltage                     -0.184169  ...                           0.150790\n",
              "EngineRunningTime                  -0.253539  ...                           0.194593\n",
              "DeltaLoad                          -0.524746  ...                           0.109000\n",
              "MAPSource                           0.402095  ...                           0.118349\n",
              "TransientThrottleLoadSource        -0.713333  ...                           0.314762\n",
              "IgnitionLoad                        0.111030  ...                                NaN\n",
              "AFRDifference                       0.018020  ...                                NaN\n",
              "IgnitionTiming                      0.499639  ...                           0.238133\n",
              "CurrentDutyCycle                    0.276284  ...                          -0.140103\n",
              "ShiftLight1                        -0.083996  ...                           0.073282\n",
              "IgnitionCoolantTempCorrection       0.263800  ...                          -0.059131\n",
              "IgnitionAirTempCorrection           0.206542  ...                           0.154137\n",
              "TransientThrottleAccelCoolantCorr  -0.266323  ...                           0.192378\n",
              "TransientThrottleEnrichSensitivity  0.083723  ...                           0.172554\n",
              "TransientThrottleEnrichDecayRate         NaN  ...                                NaN\n",
              "TransientThrottlePercentageAsync    0.351036  ...                                NaN\n",
              "TransientThrottlePercentageEnrich  -0.034319  ...                           1.000000\n",
              "\n",
              "[28 rows x 28 columns]"
            ]
          },
          "metadata": {
            "tags": []
          },
          "execution_count": 68
        }
      ]
    },
    {
      "cell_type": "code",
      "metadata": {
        "id": "btDwz0ghOLy1"
      },
      "source": [
        "corr = frame.corr()"
      ],
      "execution_count": 69,
      "outputs": []
    },
    {
      "cell_type": "code",
      "metadata": {
        "id": "sJky1063MYCI",
        "outputId": "35e7068e-34c0-476e-de9b-ece68b1a3f11",
        "colab": {
          "base_uri": "https://localhost:8080/",
          "height": 558
        }
      },
      "source": [
        "from matplotlib import pyplot as plt\n",
        "import seaborn as sns\n",
        "plt.figure(figsize=(12,6))\n",
        "sns.heatmap(corr)"
      ],
      "execution_count": 70,
      "outputs": [
        {
          "output_type": "execute_result",
          "data": {
            "text/plain": [
              "<matplotlib.axes._subplots.AxesSubplot at 0x7f2929e41e10>"
            ]
          },
          "metadata": {
            "tags": []
          },
          "execution_count": 70
        },
        {
          "output_type": "display_data",
          "data": {
            "image/png": "[encoded data removed]",
            "text/plain": [
              "<Figure size 864x432 with 2 Axes>"
            ]
          },
          "metadata": {
            "tags": [],
            "needs_background": "light"
          }
        }
      ]
    },
    {
      "cell_type": "code",
      "metadata": {
        "id": "LdJU46Vp44Se",
        "outputId": "f3a91c3c-723d-4e14-a8dd-c1a3a3628a8d",
        "colab": {
          "base_uri": "https://localhost:8080/"
        }
      },
      "source": [
        "frame.info()"
      ],
      "execution_count": 71,
      "outputs": [
        {
          "output_type": "stream",
          "text": [
            "<class 'pandas.core.frame.DataFrame'>\n",
            "RangeIndex: 1414545 entries, 0 to 1414544\n",
            "Data columns (total 30 columns):\n",
            " #   Column                              Non-Null Count    Dtype  \n",
            "---  ------                              --------------    -----  \n",
            " 0   DownloadDateTime                    1414545 non-null  object \n",
            " 1   BaseFuel                            1330367 non-null  float64\n",
            " 2   BaseIgnition                        1260335 non-null  float64\n",
            " 3   TargetAFR                           216904 non-null   float64\n",
            " 4   FuelCoolantTempCorrection           843773 non-null   float64\n",
            " 5   FuelAirTempCorrection               803514 non-null   float64\n",
            " 6   ThrottlePosition                    1233952 non-null  float64\n",
            " 7   AirTemp                             1214073 non-null  float64\n",
            " 8   CoolantTemp                         39889 non-null    float64\n",
            " 9   LambdaSensor1                       563660 non-null   float64\n",
            " 10  RPM                                 581487 non-null   float64\n",
            " 11  Load                                1279132 non-null  float64\n",
            " 12  BatteryVoltage                      1342095 non-null  float64\n",
            " 13  EngineRunningTime                   683572 non-null   float64\n",
            " 14  DeltaLoad                           1176135 non-null  float64\n",
            " 15  MAPSource                           904954 non-null   float64\n",
            " 16  TransientThrottleLoadSource         311873 non-null   float64\n",
            " 17  IgnitionLoad                        106296 non-null   float64\n",
            " 18  AFRDifference                       118772 non-null   float64\n",
            " 19  IgnitionTiming                      180632 non-null   float64\n",
            " 20  CurrentDutyCycle                    185133 non-null   float64\n",
            " 21  ShiftLight1                         1246648 non-null  float64\n",
            " 22  IgnitionCoolantTempCorrection       285647 non-null   float64\n",
            " 23  IgnitionAirTempCorrection           1221296 non-null  float64\n",
            " 24  TransientThrottleAccelCoolantCorr   285592 non-null   float64\n",
            " 25  TransientThrottleEnrichSensitivity  1149743 non-null  float64\n",
            " 26  TransientThrottleEnrichDecayRate    144 non-null      float64\n",
            " 27  filename                            1414545 non-null  object \n",
            " 28  TransientThrottlePercentageAsync    148 non-null      float64\n",
            " 29  TransientThrottlePercentageEnrich   444 non-null      float64\n",
            "dtypes: float64(28), object(2)\n",
            "memory usage: 323.8+ MB\n"
          ],
          "name": "stdout"
        }
      ]
    },
    {
      "cell_type": "code",
      "metadata": {
        "id": "QE3t-TFk09fu"
      },
      "source": [
        "del frame['TransientThrottleEnrichDecayRate']"
      ],
      "execution_count": 72,
      "outputs": []
    },
    {
      "cell_type": "code",
      "metadata": {
        "id": "-HcVGO591HF3"
      },
      "source": [
        "del frame['TransientThrottlePercentageEnrich']\n",
        "del frame['TransientThrottlePercentageAsync']"
      ],
      "execution_count": 73,
      "outputs": []
    },
    {
      "cell_type": "code",
      "metadata": {
        "id": "eMOA9e3E1HK_",
        "outputId": "8751d2b4-01fd-41f4-9ef9-f72c04b0e4fe",
        "colab": {
          "base_uri": "https://localhost:8080/"
        }
      },
      "source": [
        "frame.isnull().sum()"
      ],
      "execution_count": 74,
      "outputs": [
        {
          "output_type": "execute_result",
          "data": {
            "text/plain": [
              "DownloadDateTime                            0\n",
              "BaseFuel                                84178\n",
              "BaseIgnition                           154210\n",
              "TargetAFR                             1197641\n",
              "FuelCoolantTempCorrection              570772\n",
              "FuelAirTempCorrection                  611031\n",
              "ThrottlePosition                       180593\n",
              "AirTemp                                200472\n",
              "CoolantTemp                           1374656\n",
              "LambdaSensor1                          850885\n",
              "RPM                                    833058\n",
              "Load                                   135413\n",
              "BatteryVoltage                          72450\n",
              "EngineRunningTime                      730973\n",
              "DeltaLoad                              238410\n",
              "MAPSource                              509591\n",
              "TransientThrottleLoadSource           1102672\n",
              "IgnitionLoad                          1308249\n",
              "AFRDifference                         1295773\n",
              "IgnitionTiming                        1233913\n",
              "CurrentDutyCycle                      1229412\n",
              "ShiftLight1                            167897\n",
              "IgnitionCoolantTempCorrection         1128898\n",
              "IgnitionAirTempCorrection              193249\n",
              "TransientThrottleAccelCoolantCorr     1128953\n",
              "TransientThrottleEnrichSensitivity     264802\n",
              "filename                                    0\n",
              "dtype: int64"
            ]
          },
          "metadata": {
            "tags": []
          },
          "execution_count": 74
        }
      ]
    },
    {
      "cell_type": "code",
      "metadata": {
        "id": "ORmfDhtJ1HNf",
        "outputId": "119c8229-61da-4ab9-d2ec-7a26e8c08acd",
        "colab": {
          "base_uri": "https://localhost:8080/"
        }
      },
      "source": [
        "frame.info()\n",
        "#frame = frame.apply(lambda x: x.fillna(x.mean()),axis=0)"
      ],
      "execution_count": 75,
      "outputs": [
        {
          "output_type": "stream",
          "text": [
            "<class 'pandas.core.frame.DataFrame'>\n",
            "RangeIndex: 1414545 entries, 0 to 1414544\n",
            "Data columns (total 27 columns):\n",
            " #   Column                              Non-Null Count    Dtype  \n",
            "---  ------                              --------------    -----  \n",
            " 0   DownloadDateTime                    1414545 non-null  object \n",
            " 1   BaseFuel                            1330367 non-null  float64\n",
            " 2   BaseIgnition                        1260335 non-null  float64\n",
            " 3   TargetAFR                           216904 non-null   float64\n",
            " 4   FuelCoolantTempCorrection           843773 non-null   float64\n",
            " 5   FuelAirTempCorrection               803514 non-null   float64\n",
            " 6   ThrottlePosition                    1233952 non-null  float64\n",
            " 7   AirTemp                             1214073 non-null  float64\n",
            " 8   CoolantTemp                         39889 non-null    float64\n",
            " 9   LambdaSensor1                       563660 non-null   float64\n",
            " 10  RPM                                 581487 non-null   float64\n",
            " 11  Load                                1279132 non-null  float64\n",
            " 12  BatteryVoltage                      1342095 non-null  float64\n",
            " 13  EngineRunningTime                   683572 non-null   float64\n",
            " 14  DeltaLoad                           1176135 non-null  float64\n",
            " 15  MAPSource                           904954 non-null   float64\n",
            " 16  TransientThrottleLoadSource         311873 non-null   float64\n",
            " 17  IgnitionLoad                        106296 non-null   float64\n",
            " 18  AFRDifference                       118772 non-null   float64\n",
            " 19  IgnitionTiming                      180632 non-null   float64\n",
            " 20  CurrentDutyCycle                    185133 non-null   float64\n",
            " 21  ShiftLight1                         1246648 non-null  float64\n",
            " 22  IgnitionCoolantTempCorrection       285647 non-null   float64\n",
            " 23  IgnitionAirTempCorrection           1221296 non-null  float64\n",
            " 24  TransientThrottleAccelCoolantCorr   285592 non-null   float64\n",
            " 25  TransientThrottleEnrichSensitivity  1149743 non-null  float64\n",
            " 26  filename                            1414545 non-null  object \n",
            "dtypes: float64(25), object(2)\n",
            "memory usage: 291.4+ MB\n"
          ],
          "name": "stdout"
        }
      ]
    },
    {
      "cell_type": "code",
      "metadata": {
        "id": "LBNWBq-py6Dw"
      },
      "source": [
        "file_date = frame['filename'].str.slice(0,8)"
      ],
      "execution_count": 76,
      "outputs": []
    },
    {
      "cell_type": "code",
      "metadata": {
        "id": "llV-NvK4y7CV",
        "outputId": "6cab6391-2d7a-4dba-c78a-7493745db732",
        "colab": {
          "base_uri": "https://localhost:8080/"
        }
      },
      "source": [
        "file_date"
      ],
      "execution_count": 77,
      "outputs": [
        {
          "output_type": "execute_result",
          "data": {
            "text/plain": [
              "0          20180718\n",
              "1          20180718\n",
              "2          20180718\n",
              "3          20180718\n",
              "4          20180718\n",
              "             ...   \n",
              "1414540    20180816\n",
              "1414541    20180816\n",
              "1414542    20180816\n",
              "1414543    20180816\n",
              "1414544    20180816\n",
              "Name: filename, Length: 1414545, dtype: object"
            ]
          },
          "metadata": {
            "tags": []
          },
          "execution_count": 77
        }
      ]
    },
    {
      "cell_type": "code",
      "metadata": {
        "id": "TTehwZaCz-_B"
      },
      "source": [
        ""
      ],
      "execution_count": null,
      "outputs": []
    },
    {
      "cell_type": "code",
      "metadata": {
        "id": "Vbse3U6Hz_Ij"
      },
      "source": [
        "frame['filename'] = frame['filename'].str.slice(0,8)"
      ],
      "execution_count": 78,
      "outputs": []
    },
    {
      "cell_type": "code",
      "metadata": {
        "id": "JEoXuBhL1FvM",
        "outputId": "72f9e363-5f62-4925-9d47-41dd0428b4ee",
        "colab": {
          "base_uri": "https://localhost:8080/",
          "height": 215
        }
      },
      "source": [
        "frame.head()"
      ],
      "execution_count": 79,
      "outputs": [
        {
          "output_type": "execute_result",
          "data": {
            "text/html": [
              "<div>\n",
              "<style scoped>\n",
              "    .dataframe tbody tr th:only-of-type {\n",
              "        vertical-align: middle;\n",
              "    }\n",
              "\n",
              "    .dataframe tbody tr th {\n",
              "        vertical-align: top;\n",
              "    }\n",
              "\n",
              "    .dataframe thead th {\n",
              "        text-align: right;\n",
              "    }\n",
              "</style>\n",
              "<table border=\"1\" class=\"dataframe\">\n",
              "  <thead>\n",
              "    <tr style=\"text-align: right;\">\n",
              "      <th></th>\n",
              "      <th>DownloadDateTime</th>\n",
              "      <th>BaseFuel</th>\n",
              "      <th>BaseIgnition</th>\n",
              "      <th>TargetAFR</th>\n",
              "      <th>FuelCoolantTempCorrection</th>\n",
              "      <th>FuelAirTempCorrection</th>\n",
              "      <th>ThrottlePosition</th>\n",
              "      <th>AirTemp</th>\n",
              "      <th>CoolantTemp</th>\n",
              "      <th>LambdaSensor1</th>\n",
              "      <th>RPM</th>\n",
              "      <th>Load</th>\n",
              "      <th>BatteryVoltage</th>\n",
              "      <th>EngineRunningTime</th>\n",
              "      <th>DeltaLoad</th>\n",
              "      <th>MAPSource</th>\n",
              "      <th>TransientThrottleLoadSource</th>\n",
              "      <th>IgnitionLoad</th>\n",
              "      <th>AFRDifference</th>\n",
              "      <th>IgnitionTiming</th>\n",
              "      <th>CurrentDutyCycle</th>\n",
              "      <th>ShiftLight1</th>\n",
              "      <th>IgnitionCoolantTempCorrection</th>\n",
              "      <th>IgnitionAirTempCorrection</th>\n",
              "      <th>TransientThrottleAccelCoolantCorr</th>\n",
              "      <th>TransientThrottleEnrichSensitivity</th>\n",
              "      <th>filename</th>\n",
              "    </tr>\n",
              "  </thead>\n",
              "  <tbody>\n",
              "    <tr>\n",
              "      <th>0</th>\n",
              "      <td>07:27:14.000</td>\n",
              "      <td>68.0</td>\n",
              "      <td>13153.0</td>\n",
              "      <td>89.0</td>\n",
              "      <td>249.0</td>\n",
              "      <td>23.0</td>\n",
              "      <td>412.0</td>\n",
              "      <td>412.0</td>\n",
              "      <td>3316.0</td>\n",
              "      <td>3031.0</td>\n",
              "      <td>3229.0</td>\n",
              "      <td>412.0</td>\n",
              "      <td>827.652</td>\n",
              "      <td>0.0</td>\n",
              "      <td>335.0</td>\n",
              "      <td>233.0</td>\n",
              "      <td>1000.0</td>\n",
              "      <td>0.0</td>\n",
              "      <td>0.0</td>\n",
              "      <td>57.0</td>\n",
              "      <td>0.0</td>\n",
              "      <td>1022.0</td>\n",
              "      <td>0.0</td>\n",
              "      <td>103.2</td>\n",
              "      <td>520.0</td>\n",
              "      <td>473.0</td>\n",
              "      <td>20180718</td>\n",
              "    </tr>\n",
              "    <tr>\n",
              "      <th>1</th>\n",
              "      <td>07:27:14.078</td>\n",
              "      <td>64.0</td>\n",
              "      <td>13216.0</td>\n",
              "      <td>NaN</td>\n",
              "      <td>NaN</td>\n",
              "      <td>NaN</td>\n",
              "      <td>409.0</td>\n",
              "      <td>409.0</td>\n",
              "      <td>NaN</td>\n",
              "      <td>3030.0</td>\n",
              "      <td>NaN</td>\n",
              "      <td>410.0</td>\n",
              "      <td>NaN</td>\n",
              "      <td>NaN</td>\n",
              "      <td>337.0</td>\n",
              "      <td>NaN</td>\n",
              "      <td>NaN</td>\n",
              "      <td>NaN</td>\n",
              "      <td>NaN</td>\n",
              "      <td>NaN</td>\n",
              "      <td>NaN</td>\n",
              "      <td>1032.0</td>\n",
              "      <td>NaN</td>\n",
              "      <td>NaN</td>\n",
              "      <td>NaN</td>\n",
              "      <td>NaN</td>\n",
              "      <td>20180718</td>\n",
              "    </tr>\n",
              "    <tr>\n",
              "      <th>2</th>\n",
              "      <td>07:27:14.110</td>\n",
              "      <td>NaN</td>\n",
              "      <td>NaN</td>\n",
              "      <td>NaN</td>\n",
              "      <td>NaN</td>\n",
              "      <td>NaN</td>\n",
              "      <td>NaN</td>\n",
              "      <td>NaN</td>\n",
              "      <td>NaN</td>\n",
              "      <td>NaN</td>\n",
              "      <td>NaN</td>\n",
              "      <td>NaN</td>\n",
              "      <td>NaN</td>\n",
              "      <td>NaN</td>\n",
              "      <td>NaN</td>\n",
              "      <td>320.0</td>\n",
              "      <td>NaN</td>\n",
              "      <td>NaN</td>\n",
              "      <td>NaN</td>\n",
              "      <td>181.0</td>\n",
              "      <td>50.0</td>\n",
              "      <td>NaN</td>\n",
              "      <td>253.0</td>\n",
              "      <td>2725.0</td>\n",
              "      <td>520.0</td>\n",
              "      <td>796.0</td>\n",
              "      <td>20180718</td>\n",
              "    </tr>\n",
              "    <tr>\n",
              "      <th>3</th>\n",
              "      <td>07:27:14.125</td>\n",
              "      <td>64.0</td>\n",
              "      <td>13216.0</td>\n",
              "      <td>NaN</td>\n",
              "      <td>NaN</td>\n",
              "      <td>NaN</td>\n",
              "      <td>411.0</td>\n",
              "      <td>411.0</td>\n",
              "      <td>NaN</td>\n",
              "      <td>NaN</td>\n",
              "      <td>3229.0</td>\n",
              "      <td>409.0</td>\n",
              "      <td>936.000</td>\n",
              "      <td>NaN</td>\n",
              "      <td>NaN</td>\n",
              "      <td>NaN</td>\n",
              "      <td>NaN</td>\n",
              "      <td>NaN</td>\n",
              "      <td>NaN</td>\n",
              "      <td>NaN</td>\n",
              "      <td>NaN</td>\n",
              "      <td>1034.0</td>\n",
              "      <td>NaN</td>\n",
              "      <td>NaN</td>\n",
              "      <td>NaN</td>\n",
              "      <td>NaN</td>\n",
              "      <td>20180718</td>\n",
              "    </tr>\n",
              "    <tr>\n",
              "      <th>4</th>\n",
              "      <td>07:27:14.188</td>\n",
              "      <td>NaN</td>\n",
              "      <td>NaN</td>\n",
              "      <td>NaN</td>\n",
              "      <td>NaN</td>\n",
              "      <td>NaN</td>\n",
              "      <td>NaN</td>\n",
              "      <td>NaN</td>\n",
              "      <td>NaN</td>\n",
              "      <td>3030.0</td>\n",
              "      <td>3230.0</td>\n",
              "      <td>NaN</td>\n",
              "      <td>NaN</td>\n",
              "      <td>NaN</td>\n",
              "      <td>337.0</td>\n",
              "      <td>NaN</td>\n",
              "      <td>NaN</td>\n",
              "      <td>NaN</td>\n",
              "      <td>NaN</td>\n",
              "      <td>NaN</td>\n",
              "      <td>NaN</td>\n",
              "      <td>NaN</td>\n",
              "      <td>NaN</td>\n",
              "      <td>2728.0</td>\n",
              "      <td>NaN</td>\n",
              "      <td>796.0</td>\n",
              "      <td>20180718</td>\n",
              "    </tr>\n",
              "  </tbody>\n",
              "</table>\n",
              "</div>"
            ],
            "text/plain": [
              "  DownloadDateTime  BaseFuel  ...  TransientThrottleEnrichSensitivity  filename\n",
              "0     07:27:14.000      68.0  ...                               473.0  20180718\n",
              "1     07:27:14.078      64.0  ...                                 NaN  20180718\n",
              "2     07:27:14.110       NaN  ...                               796.0  20180718\n",
              "3     07:27:14.125      64.0  ...                                 NaN  20180718\n",
              "4     07:27:14.188       NaN  ...                               796.0  20180718\n",
              "\n",
              "[5 rows x 27 columns]"
            ]
          },
          "metadata": {
            "tags": []
          },
          "execution_count": 79
        }
      ]
    },
    {
      "cell_type": "code",
      "metadata": {
        "id": "_ofF1FJZ1F2V"
      },
      "source": [
        "frame['filename'] = pd.to_datetime(frame['filename'], format='%Y%m%d')"
      ],
      "execution_count": 80,
      "outputs": []
    },
    {
      "cell_type": "code",
      "metadata": {
        "id": "-jXT3ar31F5s",
        "outputId": "4c777243-373e-4461-939c-5b2ed60346fa",
        "colab": {
          "base_uri": "https://localhost:8080/",
          "height": 299
        }
      },
      "source": [
        "frame.head()"
      ],
      "execution_count": 81,
      "outputs": [
        {
          "output_type": "execute_result",
          "data": {
            "text/html": [
              "<div>\n",
              "<style scoped>\n",
              "    .dataframe tbody tr th:only-of-type {\n",
              "        vertical-align: middle;\n",
              "    }\n",
              "\n",
              "    .dataframe tbody tr th {\n",
              "        vertical-align: top;\n",
              "    }\n",
              "\n",
              "    .dataframe thead th {\n",
              "        text-align: right;\n",
              "    }\n",
              "</style>\n",
              "<table border=\"1\" class=\"dataframe\">\n",
              "  <thead>\n",
              "    <tr style=\"text-align: right;\">\n",
              "      <th></th>\n",
              "      <th>DownloadDateTime</th>\n",
              "      <th>BaseFuel</th>\n",
              "      <th>BaseIgnition</th>\n",
              "      <th>TargetAFR</th>\n",
              "      <th>FuelCoolantTempCorrection</th>\n",
              "      <th>FuelAirTempCorrection</th>\n",
              "      <th>ThrottlePosition</th>\n",
              "      <th>AirTemp</th>\n",
              "      <th>CoolantTemp</th>\n",
              "      <th>LambdaSensor1</th>\n",
              "      <th>RPM</th>\n",
              "      <th>Load</th>\n",
              "      <th>BatteryVoltage</th>\n",
              "      <th>EngineRunningTime</th>\n",
              "      <th>DeltaLoad</th>\n",
              "      <th>MAPSource</th>\n",
              "      <th>TransientThrottleLoadSource</th>\n",
              "      <th>IgnitionLoad</th>\n",
              "      <th>AFRDifference</th>\n",
              "      <th>IgnitionTiming</th>\n",
              "      <th>CurrentDutyCycle</th>\n",
              "      <th>ShiftLight1</th>\n",
              "      <th>IgnitionCoolantTempCorrection</th>\n",
              "      <th>IgnitionAirTempCorrection</th>\n",
              "      <th>TransientThrottleAccelCoolantCorr</th>\n",
              "      <th>TransientThrottleEnrichSensitivity</th>\n",
              "      <th>filename</th>\n",
              "    </tr>\n",
              "  </thead>\n",
              "  <tbody>\n",
              "    <tr>\n",
              "      <th>0</th>\n",
              "      <td>07:27:14.000</td>\n",
              "      <td>68.0</td>\n",
              "      <td>13153.0</td>\n",
              "      <td>89.0</td>\n",
              "      <td>249.0</td>\n",
              "      <td>23.0</td>\n",
              "      <td>412.0</td>\n",
              "      <td>412.0</td>\n",
              "      <td>3316.0</td>\n",
              "      <td>3031.0</td>\n",
              "      <td>3229.0</td>\n",
              "      <td>412.0</td>\n",
              "      <td>827.652</td>\n",
              "      <td>0.0</td>\n",
              "      <td>335.0</td>\n",
              "      <td>233.0</td>\n",
              "      <td>1000.0</td>\n",
              "      <td>0.0</td>\n",
              "      <td>0.0</td>\n",
              "      <td>57.0</td>\n",
              "      <td>0.0</td>\n",
              "      <td>1022.0</td>\n",
              "      <td>0.0</td>\n",
              "      <td>103.2</td>\n",
              "      <td>520.0</td>\n",
              "      <td>473.0</td>\n",
              "      <td>2018-07-18</td>\n",
              "    </tr>\n",
              "    <tr>\n",
              "      <th>1</th>\n",
              "      <td>07:27:14.078</td>\n",
              "      <td>64.0</td>\n",
              "      <td>13216.0</td>\n",
              "      <td>NaN</td>\n",
              "      <td>NaN</td>\n",
              "      <td>NaN</td>\n",
              "      <td>409.0</td>\n",
              "      <td>409.0</td>\n",
              "      <td>NaN</td>\n",
              "      <td>3030.0</td>\n",
              "      <td>NaN</td>\n",
              "      <td>410.0</td>\n",
              "      <td>NaN</td>\n",
              "      <td>NaN</td>\n",
              "      <td>337.0</td>\n",
              "      <td>NaN</td>\n",
              "      <td>NaN</td>\n",
              "      <td>NaN</td>\n",
              "      <td>NaN</td>\n",
              "      <td>NaN</td>\n",
              "      <td>NaN</td>\n",
              "      <td>1032.0</td>\n",
              "      <td>NaN</td>\n",
              "      <td>NaN</td>\n",
              "      <td>NaN</td>\n",
              "      <td>NaN</td>\n",
              "      <td>2018-07-18</td>\n",
              "    </tr>\n",
              "    <tr>\n",
              "      <th>2</th>\n",
              "      <td>07:27:14.110</td>\n",
              "      <td>NaN</td>\n",
              "      <td>NaN</td>\n",
              "      <td>NaN</td>\n",
              "      <td>NaN</td>\n",
              "      <td>NaN</td>\n",
              "      <td>NaN</td>\n",
              "      <td>NaN</td>\n",
              "      <td>NaN</td>\n",
              "      <td>NaN</td>\n",
              "      <td>NaN</td>\n",
              "      <td>NaN</td>\n",
              "      <td>NaN</td>\n",
              "      <td>NaN</td>\n",
              "      <td>NaN</td>\n",
              "      <td>320.0</td>\n",
              "      <td>NaN</td>\n",
              "      <td>NaN</td>\n",
              "      <td>NaN</td>\n",
              "      <td>181.0</td>\n",
              "      <td>50.0</td>\n",
              "      <td>NaN</td>\n",
              "      <td>253.0</td>\n",
              "      <td>2725.0</td>\n",
              "      <td>520.0</td>\n",
              "      <td>796.0</td>\n",
              "      <td>2018-07-18</td>\n",
              "    </tr>\n",
              "    <tr>\n",
              "      <th>3</th>\n",
              "      <td>07:27:14.125</td>\n",
              "      <td>64.0</td>\n",
              "      <td>13216.0</td>\n",
              "      <td>NaN</td>\n",
              "      <td>NaN</td>\n",
              "      <td>NaN</td>\n",
              "      <td>411.0</td>\n",
              "      <td>411.0</td>\n",
              "      <td>NaN</td>\n",
              "      <td>NaN</td>\n",
              "      <td>3229.0</td>\n",
              "      <td>409.0</td>\n",
              "      <td>936.000</td>\n",
              "      <td>NaN</td>\n",
              "      <td>NaN</td>\n",
              "      <td>NaN</td>\n",
              "      <td>NaN</td>\n",
              "      <td>NaN</td>\n",
              "      <td>NaN</td>\n",
              "      <td>NaN</td>\n",
              "      <td>NaN</td>\n",
              "      <td>1034.0</td>\n",
              "      <td>NaN</td>\n",
              "      <td>NaN</td>\n",
              "      <td>NaN</td>\n",
              "      <td>NaN</td>\n",
              "      <td>2018-07-18</td>\n",
              "    </tr>\n",
              "    <tr>\n",
              "      <th>4</th>\n",
              "      <td>07:27:14.188</td>\n",
              "      <td>NaN</td>\n",
              "      <td>NaN</td>\n",
              "      <td>NaN</td>\n",
              "      <td>NaN</td>\n",
              "      <td>NaN</td>\n",
              "      <td>NaN</td>\n",
              "      <td>NaN</td>\n",
              "      <td>NaN</td>\n",
              "      <td>3030.0</td>\n",
              "      <td>3230.0</td>\n",
              "      <td>NaN</td>\n",
              "      <td>NaN</td>\n",
              "      <td>NaN</td>\n",
              "      <td>337.0</td>\n",
              "      <td>NaN</td>\n",
              "      <td>NaN</td>\n",
              "      <td>NaN</td>\n",
              "      <td>NaN</td>\n",
              "      <td>NaN</td>\n",
              "      <td>NaN</td>\n",
              "      <td>NaN</td>\n",
              "      <td>NaN</td>\n",
              "      <td>2728.0</td>\n",
              "      <td>NaN</td>\n",
              "      <td>796.0</td>\n",
              "      <td>2018-07-18</td>\n",
              "    </tr>\n",
              "  </tbody>\n",
              "</table>\n",
              "</div>"
            ],
            "text/plain": [
              "  DownloadDateTime  BaseFuel  ...  TransientThrottleEnrichSensitivity   filename\n",
              "0     07:27:14.000      68.0  ...                               473.0 2018-07-18\n",
              "1     07:27:14.078      64.0  ...                                 NaN 2018-07-18\n",
              "2     07:27:14.110       NaN  ...                               796.0 2018-07-18\n",
              "3     07:27:14.125      64.0  ...                                 NaN 2018-07-18\n",
              "4     07:27:14.188       NaN  ...                               796.0 2018-07-18\n",
              "\n",
              "[5 rows x 27 columns]"
            ]
          },
          "metadata": {
            "tags": []
          },
          "execution_count": 81
        }
      ]
    },
    {
      "cell_type": "code",
      "metadata": {
        "id": "J4s1h1hA1HP3"
      },
      "source": [
        "column_means = frame.mean()"
      ],
      "execution_count": null,
      "outputs": []
    },
    {
      "cell_type": "code",
      "metadata": {
        "id": "RWIDIPCA1HTX",
        "outputId": "bf10ab79-524e-4244-c5a3-25976757e662",
        "colab": {
          "base_uri": "https://localhost:8080/"
        }
      },
      "source": [
        "column_means"
      ],
      "execution_count": 145,
      "outputs": [
        {
          "output_type": "execute_result",
          "data": {
            "text/plain": [
              "BaseFuel                                 41.002821\n",
              "BaseIgnition                          12801.802072\n",
              "TargetAFR                              1217.638139\n",
              "FuelCoolantTempCorrection               140.526026\n",
              "FuelAirTempCorrection                    59.485063\n",
              "ThrottlePosition                        417.887588\n",
              "AirTemp                                 447.926668\n",
              "CoolantTemp                            3513.193587\n",
              "LambdaSensor1                          2841.253829\n",
              "RPM                                    3435.412298\n",
              "Load                                    435.118930\n",
              "BatteryVoltage                         1003.145171\n",
              "EngineRunningTime                        44.277446\n",
              "DeltaLoad                               408.121320\n",
              "MAPSource                               307.981676\n",
              "TransientThrottleLoadSource             830.809047\n",
              "IgnitionLoad                            421.798120\n",
              "AFRDifference                            26.986091\n",
              "IgnitionTiming                          134.174631\n",
              "CurrentDutyCycle                         21.006687\n",
              "ShiftLight1                            1795.561089\n",
              "IgnitionCoolantTempCorrection            93.415849\n",
              "IgnitionAirTempCorrection              2027.721582\n",
              "TransientThrottleAccelCoolantCorr       814.587460\n",
              "TransientThrottleEnrichSensitivity      690.744717\n",
              "dtype: float64"
            ]
          },
          "metadata": {
            "tags": []
          },
          "execution_count": 145
        }
      ]
    },
    {
      "cell_type": "code",
      "metadata": {
        "id": "Un5-eJd1FFi0"
      },
      "source": [
        "frame = frame.fillna(column_means)"
      ],
      "execution_count": 146,
      "outputs": []
    },
    {
      "cell_type": "code",
      "metadata": {
        "id": "y2KSUlz7FTCP",
        "outputId": "a48756ee-3e31-4da5-9f28-76b1ff09ac55",
        "colab": {
          "base_uri": "https://localhost:8080/"
        }
      },
      "source": [
        "frame.isnull().sum()"
      ],
      "execution_count": 147,
      "outputs": [
        {
          "output_type": "execute_result",
          "data": {
            "text/plain": [
              "DownloadDateTime                      0\n",
              "BaseFuel                              0\n",
              "BaseIgnition                          0\n",
              "TargetAFR                             0\n",
              "FuelCoolantTempCorrection             0\n",
              "FuelAirTempCorrection                 0\n",
              "ThrottlePosition                      0\n",
              "AirTemp                               0\n",
              "CoolantTemp                           0\n",
              "LambdaSensor1                         0\n",
              "RPM                                   0\n",
              "Load                                  0\n",
              "BatteryVoltage                        0\n",
              "EngineRunningTime                     0\n",
              "DeltaLoad                             0\n",
              "MAPSource                             0\n",
              "TransientThrottleLoadSource           0\n",
              "IgnitionLoad                          0\n",
              "AFRDifference                         0\n",
              "IgnitionTiming                        0\n",
              "CurrentDutyCycle                      0\n",
              "ShiftLight1                           0\n",
              "IgnitionCoolantTempCorrection         0\n",
              "IgnitionAirTempCorrection             0\n",
              "TransientThrottleAccelCoolantCorr     0\n",
              "TransientThrottleEnrichSensitivity    0\n",
              "filename                              0\n",
              "dtype: int64"
            ]
          },
          "metadata": {
            "tags": []
          },
          "execution_count": 147
        }
      ]
    },
    {
      "cell_type": "code",
      "metadata": {
        "id": "aF50MHOHFZnP",
        "outputId": "ca2db2c1-c3bd-4a8f-83de-33b923887fd7",
        "colab": {
          "base_uri": "https://localhost:8080/",
          "height": 304
        }
      },
      "source": [
        "frame.describe()"
      ],
      "execution_count": 148,
      "outputs": [
        {
          "output_type": "execute_result",
          "data": {
            "text/html": [
              "<div>\n",
              "<style scoped>\n",
              "    .dataframe tbody tr th:only-of-type {\n",
              "        vertical-align: middle;\n",
              "    }\n",
              "\n",
              "    .dataframe tbody tr th {\n",
              "        vertical-align: top;\n",
              "    }\n",
              "\n",
              "    .dataframe thead th {\n",
              "        text-align: right;\n",
              "    }\n",
              "</style>\n",
              "<table border=\"1\" class=\"dataframe\">\n",
              "  <thead>\n",
              "    <tr style=\"text-align: right;\">\n",
              "      <th></th>\n",
              "      <th>BaseFuel</th>\n",
              "      <th>BaseIgnition</th>\n",
              "      <th>TargetAFR</th>\n",
              "      <th>FuelCoolantTempCorrection</th>\n",
              "      <th>FuelAirTempCorrection</th>\n",
              "      <th>ThrottlePosition</th>\n",
              "      <th>AirTemp</th>\n",
              "      <th>CoolantTemp</th>\n",
              "      <th>LambdaSensor1</th>\n",
              "      <th>RPM</th>\n",
              "      <th>Load</th>\n",
              "      <th>BatteryVoltage</th>\n",
              "      <th>EngineRunningTime</th>\n",
              "      <th>DeltaLoad</th>\n",
              "      <th>MAPSource</th>\n",
              "      <th>TransientThrottleLoadSource</th>\n",
              "      <th>IgnitionLoad</th>\n",
              "      <th>AFRDifference</th>\n",
              "      <th>IgnitionTiming</th>\n",
              "      <th>CurrentDutyCycle</th>\n",
              "      <th>ShiftLight1</th>\n",
              "      <th>IgnitionCoolantTempCorrection</th>\n",
              "      <th>IgnitionAirTempCorrection</th>\n",
              "      <th>TransientThrottleAccelCoolantCorr</th>\n",
              "      <th>TransientThrottleEnrichSensitivity</th>\n",
              "    </tr>\n",
              "  </thead>\n",
              "  <tbody>\n",
              "    <tr>\n",
              "      <th>count</th>\n",
              "      <td>1.414545e+06</td>\n",
              "      <td>1.414545e+06</td>\n",
              "      <td>1.414545e+06</td>\n",
              "      <td>1.414545e+06</td>\n",
              "      <td>1.414545e+06</td>\n",
              "      <td>1.414545e+06</td>\n",
              "      <td>1.414545e+06</td>\n",
              "      <td>1.414545e+06</td>\n",
              "      <td>1.414545e+06</td>\n",
              "      <td>1.414545e+06</td>\n",
              "      <td>1.414545e+06</td>\n",
              "      <td>1.414545e+06</td>\n",
              "      <td>1.414545e+06</td>\n",
              "      <td>1.414545e+06</td>\n",
              "      <td>1.414545e+06</td>\n",
              "      <td>1.414545e+06</td>\n",
              "      <td>1.414545e+06</td>\n",
              "      <td>1.414545e+06</td>\n",
              "      <td>1.414545e+06</td>\n",
              "      <td>1.414545e+06</td>\n",
              "      <td>1.414545e+06</td>\n",
              "      <td>1.414545e+06</td>\n",
              "      <td>1.414545e+06</td>\n",
              "      <td>1.414545e+06</td>\n",
              "      <td>1.414545e+06</td>\n",
              "    </tr>\n",
              "    <tr>\n",
              "      <th>mean</th>\n",
              "      <td>4.100282e+01</td>\n",
              "      <td>1.280180e+04</td>\n",
              "      <td>1.217638e+03</td>\n",
              "      <td>1.405260e+02</td>\n",
              "      <td>5.948506e+01</td>\n",
              "      <td>4.178876e+02</td>\n",
              "      <td>4.479267e+02</td>\n",
              "      <td>3.513194e+03</td>\n",
              "      <td>2.841254e+03</td>\n",
              "      <td>3.435412e+03</td>\n",
              "      <td>4.351189e+02</td>\n",
              "      <td>1.003145e+03</td>\n",
              "      <td>4.427745e+01</td>\n",
              "      <td>4.081213e+02</td>\n",
              "      <td>3.079817e+02</td>\n",
              "      <td>8.308090e+02</td>\n",
              "      <td>4.217981e+02</td>\n",
              "      <td>2.698609e+01</td>\n",
              "      <td>1.341746e+02</td>\n",
              "      <td>2.100669e+01</td>\n",
              "      <td>1.795561e+03</td>\n",
              "      <td>9.341585e+01</td>\n",
              "      <td>2.027722e+03</td>\n",
              "      <td>8.145875e+02</td>\n",
              "      <td>6.907447e+02</td>\n",
              "    </tr>\n",
              "    <tr>\n",
              "      <th>std</th>\n",
              "      <td>6.899447e+01</td>\n",
              "      <td>3.192577e+02</td>\n",
              "      <td>2.889232e+02</td>\n",
              "      <td>3.502493e+01</td>\n",
              "      <td>3.031156e+01</td>\n",
              "      <td>1.517661e+02</td>\n",
              "      <td>1.445165e+02</td>\n",
              "      <td>1.109295e+01</td>\n",
              "      <td>4.940003e+02</td>\n",
              "      <td>8.597339e+01</td>\n",
              "      <td>1.389434e+02</td>\n",
              "      <td>8.094317e+01</td>\n",
              "      <td>3.123487e+01</td>\n",
              "      <td>9.540829e+01</td>\n",
              "      <td>3.090886e+01</td>\n",
              "      <td>1.795689e+02</td>\n",
              "      <td>4.359818e+01</td>\n",
              "      <td>1.925053e+01</td>\n",
              "      <td>1.326101e+01</td>\n",
              "      <td>4.375000e+00</td>\n",
              "      <td>6.304240e+02</td>\n",
              "      <td>3.006191e+01</td>\n",
              "      <td>5.113250e+02</td>\n",
              "      <td>5.861012e+01</td>\n",
              "      <td>7.927777e+01</td>\n",
              "    </tr>\n",
              "    <tr>\n",
              "      <th>min</th>\n",
              "      <td>-3.540000e+01</td>\n",
              "      <td>1.199600e+04</td>\n",
              "      <td>0.000000e+00</td>\n",
              "      <td>4.470000e+01</td>\n",
              "      <td>0.000000e+00</td>\n",
              "      <td>3.240000e+01</td>\n",
              "      <td>1.650000e+02</td>\n",
              "      <td>3.316000e+03</td>\n",
              "      <td>1.333280e+03</td>\n",
              "      <td>3.223000e+03</td>\n",
              "      <td>1.650000e+02</td>\n",
              "      <td>8.276520e+02</td>\n",
              "      <td>0.000000e+00</td>\n",
              "      <td>2.560000e+02</td>\n",
              "      <td>2.330000e+02</td>\n",
              "      <td>0.000000e+00</td>\n",
              "      <td>0.000000e+00</td>\n",
              "      <td>-1.250000e+02</td>\n",
              "      <td>5.700000e+01</td>\n",
              "      <td>-6.000000e+00</td>\n",
              "      <td>0.000000e+00</td>\n",
              "      <td>0.000000e+00</td>\n",
              "      <td>1.032000e+02</td>\n",
              "      <td>5.200000e+02</td>\n",
              "      <td>4.730000e+02</td>\n",
              "    </tr>\n",
              "    <tr>\n",
              "      <th>25%</th>\n",
              "      <td>-1.100000e+01</td>\n",
              "      <td>1.265200e+04</td>\n",
              "      <td>1.217638e+03</td>\n",
              "      <td>1.340000e+02</td>\n",
              "      <td>3.600000e+01</td>\n",
              "      <td>3.270000e+02</td>\n",
              "      <td>3.350000e+02</td>\n",
              "      <td>3.513194e+03</td>\n",
              "      <td>2.841254e+03</td>\n",
              "      <td>3.435412e+03</td>\n",
              "      <td>3.290000e+02</td>\n",
              "      <td>9.520000e+02</td>\n",
              "      <td>3.600000e+01</td>\n",
              "      <td>3.360000e+02</td>\n",
              "      <td>3.010000e+02</td>\n",
              "      <td>8.308090e+02</td>\n",
              "      <td>4.217981e+02</td>\n",
              "      <td>2.698609e+01</td>\n",
              "      <td>1.341746e+02</td>\n",
              "      <td>2.100669e+01</td>\n",
              "      <td>1.242000e+03</td>\n",
              "      <td>9.341585e+01</td>\n",
              "      <td>1.645000e+03</td>\n",
              "      <td>8.145875e+02</td>\n",
              "      <td>6.450000e+02</td>\n",
              "    </tr>\n",
              "    <tr>\n",
              "      <th>50%</th>\n",
              "      <td>2.700000e+01</td>\n",
              "      <td>1.282500e+04</td>\n",
              "      <td>1.217638e+03</td>\n",
              "      <td>1.405260e+02</td>\n",
              "      <td>5.948506e+01</td>\n",
              "      <td>4.178876e+02</td>\n",
              "      <td>4.479267e+02</td>\n",
              "      <td>3.513194e+03</td>\n",
              "      <td>2.841254e+03</td>\n",
              "      <td>3.435412e+03</td>\n",
              "      <td>4.190000e+02</td>\n",
              "      <td>9.940000e+02</td>\n",
              "      <td>4.427745e+01</td>\n",
              "      <td>4.081213e+02</td>\n",
              "      <td>3.079817e+02</td>\n",
              "      <td>8.308090e+02</td>\n",
              "      <td>4.217981e+02</td>\n",
              "      <td>2.698609e+01</td>\n",
              "      <td>1.341746e+02</td>\n",
              "      <td>2.100669e+01</td>\n",
              "      <td>1.795561e+03</td>\n",
              "      <td>9.341585e+01</td>\n",
              "      <td>2.027722e+03</td>\n",
              "      <td>8.145875e+02</td>\n",
              "      <td>6.907447e+02</td>\n",
              "    </tr>\n",
              "    <tr>\n",
              "      <th>75%</th>\n",
              "      <td>6.800000e+01</td>\n",
              "      <td>1.304300e+04</td>\n",
              "      <td>1.217638e+03</td>\n",
              "      <td>1.500000e+02</td>\n",
              "      <td>5.948506e+01</td>\n",
              "      <td>4.980000e+02</td>\n",
              "      <td>5.210000e+02</td>\n",
              "      <td>3.513194e+03</td>\n",
              "      <td>3.167000e+03</td>\n",
              "      <td>3.435412e+03</td>\n",
              "      <td>5.130000e+02</td>\n",
              "      <td>1.039000e+03</td>\n",
              "      <td>4.427745e+01</td>\n",
              "      <td>4.820000e+02</td>\n",
              "      <td>3.200000e+02</td>\n",
              "      <td>8.308090e+02</td>\n",
              "      <td>4.217981e+02</td>\n",
              "      <td>2.698609e+01</td>\n",
              "      <td>1.341746e+02</td>\n",
              "      <td>2.100669e+01</td>\n",
              "      <td>2.200000e+03</td>\n",
              "      <td>9.341585e+01</td>\n",
              "      <td>2.521000e+03</td>\n",
              "      <td>8.145875e+02</td>\n",
              "      <td>7.630000e+02</td>\n",
              "    </tr>\n",
              "    <tr>\n",
              "      <th>max</th>\n",
              "      <td>2.010000e+02</td>\n",
              "      <td>1.352800e+04</td>\n",
              "      <td>3.201000e+03</td>\n",
              "      <td>2.490000e+02</td>\n",
              "      <td>1.680000e+02</td>\n",
              "      <td>8.120000e+02</td>\n",
              "      <td>8.020000e+02</td>\n",
              "      <td>3.619000e+03</td>\n",
              "      <td>3.455000e+03</td>\n",
              "      <td>3.653170e+03</td>\n",
              "      <td>8.190000e+02</td>\n",
              "      <td>1.178000e+03</td>\n",
              "      <td>1.710000e+02</td>\n",
              "      <td>7.584000e+02</td>\n",
              "      <td>3.810000e+02</td>\n",
              "      <td>1.088000e+03</td>\n",
              "      <td>7.960000e+02</td>\n",
              "      <td>1.860000e+02</td>\n",
              "      <td>2.140000e+02</td>\n",
              "      <td>5.000000e+01</td>\n",
              "      <td>3.477000e+03</td>\n",
              "      <td>2.530000e+02</td>\n",
              "      <td>2.750000e+03</td>\n",
              "      <td>1.000000e+03</td>\n",
              "      <td>8.000000e+02</td>\n",
              "    </tr>\n",
              "  </tbody>\n",
              "</table>\n",
              "</div>"
            ],
            "text/plain": [
              "           BaseFuel  ...  TransientThrottleEnrichSensitivity\n",
              "count  1.414545e+06  ...                        1.414545e+06\n",
              "mean   4.100282e+01  ...                        6.907447e+02\n",
              "std    6.899447e+01  ...                        7.927777e+01\n",
              "min   -3.540000e+01  ...                        4.730000e+02\n",
              "25%   -1.100000e+01  ...                        6.450000e+02\n",
              "50%    2.700000e+01  ...                        6.907447e+02\n",
              "75%    6.800000e+01  ...                        7.630000e+02\n",
              "max    2.010000e+02  ...                        8.000000e+02\n",
              "\n",
              "[8 rows x 25 columns]"
            ]
          },
          "metadata": {
            "tags": []
          },
          "execution_count": 148
        }
      ]
    },
    {
      "cell_type": "code",
      "metadata": {
        "id": "ZqfWgrpvFbUn",
        "outputId": "2030a524-8ef8-4557-8641-2958df0126c8",
        "colab": {
          "base_uri": "https://localhost:8080/"
        }
      },
      "source": [
        "frame.info()"
      ],
      "execution_count": 149,
      "outputs": [
        {
          "output_type": "stream",
          "text": [
            "<class 'pandas.core.frame.DataFrame'>\n",
            "RangeIndex: 1414545 entries, 0 to 1414544\n",
            "Data columns (total 27 columns):\n",
            " #   Column                              Non-Null Count    Dtype         \n",
            "---  ------                              --------------    -----         \n",
            " 0   DownloadDateTime                    1414545 non-null  object        \n",
            " 1   BaseFuel                            1414545 non-null  float64       \n",
            " 2   BaseIgnition                        1414545 non-null  float64       \n",
            " 3   TargetAFR                           1414545 non-null  float64       \n",
            " 4   FuelCoolantTempCorrection           1414545 non-null  float64       \n",
            " 5   FuelAirTempCorrection               1414545 non-null  float64       \n",
            " 6   ThrottlePosition                    1414545 non-null  float64       \n",
            " 7   AirTemp                             1414545 non-null  float64       \n",
            " 8   CoolantTemp                         1414545 non-null  float64       \n",
            " 9   LambdaSensor1                       1414545 non-null  float64       \n",
            " 10  RPM                                 1414545 non-null  float64       \n",
            " 11  Load                                1414545 non-null  float64       \n",
            " 12  BatteryVoltage                      1414545 non-null  float64       \n",
            " 13  EngineRunningTime                   1414545 non-null  float64       \n",
            " 14  DeltaLoad                           1414545 non-null  float64       \n",
            " 15  MAPSource                           1414545 non-null  float64       \n",
            " 16  TransientThrottleLoadSource         1414545 non-null  float64       \n",
            " 17  IgnitionLoad                        1414545 non-null  float64       \n",
            " 18  AFRDifference                       1414545 non-null  float64       \n",
            " 19  IgnitionTiming                      1414545 non-null  float64       \n",
            " 20  CurrentDutyCycle                    1414545 non-null  float64       \n",
            " 21  ShiftLight1                         1414545 non-null  float64       \n",
            " 22  IgnitionCoolantTempCorrection       1414545 non-null  float64       \n",
            " 23  IgnitionAirTempCorrection           1414545 non-null  float64       \n",
            " 24  TransientThrottleAccelCoolantCorr   1414545 non-null  float64       \n",
            " 25  TransientThrottleEnrichSensitivity  1414545 non-null  float64       \n",
            " 26  filename                            1414545 non-null  datetime64[ns]\n",
            "dtypes: datetime64[ns](1), float64(25), object(1)\n",
            "memory usage: 291.4+ MB\n"
          ],
          "name": "stdout"
        }
      ]
    },
    {
      "cell_type": "code",
      "metadata": {
        "id": "0ZfV9S2gFgtj",
        "outputId": "4897c499-131a-4678-f55a-f9a2b3e3b4ac",
        "colab": {
          "base_uri": "https://localhost:8080/",
          "height": 299
        }
      },
      "source": [
        "frame.head()"
      ],
      "execution_count": 96,
      "outputs": [
        {
          "output_type": "execute_result",
          "data": {
            "text/html": [
              "<div>\n",
              "<style scoped>\n",
              "    .dataframe tbody tr th:only-of-type {\n",
              "        vertical-align: middle;\n",
              "    }\n",
              "\n",
              "    .dataframe tbody tr th {\n",
              "        vertical-align: top;\n",
              "    }\n",
              "\n",
              "    .dataframe thead th {\n",
              "        text-align: right;\n",
              "    }\n",
              "</style>\n",
              "<table border=\"1\" class=\"dataframe\">\n",
              "  <thead>\n",
              "    <tr style=\"text-align: right;\">\n",
              "      <th></th>\n",
              "      <th>DownloadDateTime</th>\n",
              "      <th>BaseFuel</th>\n",
              "      <th>BaseIgnition</th>\n",
              "      <th>TargetAFR</th>\n",
              "      <th>FuelCoolantTempCorrection</th>\n",
              "      <th>FuelAirTempCorrection</th>\n",
              "      <th>ThrottlePosition</th>\n",
              "      <th>AirTemp</th>\n",
              "      <th>CoolantTemp</th>\n",
              "      <th>LambdaSensor1</th>\n",
              "      <th>RPM</th>\n",
              "      <th>Load</th>\n",
              "      <th>BatteryVoltage</th>\n",
              "      <th>EngineRunningTime</th>\n",
              "      <th>DeltaLoad</th>\n",
              "      <th>MAPSource</th>\n",
              "      <th>TransientThrottleLoadSource</th>\n",
              "      <th>IgnitionLoad</th>\n",
              "      <th>AFRDifference</th>\n",
              "      <th>IgnitionTiming</th>\n",
              "      <th>CurrentDutyCycle</th>\n",
              "      <th>ShiftLight1</th>\n",
              "      <th>IgnitionCoolantTempCorrection</th>\n",
              "      <th>IgnitionAirTempCorrection</th>\n",
              "      <th>TransientThrottleAccelCoolantCorr</th>\n",
              "      <th>TransientThrottleEnrichSensitivity</th>\n",
              "      <th>filename</th>\n",
              "    </tr>\n",
              "  </thead>\n",
              "  <tbody>\n",
              "    <tr>\n",
              "      <th>0</th>\n",
              "      <td>07:27:14.000</td>\n",
              "      <td>68.000000</td>\n",
              "      <td>1680.000000</td>\n",
              "      <td>22.800000</td>\n",
              "      <td>4.200000</td>\n",
              "      <td>6.300000</td>\n",
              "      <td>2.100000</td>\n",
              "      <td>63.9</td>\n",
              "      <td>0.000000</td>\n",
              "      <td>260.1</td>\n",
              "      <td>332.1</td>\n",
              "      <td>63.6</td>\n",
              "      <td>0.000000</td>\n",
              "      <td>0.0</td>\n",
              "      <td>-0.300000</td>\n",
              "      <td>0.000000</td>\n",
              "      <td>1.200000</td>\n",
              "      <td>0.000000</td>\n",
              "      <td>-84.000000</td>\n",
              "      <td>0.000000</td>\n",
              "      <td>-2.400000</td>\n",
              "      <td>274.200000</td>\n",
              "      <td>0.000000</td>\n",
              "      <td>0.000000</td>\n",
              "      <td>0.000000</td>\n",
              "      <td>0.000000</td>\n",
              "      <td>2018-07-18</td>\n",
              "    </tr>\n",
              "    <tr>\n",
              "      <th>1</th>\n",
              "      <td>07:27:14.078</td>\n",
              "      <td>64.000000</td>\n",
              "      <td>1680.000000</td>\n",
              "      <td>22.784985</td>\n",
              "      <td>4.119612</td>\n",
              "      <td>6.291049</td>\n",
              "      <td>2.100000</td>\n",
              "      <td>63.9</td>\n",
              "      <td>988.641295</td>\n",
              "      <td>260.1</td>\n",
              "      <td>332.1</td>\n",
              "      <td>63.6</td>\n",
              "      <td>247.791691</td>\n",
              "      <td>0.0</td>\n",
              "      <td>-0.300000</td>\n",
              "      <td>58.797336</td>\n",
              "      <td>1.199982</td>\n",
              "      <td>61.117092</td>\n",
              "      <td>-90.213055</td>\n",
              "      <td>5.592642</td>\n",
              "      <td>-2.565979</td>\n",
              "      <td>274.200000</td>\n",
              "      <td>0.596753</td>\n",
              "      <td>257.986631</td>\n",
              "      <td>101.983928</td>\n",
              "      <td>141.894446</td>\n",
              "      <td>2018-07-18</td>\n",
              "    </tr>\n",
              "    <tr>\n",
              "      <th>2</th>\n",
              "      <td>07:27:14.110</td>\n",
              "      <td>55.800291</td>\n",
              "      <td>1600.974182</td>\n",
              "      <td>22.784985</td>\n",
              "      <td>4.119612</td>\n",
              "      <td>6.291049</td>\n",
              "      <td>2.099937</td>\n",
              "      <td>63.9</td>\n",
              "      <td>988.641295</td>\n",
              "      <td>260.1</td>\n",
              "      <td>332.1</td>\n",
              "      <td>63.6</td>\n",
              "      <td>247.791691</td>\n",
              "      <td>0.0</td>\n",
              "      <td>-0.316058</td>\n",
              "      <td>58.800000</td>\n",
              "      <td>1.199982</td>\n",
              "      <td>61.117092</td>\n",
              "      <td>-90.213055</td>\n",
              "      <td>5.700000</td>\n",
              "      <td>-2.400000</td>\n",
              "      <td>274.191694</td>\n",
              "      <td>0.600000</td>\n",
              "      <td>258.000000</td>\n",
              "      <td>102.000000</td>\n",
              "      <td>141.900000</td>\n",
              "      <td>2018-07-18</td>\n",
              "    </tr>\n",
              "    <tr>\n",
              "      <th>3</th>\n",
              "      <td>07:27:14.125</td>\n",
              "      <td>64.000000</td>\n",
              "      <td>1680.000000</td>\n",
              "      <td>22.784985</td>\n",
              "      <td>4.119612</td>\n",
              "      <td>6.291049</td>\n",
              "      <td>2.100000</td>\n",
              "      <td>63.9</td>\n",
              "      <td>988.641295</td>\n",
              "      <td>260.1</td>\n",
              "      <td>332.1</td>\n",
              "      <td>63.6</td>\n",
              "      <td>247.800000</td>\n",
              "      <td>0.0</td>\n",
              "      <td>-0.316058</td>\n",
              "      <td>58.797336</td>\n",
              "      <td>1.199982</td>\n",
              "      <td>61.117092</td>\n",
              "      <td>-90.213055</td>\n",
              "      <td>5.592642</td>\n",
              "      <td>-2.565979</td>\n",
              "      <td>274.200000</td>\n",
              "      <td>0.596753</td>\n",
              "      <td>257.986631</td>\n",
              "      <td>101.983928</td>\n",
              "      <td>141.894446</td>\n",
              "      <td>2018-07-18</td>\n",
              "    </tr>\n",
              "    <tr>\n",
              "      <th>4</th>\n",
              "      <td>07:27:14.188</td>\n",
              "      <td>55.800291</td>\n",
              "      <td>1600.974182</td>\n",
              "      <td>22.784985</td>\n",
              "      <td>4.119612</td>\n",
              "      <td>6.291049</td>\n",
              "      <td>2.099937</td>\n",
              "      <td>63.9</td>\n",
              "      <td>988.641295</td>\n",
              "      <td>260.1</td>\n",
              "      <td>332.1</td>\n",
              "      <td>63.6</td>\n",
              "      <td>247.791691</td>\n",
              "      <td>0.0</td>\n",
              "      <td>-0.300000</td>\n",
              "      <td>58.797336</td>\n",
              "      <td>1.199982</td>\n",
              "      <td>61.117092</td>\n",
              "      <td>-90.213055</td>\n",
              "      <td>5.592642</td>\n",
              "      <td>-2.565979</td>\n",
              "      <td>274.191694</td>\n",
              "      <td>0.596753</td>\n",
              "      <td>258.000000</td>\n",
              "      <td>101.983928</td>\n",
              "      <td>141.900000</td>\n",
              "      <td>2018-07-18</td>\n",
              "    </tr>\n",
              "  </tbody>\n",
              "</table>\n",
              "</div>"
            ],
            "text/plain": [
              "  DownloadDateTime   BaseFuel  ...  TransientThrottleEnrichSensitivity   filename\n",
              "0     07:27:14.000  68.000000  ...                            0.000000 2018-07-18\n",
              "1     07:27:14.078  64.000000  ...                          141.894446 2018-07-18\n",
              "2     07:27:14.110  55.800291  ...                          141.900000 2018-07-18\n",
              "3     07:27:14.125  64.000000  ...                          141.894446 2018-07-18\n",
              "4     07:27:14.188  55.800291  ...                          141.900000 2018-07-18\n",
              "\n",
              "[5 rows x 27 columns]"
            ]
          },
          "metadata": {
            "tags": []
          },
          "execution_count": 96
        }
      ]
    },
    {
      "cell_type": "code",
      "metadata": {
        "id": "tYXC6a29GO7F"
      },
      "source": [
        "import seaborn as sns\n",
        "from matplotlib import pyplot as plt"
      ],
      "execution_count": 150,
      "outputs": []
    },
    {
      "cell_type": "code",
      "metadata": {
        "id": "r56jaM5pU66Q",
        "outputId": "816f4309-734c-4da7-d327-1df73d7da58d",
        "colab": {
          "base_uri": "https://localhost:8080/",
          "height": 352
        }
      },
      "source": [
        "plt.figure(figsize=(10,5))\n",
        "#plt.ylim(-10,100)\n",
        "#plt.xlim(2018,2019)\n",
        "#x_dates = frame['filename'].dt.strftime('%Y-%m-%d').sort_values().unique()\n",
        "sns.lineplot(x='filename',y='BaseFuel',data=frame)"
      ],
      "execution_count": 151,
      "outputs": [
        {
          "output_type": "execute_result",
          "data": {
            "text/plain": [
              "<matplotlib.axes._subplots.AxesSubplot at 0x7f3e1003eda0>"
            ]
          },
          "metadata": {
            "tags": []
          },
          "execution_count": 151
        },
        {
          "output_type": "display_data",
          "data": {
            "image/png": "[encoded data removed]",
            "text/plain": [
              "<Figure size 720x360 with 1 Axes>"
            ]
          },
          "metadata": {
            "tags": [],
            "needs_background": "light"
          }
        }
      ]
    },
    {
      "cell_type": "code",
      "metadata": {
        "id": "0Dz5S0w0R97C",
        "outputId": "e5104ab0-9319-47fb-deb4-d7ba6796c2ca",
        "colab": {
          "base_uri": "https://localhost:8080/",
          "height": 454
        }
      },
      "source": [
        "fig, ax = plt.subplots(figsize = (12,6))    \n",
        "fig = sns.barplot(x = \"filename\", y = \"BaseIgnition\", data = frame, \n",
        "                  estimator = sum, ci = None, ax=ax)\n",
        "\n",
        "x_dates = frame['filename'].dt.strftime('%Y-%m-%d').sort_values().unique()\n",
        "ax.set_xticklabels(labels=x_dates, rotation=45, ha='right')\n",
        "ax.set(xlabel='date', ylabel='Base Ignition')"
      ],
      "execution_count": 152,
      "outputs": [
        {
          "output_type": "execute_result",
          "data": {
            "text/plain": [
              "[Text(0, 0.5, 'Base Ignition'), Text(0.5, 0, 'date')]"
            ]
          },
          "metadata": {
            "tags": []
          },
          "execution_count": 152
        },
        {
          "output_type": "display_data",
          "data": {
            "image/png": "[encoded data removed]",
            "text/plain": [
              "<Figure size 864x432 with 1 Axes>"
            ]
          },
          "metadata": {
            "tags": [],
            "needs_background": "light"
          }
        }
      ]
    },
    {
      "cell_type": "code",
      "metadata": {
        "id": "ULEr4tmfVthG",
        "outputId": "abf890cd-b5ce-4303-c591-7157b77e47fd",
        "colab": {
          "base_uri": "https://localhost:8080/",
          "height": 352
        }
      },
      "source": [
        "plt.figure(figsize=(10,5))\n",
        "sns.lineplot(x='filename',y='BaseIgnition',data=frame)"
      ],
      "execution_count": 153,
      "outputs": [
        {
          "output_type": "execute_result",
          "data": {
            "text/plain": [
              "<matplotlib.axes._subplots.AxesSubplot at 0x7f3e04f21160>"
            ]
          },
          "metadata": {
            "tags": []
          },
          "execution_count": 153
        },
        {
          "output_type": "display_data",
          "data": {
            "image/png": "[encoded data removed]",
            "text/plain": [
              "<Figure size 720x360 with 1 Axes>"
            ]
          },
          "metadata": {
            "tags": [],
            "needs_background": "light"
          }
        }
      ]
    },
    {
      "cell_type": "code",
      "metadata": {
        "id": "Fwt96BbjWv0N",
        "outputId": "e565b0aa-f0bd-44fb-c679-2616de1eae07",
        "colab": {
          "base_uri": "https://localhost:8080/",
          "height": 454
        }
      },
      "source": [
        "fig, ax = plt.subplots(figsize = (12,6))    \n",
        "fig = sns.barplot(x = \"filename\", y = \"BaseFuel\", data = frame, \n",
        "                  estimator = sum, ci = None, ax=ax)\n",
        "\n",
        "x_dates = frame['filename'].dt.strftime('%Y-%m-%d').sort_values().unique()\n",
        "ax.set_xticklabels(labels=x_dates, rotation=45, ha='right')\n",
        "ax.set(xlabel='date', ylabel='Base Fuel')"
      ],
      "execution_count": 154,
      "outputs": [
        {
          "output_type": "execute_result",
          "data": {
            "text/plain": [
              "[Text(0, 0.5, 'Base Fuel'), Text(0.5, 0, 'date')]"
            ]
          },
          "metadata": {
            "tags": []
          },
          "execution_count": 154
        },
        {
          "output_type": "display_data",
          "data": {
            "image/png": "[encoded data removed]",
            "text/plain": [
              "<Figure size 864x432 with 1 Axes>"
            ]
          },
          "metadata": {
            "tags": [],
            "needs_background": "light"
          }
        }
      ]
    },
    {
      "cell_type": "code",
      "metadata": {
        "id": "eaS16cY1d8kv"
      },
      "source": [
        ""
      ],
      "execution_count": 154,
      "outputs": []
    },
    {
      "cell_type": "code",
      "metadata": {
        "id": "TSaKQXsw_u6i"
      },
      "source": [
        ""
      ],
      "execution_count": 154,
      "outputs": []
    },
    {
      "cell_type": "code",
      "metadata": {
        "id": "urM9kpGoHuYk"
      },
      "source": [
        ""
      ],
      "execution_count": null,
      "outputs": []
    }
  ]
}